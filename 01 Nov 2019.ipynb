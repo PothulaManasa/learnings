{
 "cells": [
  {
   "cell_type": "code",
   "execution_count": 77,
   "metadata": {},
   "outputs": [
    {
     "name": "stdout",
     "output_type": "stream",
     "text": [
      "[1, 4, 9, 16, 25]\n",
      "[1, 9, 25, 49, 81]\n",
      "[0, 0]\n",
      "[1, 1]\n",
      "[4, 8]\n",
      "[9, 27]\n",
      "[16, 64]\n",
      "[4, 16, 36, 64]\n",
      "<map object at 0x0000022713D71D30>\n",
      "1 1\n",
      "2 4\n",
      "3 9\n",
      "1 2 3\n",
      "4 5 6\n",
      "7 8 9\n",
      "1 2 3\n",
      "[[1, 2, 3], [4, 5, 6], [7, 8, 9], [1, 2, 3]]\n"
     ]
    }
   ],
   "source": [
    "#Maps Concept:\n",
    "#Squaring all the numbers in a list using a for loop:\n",
    "items1=[1,2,3,4,5]\n",
    "sqr=[]\n",
    "for i in items1:\n",
    "    sqr.append(i**2)\n",
    "print(sqr)\n",
    "\n",
    "#Squaring all the numbers in a list using map function:\n",
    "def sqrs(x):\n",
    "    return x**2\n",
    "items2=[1,3,5,7,9]\n",
    "print(list(map(sqrs,items2)))\n",
    "\n",
    "def cube(x):\n",
    "    return x**3\n",
    "\n",
    "func = [sqrs, cube]\n",
    "for r in range(5):\n",
    "    print(list(map(lambda x: x(r), func)))\n",
    "    \n",
    "\n",
    "#Squaring all the numbers in a list using map function and lambda concept:\n",
    "\n",
    "items3=[2,4,6,8]\n",
    "print(list(map(lambda x:x**2, items3)))\n",
    "\n",
    "pow(2,3)\n",
    "pow(3,4)\n",
    "pow(4,5)\n",
    "list(map(pow, [2,3,4],[3,4,5]))\n",
    "x=[1,2,3]\n",
    "y=[4,5,6]\n",
    "list(map(lambda x, y: x+y, x, y))\n",
    "new_tuple = map(None, m, n)\n",
    "print(new_tuple)\n",
    "m = [1,2,3]\n",
    "n = [1,4,9]\n",
    "from itertools import zip_longest\n",
    "for i,j in zip_longest(m,n):\n",
    "    print(i,j)\n",
    "arr=[]\n",
    "for _ in range(4):\n",
    "    arr.append(list(map(int, input().rstrip().split())))\n",
    "print(arr)"
   ]
  },
  {
   "cell_type": "code",
   "execution_count": 97,
   "metadata": {},
   "outputs": [
    {
     "name": "stdout",
     "output_type": "stream",
     "text": [
      "Testing shows the presence, not the absence of the bugs.\n",
      "Testing shows the presence, not the absence of the bugs.\n"
     ]
    }
   ],
   "source": [
    "#Reduce\n",
    "\n",
    "from functools import reduce\n",
    "a=[1,2,3,4]\n",
    "reduce(lambda x, y: x*y, a)\n",
    "reduce(lambda x, y: x/y, a)\n",
    "s=['Testing ', 'shows ', 'the ', 'presence', ', ', 'not ','the ', 'absence ', 'of ', 'the ', 'bugs.']\n",
    "print(reduce(lambda x, y:x+y, s))\n",
    "#Can also be done using join\n",
    "print(''.join(s))"
   ]
  },
  {
   "cell_type": "code",
   "execution_count": 88,
   "metadata": {},
   "outputs": [
    {
     "data": {
      "text/plain": [
       "[<generator object <genexpr> at 0x0000022713CB4A20>]"
      ]
     },
     "execution_count": 88,
     "metadata": {},
     "output_type": "execute_result"
    }
   ],
   "source": [
    "# Filter:\n",
    "\n",
    "m=[-1, -2, -3, -4, 0, 1, 2, 3, 4]\n",
    "list(filter(lambda x: x<0, m))\n",
    "\n",
    "n=[1,2,3,4,5,6,7,8]\n",
    "list(filter(lambda x: x in m, n))\n",
    "y=[]\n",
    "y.append(x for x in m if x in n)\n",
    "y"
   ]
  },
  {
   "cell_type": "markdown",
   "metadata": {},
   "source": [
    "Task:\n",
    "Define a class which has atleast two methods.\n",
    "\n",
    "First method need to get the details of the user like Name,Surname and Date of Birth(dd/mm/yyyy).\n",
    "Second method need to print that information like Name as Proper case and age in years.\n",
    "\n",
    "Ex:\n",
    "\n",
    "Your Name: TILAK BaBu\n",
    "Your Surname: bopparaju\n",
    "Your DoB: 28/06/1994\n",
    "\n",
    "Output: Hi Bopparaju, Tilak Babu. You're 25 years 4 Months 4 Days Old\n",
    "\n",
    "Note: We will call functions as methods when those are in Classes. Else we will call them as functions only"
   ]
  },
  {
   "cell_type": "code",
   "execution_count": null,
   "metadata": {},
   "outputs": [],
   "source": []
  },
  {
   "cell_type": "code",
   "execution_count": 55,
   "metadata": {},
   "outputs": [
    {
     "name": "stdout",
     "output_type": "stream",
     "text": [
      "Please enter your First Name\n",
      "manasa\n",
      "Please enter your Last Name\n",
      "pothula\n",
      "Please enter your DOB in dd mm yyyy format\n",
      "03 07 1994\n",
      "Hi  Pothula ,  Manasa .  You're 25 years  4 months  8 days old\n",
      "Please enter your Salary\n",
      "12000\n",
      "Enter TDS percentage\n",
      "10\n",
      "You will receive 14400.0 rupees TDS amount per year.\n"
     ]
    }
   ],
   "source": [
    "import datetime\n",
    "current=datetime.datetime.now()\n",
    "year=current.year\n",
    "month=current.month\n",
    "day=current.month\n",
    "class User():\n",
    "    def userDetails(self):\n",
    "        print(\"Please enter your First Name\")\n",
    "        fname= input()\n",
    "        print(\"Please enter your Last Name\")\n",
    "        lname= input()\n",
    "        print(\"Please enter your DOB in dd mm yyyy format\")\n",
    "        dob=input()\n",
    "        li=dob.split()\n",
    "        return fname, lname, li\n",
    "       \n",
    "#         print(li)\n",
    "    def showUser(self):\n",
    "        fname, lname, li = user.userDetails()\n",
    "        y=int(li[2])\n",
    "        m=int(li[1])\n",
    "        d=int(li[0]) \n",
    "        print(\"Hi \", lname.title(), ', ', fname.title(), '. ', \"You're\", abs(y-year), 'years ', abs(m-month), 'months ', abs(d-day), 'days old')\n",
    "    \n",
    "    def tds(self):\n",
    "        print(\"Please enter your Salary\")\n",
    "        sal=int(input())\n",
    "        print(\"Enter TDS percentage\")\n",
    "        per=int(input())\n",
    "        print(\"You will receive\", 12*(sal*(per/100)), \"rupees TDS amount per year.\")\n",
    "        \n",
    "user=User()\n",
    "\n",
    "user.showUser()\n",
    "user.tds()"
   ]
  },
  {
   "cell_type": "code",
   "execution_count": 52,
   "metadata": {},
   "outputs": [
    {
     "name": "stdout",
     "output_type": "stream",
     "text": [
      "Please enter your Salary\n",
      "12000\n",
      "Enter TDS percentage\n",
      "10\n",
      "You will receive 14400.0  TDS amount per year.\n"
     ]
    }
   ],
   "source": []
  },
  {
   "cell_type": "code",
   "execution_count": 54,
   "metadata": {},
   "outputs": [
    {
     "name": "stdout",
     "output_type": "stream",
     "text": [
      "Enter the principle amount\n",
      "12000\n",
      "enter the rate of interest\n",
      "10\n",
      "enter the time period\n",
      "1\n",
      "Simple Interest is:  1200.0\n"
     ]
    }
   ],
   "source": [
    "class simpleInterest():\n",
    "    def values(self):\n",
    "        print(\"Enter the principle amount\")\n",
    "        pri=int(input())\n",
    "        print(\"enter the rate of interest\")\n",
    "        rate=int(input())\n",
    "        print(\"enter the time period in months\")\n",
    "        time=int(input())\n",
    "        return pri, rate, time\n",
    "    def interest(self):\n",
    "        pri, rate, time= si.values()\n",
    "        print(\"Simple Interest is: \", (pri*(time*(rate)))/100)\n",
    "si=simpleInterest()\n",
    "si.interest()"
   ]
  },
  {
   "cell_type": "code",
   "execution_count": null,
   "metadata": {},
   "outputs": [],
   "source": []
  }
 ],
 "metadata": {
  "kernelspec": {
   "display_name": "Python 3",
   "language": "python",
   "name": "python3"
  },
  "language_info": {
   "codemirror_mode": {
    "name": "ipython",
    "version": 3
   },
   "file_extension": ".py",
   "mimetype": "text/x-python",
   "name": "python",
   "nbconvert_exporter": "python",
   "pygments_lexer": "ipython3",
   "version": "3.7.3"
  }
 },
 "nbformat": 4,
 "nbformat_minor": 2
}
