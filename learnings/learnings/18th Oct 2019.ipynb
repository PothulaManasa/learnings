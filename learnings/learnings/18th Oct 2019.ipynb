{
 "cells": [
  {
   "cell_type": "markdown",
   "metadata": {},
   "source": [
    "Task: Ask user to enter list of integer elements \n",
    "Note: minimum 10 elements should accept\n",
    "\n",
    "Your program should print following\n",
    "\n",
    "👉 Highest number in that list\n",
    "👉 Lowest number\n",
    "👉 sum of all the elements present in the list\n",
    "👉 length of the list means count the elements\n",
    "👉 Sort list: ascending order and descending order."
   ]
  },
  {
   "cell_type": "code",
   "execution_count": 59,
   "metadata": {},
   "outputs": [
    {
     "name": "stdout",
     "output_type": "stream",
     "text": [
      "1234567890\n",
      "9\n",
      "0\n",
      "45\n",
      "[9, 8, 7, 6, 5, 4, 3, 2, 1, 0]\n",
      "[0, 1, 2, 3, 4, 5, 6, 7, 8, 9]\n"
     ]
    }
   ],
   "source": [
    "import re\n",
    "n=int(input())\n",
    "li=list(str(n).strip())\n",
    "pattern= '^[0-9]{10}'\n",
    "if re.match(pattern, str(n)):\n",
    "    li2=[]\n",
    "    for i in li:\n",
    "        li2.append(int(i))\n",
    "    li2\n",
    "    print(max(li2))\n",
    "    print(min(li2))\n",
    "    print(sum(li2))\n",
    "    li2.sort(reverse=True)\n",
    "    print(li2)\n",
    "    li2.sort()\n",
    "    print(li2)\n",
    "else:\n",
    "    print(\"Enter 10 digit number\")"
   ]
  },
  {
   "cell_type": "code",
   "execution_count": 61,
   "metadata": {},
   "outputs": [
    {
     "name": "stdout",
     "output_type": "stream",
     "text": [
      "9\n",
      "0\n",
      "45\n",
      "[9, 8, 7, 6, 5, 4, 3, 2, 1, 0]\n",
      "[0, 1, 2, 3, 4, 5, 6, 7, 8, 9]\n"
     ]
    }
   ],
   "source": [
    "li\n",
    "li2=[]\n",
    "for i in li:\n",
    "    li2.append(int(i))\n",
    "li2\n",
    "print(max(li2))\n",
    "print(min(li2))\n",
    "print(sum(li2))\n",
    "li2.sort(reverse=True)\n",
    "print(li2)\n",
    "li2.sort()\n",
    "print(li2)"
   ]
  },
  {
   "cell_type": "code",
   "execution_count": 63,
   "metadata": {},
   "outputs": [
    {
     "name": "stdout",
     "output_type": "stream",
     "text": [
      "['a', 'a', 'a', 'm', 'n', 's']\n"
     ]
    }
   ],
   "source": [
    "import re\n",
    "s='manasa'\n",
    "l=list(s.strip())\n",
    "l.sort()\n",
    "print(l)"
   ]
  },
  {
   "cell_type": "markdown",
   "metadata": {},
   "source": [
    "Task: Ask user to enter list of integer elements \n",
    "Note: minimum 10 elements should accept\n",
    "\n",
    "Your program should print following\n",
    "\n",
    "👉 Highest number in that list\n",
    "👉 Lowest number\n",
    "👉 sum of all the elements present in the list\n",
    "👉 length of the list means count the elements\n",
    "👉 Sort list: ascending order and descending order."
   ]
  },
  {
   "cell_type": "code",
   "execution_count": 1,
   "metadata": {},
   "outputs": [
    {
     "name": "stdout",
     "output_type": "stream",
     "text": [
      "Please enter 10 integer elements\n",
      "1 2 3 4 5 6 7 8 9 10\n",
      "Select the operation you want to perform\n",
      "1. Highest Number\n",
      "2. Lowest Number\n",
      "3. Sum of all elemets\n",
      "4. Length of the list\n",
      "5. Ascending order of the list\n",
      "6. Descending order of the list\n",
      "7. To exit\n",
      "2\n",
      "1\n",
      "7\n"
     ]
    },
    {
     "ename": "SystemExit",
     "evalue": "",
     "output_type": "error",
     "traceback": [
      "An exception has occurred, use %tb to see the full traceback.\n",
      "\u001b[1;31mSystemExit\u001b[0m\n"
     ]
    },
    {
     "name": "stderr",
     "output_type": "stream",
     "text": [
      "C:\\ProgramData\\Anaconda3\\lib\\site-packages\\IPython\\core\\interactiveshell.py:3304: UserWarning: To exit: use 'exit', 'quit', or Ctrl-D.\n",
      "  warn(\"To exit: use 'exit', 'quit', or Ctrl-D.\", stacklevel=1)\n"
     ]
    }
   ],
   "source": [
    "import sys\n",
    "def operation():\n",
    "    op=int(input())\n",
    "    if op>7 and op<1:\n",
    "        print(\"Select valid operation\")\n",
    "    elif op==1:\n",
    "        print(max(l2))\n",
    "    elif op==2:\n",
    "        print(min(l2))\n",
    "    elif op==3:\n",
    "        print(sum(l2))\n",
    "    elif op==4:\n",
    "        print(l)\n",
    "    elif op==5:\n",
    "        l2.sort()\n",
    "        print(l2)\n",
    "    elif op==6:\n",
    "        l2.sort(reverse=True)\n",
    "        print(l2)\n",
    "    elif op==7:\n",
    "        sys.exit()\n",
    "    operation()\n",
    "\n",
    "\n",
    "print(\"Please enter 10 integer elements\")\n",
    "s=input()\n",
    "l1=s.split()\n",
    "l=len(l1)\n",
    "l2=[]\n",
    "for i in l1:\n",
    "    if i.isnumeric():\n",
    "        l2.append(int(i))\n",
    "    else:\n",
    "        print(\"You have not entered decimal numbers\")\n",
    "\n",
    "if l!=10:\n",
    "    print(\"Elements are more or less than 10\")\n",
    "else:\n",
    "    print(\"Select the operation you want to perform\")\n",
    "    print(\"1. Highest Number\")\n",
    "    print(\"2. Lowest Number\")\n",
    "    print(\"3. Sum of all elemets\")\n",
    "    print(\"4. Length of the list\",)\n",
    "    print(\"5. Ascending order of the list\")\n",
    "    print(\"6. Descending order of the list\")\n",
    "    print(\"7. To exit\")\n",
    "    operation()\n",
    "    \n"
   ]
  },
  {
   "cell_type": "code",
   "execution_count": 12,
   "metadata": {},
   "outputs": [
    {
     "name": "stdout",
     "output_type": "stream",
     "text": [
      "1\n",
      "2\n",
      "You have not entered decimal numbers\n",
      "4\n",
      "1\n",
      "2\n",
      "3\n",
      "4\n",
      "You have not entered decimal numbers\n",
      "You have not entered decimal numbers\n"
     ]
    }
   ],
   "source": [
    "l1=['1', '2', 'a', '4', '1', '2', '3', '4', 'a', 'b']\n",
    "for i in l1:\n",
    "    if i.isnumeric():\n",
    "        print(i)\n",
    "    else:\n",
    "        print(\"You have not entered decimal numbers\")"
   ]
  },
  {
   "cell_type": "code",
   "execution_count": 2,
   "metadata": {
    "scrolled": true
   },
   "outputs": [
    {
     "name": "stdout",
     "output_type": "stream",
     "text": [
      "Please enter 10 integer elements\n",
      "1 2 3 4 5 6 7 8 9 1\n",
      "Select the operation you want to perform\n",
      "1. Highest Number\n",
      "2. Lowest Number\n",
      "3. Sum of all elemets\n",
      "4. Length of the list\n",
      "5. Ascending order of the list\n",
      "6. Descending order of the list\n",
      "7. To exit\n",
      "5\n",
      "[1, 1, 2, 3, 4, 5, 6, 7, 8, 9]\n"
     ]
    }
   ],
   "source": [
    "import sys\n",
    "print(\"Please enter 10 integer elements\")\n",
    "s=input()\n",
    "l1=s.split()\n",
    "l=len(l1)\n",
    "l2=[]\n",
    "for i in l1:\n",
    "    if i.isnumeric():\n",
    "        l2.append(int(i))\n",
    "    else:\n",
    "        print(\"You have not entered decimal numbers\")\n",
    "\n",
    "if l!=10:\n",
    "    print(\"Elements are more or less than 10\")\n",
    "else:\n",
    "    print(\"Select the operation you want to perform\")\n",
    "    print(\"1. Highest Number\")\n",
    "    print(\"2. Lowest Number\")\n",
    "    print(\"3. Sum of all elemets\")\n",
    "    print(\"4. Length of the list\",)\n",
    "    print(\"5. Ascending order of the list\")\n",
    "    print(\"6. Descending order of the list\")\n",
    "    print(\"7. To exit\")\n",
    "def maxm():\n",
    "    return max(l2)\n",
    "def minm():\n",
    "    return min(l2)\n",
    "def summ():\n",
    "    return sum(l2)\n",
    "def lnt():\n",
    "    return len(l2)\n",
    "def asc():\n",
    "    l2.sort()\n",
    "    print(l2)\n",
    "def desc():\n",
    "    l2.sort(reverse=True)\n",
    "    print(l2)\n",
    "op=int(input())\n",
    "if op>7 and op<1:\n",
    "    print(\"Select valid operation\")\n",
    "elif op==1:\n",
    "    maxm()\n",
    "elif op==2:\n",
    "    minm()\n",
    "elif op==3:\n",
    "    summ()\n",
    "elif op==4:\n",
    "    lnt()\n",
    "elif op==5:\n",
    "    asc()\n",
    "elif op==6:\n",
    "    desc()\n",
    "elif op==7:\n",
    "    sys.exit()\n"
   ]
  },
  {
   "cell_type": "markdown",
   "metadata": {},
   "source": []
  }
 ],
 "metadata": {
  "kernelspec": {
   "display_name": "Python 3",
   "language": "python",
   "name": "python3"
  },
  "language_info": {
   "codemirror_mode": {
    "name": "ipython",
    "version": 3
   },
   "file_extension": ".py",
   "mimetype": "text/x-python",
   "name": "python",
   "nbconvert_exporter": "python",
   "pygments_lexer": "ipython3",
   "version": "3.7.3"
  }
 },
 "nbformat": 4,
 "nbformat_minor": 2
}
