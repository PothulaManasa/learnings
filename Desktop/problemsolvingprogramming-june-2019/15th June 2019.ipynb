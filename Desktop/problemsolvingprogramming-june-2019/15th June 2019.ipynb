{
 "cells": [
  {
   "cell_type": "code",
   "execution_count": 66,
   "metadata": {},
   "outputs": [
    {
     "name": "stdout",
     "output_type": "stream",
     "text": [
      "ab\n",
      "3\n"
     ]
    }
   ],
   "source": [
    "def charSum(s):\n",
    "    sum = 0\n",
    "    for i in s:\n",
    "        sum += ord(i)+1-ord('a')\n",
    "    print(sum)\n",
    "s = input()    \n",
    "charSum(s)"
   ]
  },
  {
   "cell_type": "code",
   "execution_count": 56,
   "metadata": {},
   "outputs": [
    {
     "name": "stdout",
     "output_type": "stream",
     "text": [
      "Manasa\n",
      "49\n"
     ]
    }
   ],
   "source": [
    "#sum= ord('a')-ord('b')\n",
    "#print(string)\n",
    "#print(sum)\n",
    "\n",
    "def characterSum(string):\n",
    "    l=len(string)\n",
    "    s=0\n",
    "    for n in range(0, l):\n",
    "        if string[n].islower():\n",
    "            s=(ord(string[n])-ord('a')+1)+s\n",
    "        else:\n",
    "            s=(ord(string[n])-ord('A')+1)+s\n",
    "    print(s)\n",
    "\n",
    "string=str(input())\n",
    "characterSum(string)\n"
   ]
  },
  {
   "cell_type": "code",
   "execution_count": 39,
   "metadata": {},
   "outputs": [
    {
     "data": {
      "text/plain": [
       "65"
      ]
     },
     "execution_count": 39,
     "metadata": {},
     "output_type": "execute_result"
    }
   ],
   "source": [
    "ord('A')"
   ]
  },
  {
   "cell_type": "code",
   "execution_count": 44,
   "metadata": {},
   "outputs": [
    {
     "data": {
      "text/plain": [
       "'aBC'"
      ]
     },
     "execution_count": 44,
     "metadata": {},
     "output_type": "execute_result"
    }
   ],
   "source": [
    "def toggleString(s):\n",
    "    \n",
    "    t = []\n",
    "    for c in s:\n",
    "        if c.islower():\n",
    "            t.append(c.upper())\n",
    "        else:\n",
    "            t.append(c.lower())\n",
    "    return \"\".join(t)\n",
    "\n",
    "toggleString(\"Abc\")"
   ]
  },
  {
   "cell_type": "markdown",
   "metadata": {},
   "source": [
    "### Duration:\n",
    "\n",
    "**Input**: Start time, end time (HH MM)<br>\n",
    "    HH - {00, 01, 02,.....23} #{00, 23} - {00 00, 23 59}<br>\n",
    "    MM - {00, 01, 02,.....59} #{00, 59)<br>\n",
    "    HH MM - {00 00, 23 59}<br>\n",
    "   \n",
    "    \n",
    "    \n",
    "**Output**: Time difference in HH MM\n"
   ]
  },
  {
   "cell_type": "code",
   "execution_count": 58,
   "metadata": {},
   "outputs": [
    {
     "name": "stdout",
     "output_type": "stream",
     "text": [
      "5 41\n"
     ]
    }
   ],
   "source": [
    "s=\"2 42 8 23\"\n",
    "def minuteDifference(s):\n",
    "    s=s.split()\n",
    "    sh = int(s[0])\n",
    "    sm = int(s[1])\n",
    "    eh = int(s[2])\n",
    "    em = int(s[3])\n",
    "    startminutes = (sh*60) + sm\n",
    "    endminutes = (eh*60) + em\n",
    "    return endminutes - startminutes\n",
    "def outputTimeFormat(minutes):\n",
    "    #Convert minutes to HH MM\n",
    "    hh = minutes // 60\n",
    "    mm = minutes % 60\n",
    "    print(hh, mm)\n",
    "    return\n",
    "minutes = minuteDifference(s)\n",
    "outputTimeFormat(minutes)"
   ]
  },
  {
   "cell_type": "code",
   "execution_count": 65,
   "metadata": {},
   "outputs": [
    {
     "name": "stdout",
     "output_type": "stream",
     "text": [
      "2\n",
      "1 22 1 44\n",
      "0 22\n",
      "1 3 1 33\n",
      "0 30\n"
     ]
    }
   ],
   "source": [
    "def minuteDifference(s):\n",
    "    s=s.split()\n",
    "    sh = int(s[0])\n",
    "    sm = int(s[1])\n",
    "    eh = int(s[2])\n",
    "    em = int(s[3])\n",
    "    startminutes = (sh*60) + sm\n",
    "    endminutes = (eh*60) + em\n",
    "    return endminutes - startminutes\n",
    "def outputTimeFormat(minutes):\n",
    "    #Convert minutes to HH MM\n",
    "    hh = minutes // 60\n",
    "    mm = minutes % 60\n",
    "    print(hh, mm)\n",
    "    return\n",
    "\n",
    "n=int(input())\n",
    "\n",
    "for i in range(0, n):\n",
    "    s=str(input())\n",
    "    minutes = minuteDifference(s)\n",
    "    outputTimeFormat(minutes)"
   ]
  },
  {
   "cell_type": "markdown",
   "metadata": {},
   "source": [
    "###  Play with Numbers\n",
    "\n",
    "line 1: array size(n), no of queries(q)\n",
    "line 2: n array elements\n",
    "next q lines: query - sub "
   ]
  },
  {
   "cell_type": "code",
   "execution_count": null,
   "metadata": {},
   "outputs": [],
   "source": [
    "def playWithNumbers(c, q):\n",
    "    sum=0\n",
    "    count=0\n",
    "    out=0\n",
    "    for q in range:\n",
    "        for c in range(i1, i2+1):\n",
    "            sum=c+sum\n",
    "            count=count+1\n",
    "            avg=sum/count\n",
    "    out=floor(avg)\n",
    "        \n",
    "i=str(input())\n",
    "list1=i.split()\n",
    "i1=list1[0]\n",
    "i2=list1[1]\n"
   ]
  },
  {
   "cell_type": "code",
   "execution_count": 73,
   "metadata": {},
   "outputs": [
    {
     "ename": "SyntaxError",
     "evalue": "'return' outside function (<ipython-input-73-f34a2ce971ae>, line 6)",
     "output_type": "error",
     "traceback": [
      "\u001b[1;36m  File \u001b[1;32m\"<ipython-input-73-f34a2ce971ae>\"\u001b[1;36m, line \u001b[1;32m6\u001b[0m\n\u001b[1;33m    return\u001b[0m\n\u001b[1;37m    ^\u001b[0m\n\u001b[1;31mSyntaxError\u001b[0m\u001b[1;31m:\u001b[0m 'return' outside function\n"
     ]
    }
   ],
   "source": [
    "for q in range:\n",
    "        for c in range(i1, i2+1):\n",
    "            sum=c+sum\n",
    "            count=count+1\n",
    "            avg=sum/count\n",
    "            return\n",
    "out=floor(avg)\n",
    "        \n",
    "i=str(input())\n",
    "list1=i.split()\n",
    "i1=list1[0]\n",
    "i2=list1[1]\n"
   ]
  },
  {
   "cell_type": "code",
   "execution_count": 6,
   "metadata": {},
   "outputs": [
    {
     "name": "stdout",
     "output_type": "stream",
     "text": [
      "2\n",
      "6\n",
      "3\n",
      "No\n"
     ]
    }
   ],
   "source": [
    "#Funtion to find the number where sum of it's factors should be equal to the number\n",
    "\n",
    "def sumOfFactors(t, n):\n",
    "    sum=0\n",
    "    t=int(input())\n",
    "    for t in range(1, t+1):\n",
    "        n=int(input())\n",
    "        for i in range(1, n):\n",
    "            if n%i==0:\n",
    "                sum=sum+i\n",
    "    if sum==n:\n",
    "        print(\"Yes\")\n",
    "    elif sum!=n:\n",
    "        print(\"No\")\n",
    "\n",
    "\n",
    "sumOfFactors(t, n)"
   ]
  },
  {
   "cell_type": "code",
   "execution_count": null,
   "metadata": {},
   "outputs": [],
   "source": [
    "#Play with numbers\n",
    "\n"
   ]
  }
 ],
 "metadata": {
  "kernelspec": {
   "display_name": "Python 3",
   "language": "python",
   "name": "python3"
  },
  "language_info": {
   "codemirror_mode": {
    "name": "ipython",
    "version": 3
   },
   "file_extension": ".py",
   "mimetype": "text/x-python",
   "name": "python",
   "nbconvert_exporter": "python",
   "pygments_lexer": "ipython3",
   "version": "3.7.3"
  }
 },
 "nbformat": 4,
 "nbformat_minor": 2
}
