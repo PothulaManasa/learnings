{
 "cells": [
  {
   "cell_type": "code",
   "execution_count": 66,
   "metadata": {},
   "outputs": [
    {
     "name": "stdout",
     "output_type": "stream",
     "text": [
      "ab\n",
      "3\n"
     ]
    }
   ],
   "source": [
    "def charSum(s):\n",
    "    sum = 0\n",
    "    for i in s:\n",
    "        sum += ord(i)+1-ord('a')\n",
    "    print(sum)\n",
    "s = input()    \n",
    "charSum(s)"
   ]
  },
  {
   "cell_type": "code",
   "execution_count": 56,
   "metadata": {},
   "outputs": [
    {
     "name": "stdout",
     "output_type": "stream",
     "text": [
      "Manasa\n",
      "49\n"
     ]
    }
   ],
   "source": [
    "#sum= ord('a')-ord('b')\n",
    "#print(string)\n",
    "#print(sum)\n",
    "\n",
    "def characterSum(string):\n",
    "    l=len(string)\n",
    "    s=0\n",
    "    for n in range(0, l):\n",
    "        if string[n].islower():\n",
    "            s=(ord(string[n])-ord('a')+1)+s\n",
    "        else:\n",
    "            s=(ord(string[n])-ord('A')+1)+s\n",
    "    print(s)\n",
    "\n",
    "string=str(input())\n",
    "characterSum(string)\n"
   ]
  },
  {
   "cell_type": "code",
   "execution_count": 39,
   "metadata": {},
   "outputs": [
    {
     "data": {
      "text/plain": [
       "65"
      ]
     },
     "execution_count": 39,
     "metadata": {},
     "output_type": "execute_result"
    }
   ],
   "source": [
    "ord('A')"
   ]
  },
  {
   "cell_type": "code",
   "execution_count": 44,
   "metadata": {},
   "outputs": [
    {
     "data": {
      "text/plain": [
       "'aBC'"
      ]
     },
     "execution_count": 44,
     "metadata": {},
     "output_type": "execute_result"
    }
   ],
   "source": [
    "def toggleString(s):\n",
    "    \n",
    "    t = []\n",
    "    for c in s:\n",
    "        if c.islower():\n",
    "            t.append(c.upper())\n",
    "        else:\n",
    "            t.append(c.lower())\n",
    "    return \"\".join(t)\n",
    "\n",
    "toggleString(\"Abc\")"
   ]
  },
  {
   "cell_type": "markdown",
   "metadata": {},
   "source": [
    "### Duration:\n",
    "\n",
    "**Input**: Start time, end time (HH MM)<br>\n",
    "    HH - {00, 01, 02,.....23} #{00, 23} - {00 00, 23 59}<br>\n",
    "    MM - {00, 01, 02,.....59} #{00, 59)<br>\n",
    "    HH MM - {00 00, 23 59}<br>\n",
    "   \n",
    "    \n",
    "    \n",
    "**Output**: Time difference in HH MM\n"
   ]
  },
  {
   "cell_type": "code",
   "execution_count": 58,
   "metadata": {},
   "outputs": [
    {
     "name": "stdout",
     "output_type": "stream",
     "text": [
      "5 41\n"
     ]
    }
   ],
   "source": [
    "s=\"2 42 8 23\"\n",
    "def minuteDifference(s):\n",
    "    s=s.split()\n",
    "    sh = int(s[0])\n",
    "    sm = int(s[1])\n",
    "    eh = int(s[2])\n",
    "    em = int(s[3])\n",
    "    startminutes = (sh*60) + sm\n",
    "    endminutes = (eh*60) + em\n",
    "    return endminutes - startminutes\n",
    "def outputTimeFormat(minutes):\n",
    "    #Convert minutes to HH MM\n",
    "    hh = minutes // 60\n",
    "    mm = minutes % 60\n",
    "    print(hh, mm)\n",
    "    return\n",
    "minutes = minuteDifference(s)\n",
    "outputTimeFormat(minutes)"
   ]
  },
  {
   "cell_type": "code",
   "execution_count": 65,
   "metadata": {},
   "outputs": [
    {
     "name": "stdout",
     "output_type": "stream",
     "text": [
      "2\n",
      "1 22 1 44\n",
      "0 22\n",
      "1 3 1 33\n",
      "0 30\n"
     ]
    }
   ],
   "source": [
    "def minuteDifference(s):\n",
    "    s=s.split()\n",
    "    sh = int(s[0])\n",
    "    sm = int(s[1])\n",
    "    eh = int(s[2])\n",
    "    em = int(s[3])\n",
    "    startminutes = (sh*60) + sm\n",
    "    endminutes = (eh*60) + em\n",
    "    return endminutes - startminutes\n",
    "def outputTimeFormat(minutes):\n",
    "    #Convert minutes to HH MM\n",
    "    hh = minutes // 60\n",
    "    mm = minutes % 60\n",
    "    print(hh, mm)\n",
    "    return\n",
    "\n",
    "n=int(input())\n",
    "\n",
    "for i in range(0, n):\n",
    "    s=str(input())\n",
    "    minutes = minuteDifference(s)\n",
    "    outputTimeFormat(minutes)"
   ]
  },
  {
   "cell_type": "markdown",
   "metadata": {},
   "source": [
    "###  Play with Numbers\n",
    "\n",
    "line 1: array size(n), no of queries(q)\n",
    "line 2: n array elements\n",
    "next q lines: query - sub "
   ]
  },
  {
   "cell_type": "code",
   "execution_count": null,
   "metadata": {},
   "outputs": [],
   "source": []
  }
 ],
 "metadata": {
  "kernelspec": {
   "display_name": "Python 3",
   "language": "python",
   "name": "python3"
  },
  "language_info": {
   "codemirror_mode": {
    "name": "ipython",
    "version": 3
   },
   "file_extension": ".py",
   "mimetype": "text/x-python",
   "name": "python",
   "nbconvert_exporter": "python",
   "pygments_lexer": "ipython3",
   "version": "3.7.3"
  }
 },
 "nbformat": 4,
 "nbformat_minor": 2
}
