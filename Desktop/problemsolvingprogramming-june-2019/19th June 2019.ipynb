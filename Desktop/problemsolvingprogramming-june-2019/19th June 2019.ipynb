{
 "cells": [
  {
   "cell_type": "code",
   "execution_count": 2,
   "metadata": {},
   "outputs": [
    {
     "name": "stdout",
     "output_type": "stream",
     "text": [
      "5\n"
     ]
    },
    {
     "ename": "IndexError",
     "evalue": "list index out of range",
     "output_type": "error",
     "traceback": [
      "\u001b[1;31m---------------------------------------------------------------------------\u001b[0m",
      "\u001b[1;31mIndexError\u001b[0m                                Traceback (most recent call last)",
      "\u001b[1;32m<ipython-input-2-b8af5e59e8bd>\u001b[0m in \u001b[0;36m<module>\u001b[1;34m\u001b[0m\n\u001b[0;32m      2\u001b[0m \u001b[1;33m\u001b[0m\u001b[0m\n\u001b[0;32m      3\u001b[0m \u001b[0mn\u001b[0m\u001b[1;33m=\u001b[0m\u001b[0minput\u001b[0m\u001b[1;33m(\u001b[0m\u001b[1;33m)\u001b[0m\u001b[1;33m.\u001b[0m\u001b[0msplit\u001b[0m\u001b[1;33m(\u001b[0m\u001b[1;33m)\u001b[0m\u001b[1;33m\u001b[0m\u001b[1;33m\u001b[0m\u001b[0m\n\u001b[1;32m----> 4\u001b[1;33m \u001b[0mn\u001b[0m\u001b[1;33m[\u001b[0m\u001b[1;36m0\u001b[0m\u001b[1;33m]\u001b[0m\u001b[1;33m,\u001b[0m\u001b[0mn\u001b[0m\u001b[1;33m[\u001b[0m\u001b[1;36m1\u001b[0m\u001b[1;33m]\u001b[0m\u001b[1;33m=\u001b[0m \u001b[0mint\u001b[0m\u001b[1;33m(\u001b[0m\u001b[0mn\u001b[0m\u001b[1;33m[\u001b[0m\u001b[1;36m0\u001b[0m\u001b[1;33m]\u001b[0m\u001b[1;33m)\u001b[0m\u001b[1;33m,\u001b[0m\u001b[0mint\u001b[0m\u001b[1;33m(\u001b[0m\u001b[0mn\u001b[0m\u001b[1;33m[\u001b[0m\u001b[1;36m1\u001b[0m\u001b[1;33m]\u001b[0m\u001b[1;33m)\u001b[0m\u001b[1;33m\u001b[0m\u001b[1;33m\u001b[0m\u001b[0m\n\u001b[0m\u001b[0;32m      5\u001b[0m \u001b[1;33m\u001b[0m\u001b[0m\n\u001b[0;32m      6\u001b[0m \u001b[1;31m# Read array elements\u001b[0m\u001b[1;33m\u001b[0m\u001b[1;33m\u001b[0m\u001b[1;33m\u001b[0m\u001b[0m\n",
      "\u001b[1;31mIndexError\u001b[0m: list index out of range"
     ]
    }
   ],
   "source": [
    "#Play with numbers\n",
    "\n",
    "n=input().split()\n",
    "n[0],n[1]= int(n[0]),int(n[1])\n",
    "\n",
    "# Read array elements\n",
    "\n",
    "a=input().split()\n",
    "\n",
    "# Initialize cummulative sum array\n",
    "\n",
    "sum=[]\n",
    "\n",
    "#Cummulative sum\n",
    "for i in range (0, n[0]):\n",
    "    if i==0:\n",
    "        sum.append(int(a[i]))\n",
    "    else:\n",
    "        sum.append(int(sum[i-1])+int(a[i]))\n",
    "        \n",
    " #Read each query\n",
    "\n",
    "for k in range(0,n[1]):\n",
    "    inq=input().split()\n",
    "    i=int(inq[0])\n",
    "    j=int(inq[1])\n",
    "    if i>1:\n",
    "        print((sum[j-1]-sum[i-2])//(j-1+1))\n",
    "    else:\n",
    "        print(sum[j-1]//(j-1+1))"
   ]
  },
  {
   "cell_type": "code",
   "execution_count": null,
   "metadata": {},
   "outputs": [],
   "source": []
  },
  {
   "cell_type": "code",
   "execution_count": 1,
   "metadata": {},
   "outputs": [
    {
     "name": "stdout",
     "output_type": "stream",
     "text": [
      "2\n",
      "6\n",
      "Yes\n",
      "3\n",
      "No\n"
     ]
    }
   ],
   "source": [
    "#Perfect Number\n",
    "def perfectNumber(num):\n",
    "    sum=0\n",
    "    for c in range(0, num):\n",
    "        n=int(input())\n",
    "        for i in range(1, n//2+1):\n",
    "            if n%i==0:\n",
    "                sum=sum+i\n",
    "                #print(i, end=\" \")\n",
    "        #print(sum)\n",
    "        if sum==n:\n",
    "            print(\"Yes\")\n",
    "        else:\n",
    "            print(\"No\")\n",
    "                        \n",
    "num=int(input())\n",
    "perfectNumber(num)\n",
    "\n",
    "\n"
   ]
  },
  {
   "cell_type": "code",
   "execution_count": 114,
   "metadata": {},
   "outputs": [
    {
     "name": "stdout",
     "output_type": "stream",
     "text": [
      "2\n",
      "4\n",
      "5\n",
      "6\n",
      "7\n",
      "8\n"
     ]
    }
   ],
   "source": [
    "#Play with numbers\n",
    "def isPrime(n):\n",
    "    for i in range(2, n):\n",
    "        if n % i == 0:\n",
    "        else:\n",
    "            print(i)\n",
    "isPrime(9)"
   ]
  },
  {
   "cell_type": "code",
   "execution_count": 10,
   "metadata": {},
   "outputs": [
    {
     "data": {
      "text/plain": [
       "True"
      ]
     },
     "execution_count": 10,
     "metadata": {},
     "output_type": "execute_result"
    }
   ],
   "source": [
    "def isPrimes(n):\n",
    "    count=0\n",
    "    for i in range(1, n):\n",
    "        if n%i==0:\n",
    "            count=count+1\n",
    "    if count>=2:\n",
    "        return False\n",
    "    else:\n",
    "        return True\n",
    "        \n",
    "isPrimes(47)"
   ]
  },
  {
   "cell_type": "code",
   "execution_count": 2,
   "metadata": {},
   "outputs": [
    {
     "name": "stdout",
     "output_type": "stream",
     "text": [
      "2 3 5 7 11 13 17 19 "
     ]
    }
   ],
   "source": [
    "def primes(num):\n",
    "    for j in range(2, num+1):\n",
    "        if j==2:\n",
    "            print(j, end=\" \")\n",
    "        elif isPrimes(j):\n",
    "            print(j, end=\" \")\n",
    "            \n",
    "primes(20)"
   ]
  },
  {
   "cell_type": "code",
   "execution_count": 42,
   "metadata": {},
   "outputs": [
    {
     "data": {
      "text/plain": [
       "False"
      ]
     },
     "execution_count": 42,
     "metadata": {},
     "output_type": "execute_result"
    }
   ],
   "source": [
    "          \n",
    "isPrime(10)"
   ]
  },
  {
   "cell_type": "code",
   "execution_count": 11,
   "metadata": {},
   "outputs": [
    {
     "ename": "SyntaxError",
     "evalue": "invalid syntax (<ipython-input-11-8de3e2373ba6>, line 4)",
     "output_type": "error",
     "traceback": [
      "\u001b[1;36m  File \u001b[1;32m\"<ipython-input-11-8de3e2373ba6>\"\u001b[1;36m, line \u001b[1;32m4\u001b[0m\n\u001b[1;33m    if\u001b[0m\n\u001b[1;37m       ^\u001b[0m\n\u001b[1;31mSyntaxError\u001b[0m\u001b[1;31m:\u001b[0m invalid syntax\n"
     ]
    }
   ],
   "source": [
    "#Function to generate Number odd Armstrong numbers\n",
    "def armstrongNumber(n):\n",
    "    for n in range(1, n+1):\n",
    "        if "
   ]
  },
  {
   "cell_type": "code",
   "execution_count": null,
   "metadata": {},
   "outputs": [],
   "source": [
    "#Function to generate multiplication tables for a number in a given range\n",
    "def multiplication(n1,n2):\n",
    "    for n in range()\n",
    "    "
   ]
  },
  {
   "cell_type": "code",
   "execution_count": 12,
   "metadata": {},
   "outputs": [
    {
     "ename": "SyntaxError",
     "evalue": "unexpected EOF while parsing (<ipython-input-12-ae7bd6612cc0>, line 1)",
     "output_type": "error",
     "traceback": [
      "\u001b[1;36m  File \u001b[1;32m\"<ipython-input-12-ae7bd6612cc0>\"\u001b[1;36m, line \u001b[1;32m1\u001b[0m\n\u001b[1;33m    def twoStrings():\u001b[0m\n\u001b[1;37m                     ^\u001b[0m\n\u001b[1;31mSyntaxError\u001b[0m\u001b[1;31m:\u001b[0m unexpected EOF while parsing\n"
     ]
    }
   ],
   "source": [
    "def twoStrings():"
   ]
  },
  {
   "cell_type": "code",
   "execution_count": null,
   "metadata": {},
   "outputs": [],
   "source": [
    "#Anagrams"
   ]
  },
  {
   "cell_type": "code",
   "execution_count": 143,
   "metadata": {},
   "outputs": [
    {
     "name": "stdout",
     "output_type": "stream",
     "text": [
      "2\n",
      "5\n"
     ]
    }
   ],
   "source": [
    "def checkPrime(num):\n",
    "    # If given number is greater than 1 \n",
    "    if num > 1:\n",
    "       # Iterate from 2 to n / 2\n",
    "        for i in range(2, num//2):\n",
    "\n",
    "\n",
    "           # If num is divisible by any number between  \n",
    "           # 2 and n / 2, it is not prime \n",
    "            if (num % i) == 0:\n",
    "                print(num, \"is not a prime number\")\n",
    "                break\n",
    "        else:\n",
    "            return True\n",
    "    else:\n",
    "        return False\n",
    "\n",
    "def factors(n):\n",
    "    for i in range(1, n):\n",
    "        if n%i==0:\n",
    "            if checkPrime(i) == True:\n",
    "                print(i)\n",
    "\n",
    "factors(10)"
   ]
  },
  {
   "cell_type": "code",
   "execution_count": 7,
   "metadata": {},
   "outputs": [
    {
     "name": "stdout",
     "output_type": "stream",
     "text": [
      "2\n",
      "manasa aamnsa\n",
      "YES\n",
      "skdjdh jdhddn\n",
      "NO\n"
     ]
    }
   ],
   "source": [
    "def twoStrings(t, string1, string2):\n",
    "    s1=sorted(list(string1.strip()))\n",
    "    s2=sorted(list(string2.strip()))\n",
    "    if s1==s2:\n",
    "        print(\"YES\")\n",
    "    else:\n",
    "        print(\"NO\")\n",
    "\n",
    "t=int(input())\n",
    "for i in range(0, t):\n",
    "    strings=str(input())\n",
    "    l=strings.split()\n",
    "    s1=l[0]\n",
    "    s2=l[1]\n",
    "    \n",
    "    twoStrings(t, s1, s2)"
   ]
  },
  {
   "cell_type": "code",
   "execution_count": 205,
   "metadata": {},
   "outputs": [
    {
     "name": "stdout",
     "output_type": "stream",
     "text": [
      "true\n"
     ]
    }
   ],
   "source": [
    "s=\"manasa\"\n",
    "#li=list(s.strip())\n",
    "s1=sorted(list(s.strip()))\n",
    "s1\n",
    "s2=['a', 'a', 'a', 'm', 'n', 's']\n",
    "if s1==s2:\n",
    "    print(\"true\")\n",
    "else:\n",
    "    print(\"false\")"
   ]
  },
  {
   "cell_type": "code",
   "execution_count": 5,
   "metadata": {},
   "outputs": [
    {
     "data": {
      "text/plain": [
       "['a', 'a', 'd', 'h', 'n', 's', 'y']"
      ]
     },
     "execution_count": 5,
     "metadata": {},
     "output_type": "execute_result"
    }
   ],
   "source": [
    "s = 'sandhya'\n",
    "s1=sorted(list(s.strip()))\n",
    "s1"
   ]
  },
  {
   "cell_type": "code",
   "execution_count": 1,
   "metadata": {},
   "outputs": [],
   "source": [
    "#def seatingArrangement(t, n):\n",
    "# ws=%6 or 1,7,13.....103(+6)\n",
    "# ms=2, 5, 8, ....(+3)\n",
    "# as=3*1, 3*3, 3*5.... (3*odd) or (4, 10, 16.....(+6))\n",
    "# "
   ]
  },
  {
   "cell_type": "code",
   "execution_count": 5,
   "metadata": {},
   "outputs": [
    {
     "name": "stdout",
     "output_type": "stream",
     "text": [
      "llrddr\n",
      "0 -2\n"
     ]
    }
   ],
   "source": [
    "#E Maze game\n",
    "\n",
    "def eMaze(s):\n",
    "    xaxis=0\n",
    "    yaxis=0\n",
    "    for i in s:\n",
    "        if i=='l':\n",
    "            xaxis=xaxis-1\n",
    "        elif i=='r':\n",
    "            xaxis=xaxis+1\n",
    "        elif i=='d':\n",
    "            yaxis=yaxis-1\n",
    "        else:\n",
    "            yaxis=yaxis+1\n",
    "    print(xaxis,yaxis)\n",
    "s=input()\n",
    "eMaze(s)"
   ]
  },
  {
   "cell_type": "code",
   "execution_count": 58,
   "metadata": {},
   "outputs": [
    {
     "name": "stdout",
     "output_type": "stream",
     "text": [
      "20\n",
      "patlu\n"
     ]
    }
   ],
   "source": [
    "# Bricks Game\n",
    "\n",
    "def bricksGame(n):\n",
    "    count=0\n",
    "    patlu=0\n",
    "    motu=0\n",
    "    for i in range(1, n+1):\n",
    "        if count<n:\n",
    "            patlu=patlu+i\n",
    "            #print(patlu)\n",
    "            count=count+i\n",
    "            if count>=n:\n",
    "                print(\"patlu\")\n",
    "                break\n",
    "            else:\n",
    "                motu=i*2\n",
    "                #print(count)\n",
    "                #print(motu)\n",
    "                count=count+motu\n",
    "                #print(count)\n",
    "                if count>=n:\n",
    "                    print(\"motu\")\n",
    "                    break\n",
    "                    #print(\"Motu\")\n",
    "n=int(input())\n",
    "bricksGame(n)"
   ]
  },
  {
   "cell_type": "code",
   "execution_count": 59,
   "metadata": {},
   "outputs": [
    {
     "name": "stdout",
     "output_type": "stream",
     "text": [
      "13\n",
      "Motu\n"
     ]
    }
   ],
   "source": [
    "def brickGame(n):\n",
    "    count=0\n",
    "    patlu=0\n",
    "    motu=0\n",
    "    for i in range(1, n+1):\n",
    "        if count<n:\n",
    "            patlu=patlu+i\n",
    "            count=count+i\n",
    "            if count>=n:\n",
    "                print(\"Patlu\")\n",
    "                break\n",
    "            else:\n",
    "                motu=i*2\n",
    "                count=count+motu\n",
    "                if count>=n:\n",
    "                    print(\"Motu\")\n",
    "                    break\n",
    "n=int(input())\n",
    "brickGame(n)"
   ]
  },
  {
   "cell_type": "code",
   "execution_count": null,
   "metadata": {},
   "outputs": [],
   "source": []
  }
 ],
 "metadata": {
  "kernelspec": {
   "display_name": "Python 3",
   "language": "python",
   "name": "python3"
  },
  "language_info": {
   "codemirror_mode": {
    "name": "ipython",
    "version": 3
   },
   "file_extension": ".py",
   "mimetype": "text/x-python",
   "name": "python",
   "nbconvert_exporter": "python",
   "pygments_lexer": "ipython3",
   "version": "3.7.3"
  }
 },
 "nbformat": 4,
 "nbformat_minor": 2
}
