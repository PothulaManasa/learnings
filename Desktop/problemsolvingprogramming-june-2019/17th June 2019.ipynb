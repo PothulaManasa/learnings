{
 "cells": [
  {
   "cell_type": "code",
   "execution_count": 13,
   "metadata": {},
   "outputs": [
    {
     "name": "stdout",
     "output_type": "stream",
     "text": [
      "3\n",
      "6\n",
      "Yes\n",
      "5\n",
      "No\n",
      "28\n",
      "Yes\n"
     ]
    }
   ],
   "source": [
    "#Funtion to find the number where sum of it's factors should be equal to the number\n",
    "\n",
    "def sumOfFactors(t, n):\n",
    "    for t in range(1, t+1):\n",
    "        sum=0\n",
    "        n=int(input())\n",
    "        for i in range(1, n):\n",
    "            if n%i==0:\n",
    "                sum=sum + i\n",
    "        if sum==n:\n",
    "            print(\"Yes\")\n",
    "        elif sum!=n:\n",
    "            print(\"No\")\n",
    "t=int(input())\n",
    "sumOfFactors(t, n)\n"
   ]
  },
  {
   "cell_type": "code",
   "execution_count": 14,
   "metadata": {},
   "outputs": [
    {
     "name": "stdout",
     "output_type": "stream",
     "text": [
      "28\n",
      "Yes\n"
     ]
    }
   ],
   "source": [
    "sum=0\n",
    "n=int(input())\n",
    "for i in range(1, n):\n",
    "    if n%i==0:\n",
    "        sum=sum + i\n",
    "if sum==n:\n",
    "    print(\"Yes\")\n",
    "elif sum!=n:\n",
    "    print(\"No\")\n"
   ]
  },
  {
   "cell_type": "code",
   "execution_count": 15,
   "metadata": {},
   "outputs": [
    {
     "ename": "SyntaxError",
     "evalue": "unexpected EOF while parsing (<ipython-input-15-0bfbcad163d9>, line 4)",
     "output_type": "error",
     "traceback": [
      "\u001b[1;36m  File \u001b[1;32m\"<ipython-input-15-0bfbcad163d9>\"\u001b[1;36m, line \u001b[1;32m4\u001b[0m\n\u001b[1;33m    \u001b[0m\n\u001b[1;37m    ^\u001b[0m\n\u001b[1;31mSyntaxError\u001b[0m\u001b[1;31m:\u001b[0m unexpected EOF while parsing\n"
     ]
    }
   ],
   "source": [
    "#Function to find the prime factors in for given number and test if it their count is equal to \n",
    "\n",
    "def numberOfPrimeFactor():\n",
    "        "
   ]
  },
  {
   "cell_type": "code",
   "execution_count": 17,
   "metadata": {},
   "outputs": [
    {
     "name": "stdout",
     "output_type": "stream",
     "text": [
      "49\n"
     ]
    },
    {
     "data": {
      "text/plain": [
       "7"
      ]
     },
     "execution_count": 17,
     "metadata": {},
     "output_type": "execute_result"
    }
   ],
   "source": [
    "def primeFactors(i):\n",
    "    count=0\n",
    "    for n in range(2, i):\n",
    "        if i%n == 0:\n",
    "            for num in range(2, n):\n",
    "                if n%num==0:\n",
    "                    break\n",
    "                return n\n",
    "                #count=count+1\n",
    "            #return count\n",
    "                #return n\n",
    "i = int(input())\n",
    "primeFactors(i)"
   ]
  },
  {
   "cell_type": "code",
   "execution_count": 1,
   "metadata": {},
   "outputs": [
    {
     "name": "stdout",
     "output_type": "stream",
     "text": [
      "12\n"
     ]
    },
    {
     "data": {
      "text/plain": [
       "False"
      ]
     },
     "execution_count": 1,
     "metadata": {},
     "output_type": "execute_result"
    }
   ],
   "source": [
    "def number(n):\n",
    "    for num in range(2, n):\n",
    "        if n>1:\n",
    "            if n%num==0:\n",
    "                return False\n",
    "            else:\n",
    "                return True\n",
    "n=int(input())\n",
    "number(n)"
   ]
  },
  {
   "cell_type": "code",
   "execution_count": 24,
   "metadata": {},
   "outputs": [
    {
     "name": "stdout",
     "output_type": "stream",
     "text": [
      "11\n",
      "6\n",
      "3\n",
      "2\n"
     ]
    }
   ],
   "source": [
    "s=\"manasa123@#\"\n",
    "l=len(s)\n",
    "alpha=0\n",
    "num=0\n",
    "spcl=0\n",
    "print(l)\n",
    "for i in range(0, l):\n",
    "    if s[i].isalpha():\n",
    "        alpha=alpha+1\n",
    "    elif s[i].isdigit():\n",
    "        num=num+1\n",
    "    else:\n",
    "        spcl=spcl+1\n",
    "\n",
    "print(alpha)\n",
    "print(num)\n",
    "print(spcl)"
   ]
  },
  {
   "cell_type": "code",
   "execution_count": 14,
   "metadata": {},
   "outputs": [
    {
     "name": "stdout",
     "output_type": "stream",
     "text": [
      "ma2na3sa1@&*\n",
      "12\n",
      "6\n",
      "3\n",
      "3\n"
     ]
    }
   ],
   "source": [
    "def countString(s):\n",
    "    l=len(s)\n",
    "    alpha=0\n",
    "    num=0\n",
    "    spcl=0\n",
    "    print(l)\n",
    "    for i in range(0, l):\n",
    "        if s[i].isalpha():\n",
    "            alpha=alpha+1\n",
    "        elif s[i].isdigit():\n",
    "            num=num+1\n",
    "        else:\n",
    "            spcl=spcl+1\n",
    "\n",
    "    print(alpha)\n",
    "    print(num)\n",
    "    print(spcl)\n",
    "s=str(input())\n",
    "countString(s)"
   ]
  },
  {
   "cell_type": "markdown",
   "metadata": {},
   "source": [
    "Special Number -> Special is defined as a number which has at least P distinct prime numbers\n",
    "Write a program to determine whther a number N is a speacial number or not\n",
    "\n",
    "**Input Format**<br>\n",
    "First Line: P<br>\n",
    "Second Line: T(number of test cases)<br>\n",
    "Third Line: N <br><br>\n",
    "\n",
    "**Output Format**\n",
    "\n"
   ]
  },
  {
   "cell_type": "code",
   "execution_count": 16,
   "metadata": {},
   "outputs": [
    {
     "name": "stdout",
     "output_type": "stream",
     "text": [
      "2\n",
      "3\n",
      "12\n",
      "YES\n",
      "39\n",
      "YES\n",
      "9\n",
      "NO\n"
     ]
    }
   ],
   "source": [
    "# Function to determine if a number is a special number\n",
    "def isSpecialNumber(n, p):\n",
    "    if numberOfPrimeFactors(n)>=p:\n",
    "        return True\n",
    "    return False\n",
    "\n",
    "# Function to check if number is prime\n",
    "def isPrime(n):\n",
    "    flag = 1\n",
    "    if n==2:\n",
    "        return True\n",
    "    for i in range(2, n//2+1):\n",
    "        if n%i==0:\n",
    "            flag = 0\n",
    "            return False\n",
    "    if flag==1:\n",
    "        return True\n",
    "        \n",
    "# Function to determine number of Prime factors for a given number\n",
    "def numberOfPrimeFactors(n):\n",
    "    if isPrime(n):\n",
    "        return 1\n",
    "    count=0\n",
    "    for i in range(2, n//2+1): #'/' is floating point division. '//' is integer division\n",
    "        if isPrime(i) and n%i==0:\n",
    "            count=count+1\n",
    "    return count\n",
    "def solution2():\n",
    "    p=int(input())\n",
    "    t=int(input())\n",
    "    for i in range(0, t):\n",
    "        n=int(input())\n",
    "        if isSpecialNumber(n, p):\n",
    "            print(\"YES\")\n",
    "        else:\n",
    "            print(\"NO\")\n",
    "solution2()"
   ]
  },
  {
   "cell_type": "code",
   "execution_count": 9,
   "metadata": {},
   "outputs": [
    {
     "data": {
      "text/plain": [
       "False"
      ]
     },
     "execution_count": 9,
     "metadata": {},
     "output_type": "execute_result"
    }
   ],
   "source": [
    "def isPrime(n):\n",
    "    flag = 1\n",
    "    if n==2:\n",
    "        return True\n",
    "    for i in range(2, n//2+1):\n",
    "        if n%i==0:\n",
    "            flag = 0\n",
    "            return False\n",
    "    if flag==1:\n",
    "        return True\n",
    "isPrime(9)"
   ]
  },
  {
   "cell_type": "code",
   "execution_count": 17,
   "metadata": {},
   "outputs": [
    {
     "ename": "SyntaxError",
     "evalue": "unexpected EOF while parsing (<ipython-input-17-176a5382f82a>, line 2)",
     "output_type": "error",
     "traceback": [
      "\u001b[1;36m  File \u001b[1;32m\"<ipython-input-17-176a5382f82a>\"\u001b[1;36m, line \u001b[1;32m2\u001b[0m\n\u001b[1;33m    \u001b[0m\n\u001b[1;37m    ^\u001b[0m\n\u001b[1;31mSyntaxError\u001b[0m\u001b[1;31m:\u001b[0m unexpected EOF while parsing\n"
     ]
    }
   ],
   "source": [
    "def twoStrings():\n",
    "    "
   ]
  },
  {
   "cell_type": "markdown",
   "metadata": {},
   "source": [
    "### Problem: Highest Remainder\n",
    "Write a program to find a natural number that is smaller than N such that it gives highest remainder when divided by that number.\n",
    "If there is more than one such number, print the smallest number.\n",
    "\n",
    "N\n",
    "highest=0\n",
    "x < N and n%x == highest"
   ]
  },
  {
   "cell_type": "code",
   "execution_count": 25,
   "metadata": {},
   "outputs": [
    {
     "name": "stdout",
     "output_type": "stream",
     "text": [
      "16\n"
     ]
    }
   ],
   "source": [
    "def highestRemainder(n):\n",
    "    hr=0\n",
    "    v=n\n",
    "    for i in range(n-1, n//2, -1):\n",
    "        r=n%i\n",
    "        if r>hr:\n",
    "            hr=r\n",
    "            v=i\n",
    "    print(v)\n",
    "    return\n",
    "highestRemainder(30)"
   ]
  },
  {
   "cell_type": "code",
   "execution_count": null,
   "metadata": {},
   "outputs": [],
   "source": []
  }
 ],
 "metadata": {
  "kernelspec": {
   "display_name": "Python 3",
   "language": "python",
   "name": "python3"
  },
  "language_info": {
   "codemirror_mode": {
    "name": "ipython",
    "version": 3
   },
   "file_extension": ".py",
   "mimetype": "text/x-python",
   "name": "python",
   "nbconvert_exporter": "python",
   "pygments_lexer": "ipython3",
   "version": "3.7.3"
  }
 },
 "nbformat": 4,
 "nbformat_minor": 2
}
