{
 "cells": [
  {
   "cell_type": "code",
   "execution_count": 2,
   "metadata": {},
   "outputs": [
    {
     "name": "stdout",
     "output_type": "stream",
     "text": [
      "manoj already exist\n"
     ]
    }
   ],
   "source": [
    "#Function to add contacts into files\n",
    "import re\n",
    "from Packages.validators import phoneNumberValidator as pnv, eMailValidator as ev # (or) from Packages import validators as v\n",
    "\n",
    "def addContacts(name, phone, email):\n",
    "    #store data as name, phone, email in the contacts file\n",
    "    filename = 'DataFiles/contacts.txt'\n",
    "    if not checkContactExists(name):\n",
    "        if pnv(phone) and ev(email):\n",
    "            with open(filename, 'a') as f:\n",
    "                line=name+','+str(phone)+','+email+'\\n'\n",
    "                f.write(line)\n",
    "            print(name, 'added to contcats')\n",
    "        else:\n",
    "            print('Invalid phone number or Email')\n",
    "            return\n",
    "    else:\n",
    "        print(name, 'already exist')\n",
    "        \n",
    "def checkContactExists(name):\n",
    "    filename = 'DataFiles/contacts.txt'\n",
    "    with open(filename, 'r') as f:\n",
    "        filedata=f.read()\n",
    "        pattern=name+','\n",
    "        return re.search(pattern, filedata)\n",
    "addContacts(\"manoj\", 8143525270, \"manasa.p@apssdc.in\")\n",
    "\n",
    "\n"
   ]
  },
  {
   "cell_type": "code",
   "execution_count": 3,
   "metadata": {},
   "outputs": [
    {
     "data": {
      "text/plain": [
       "'malavika,8374415682,manasapothula03@gmail.com\\nmanoj,8143525270,manasa.p@apssdc.in\\n'"
      ]
     },
     "execution_count": 3,
     "metadata": {},
     "output_type": "execute_result"
    }
   ],
   "source": [
    "filename = 'DataFiles/contacts.txt'\n",
    "def csvToList(filename):\n",
    "    li = []\n",
    "    with open(filename, 'r') as f:\n",
    "        for line in f:\n",
    "            li.append(line.split(','))\n",
    "        return li\n",
    "    \n",
    "#csvToList(filename)\n",
    "def listToFile(li):\n",
    "    s=''\n",
    "    for i in li:\n",
    "        s += ','.join(i) #s=s.join(i)\n",
    "    return s\n",
    "\n",
    "li = csvToList(filename)\n",
    "listToFile(li)"
   ]
  },
  {
   "cell_type": "code",
   "execution_count": 4,
   "metadata": {},
   "outputs": [],
   "source": []
  },
  {
   "cell_type": "markdown",
   "metadata": {},
   "source": [
    "#### 22nd June 2019\n",
    "\n",
    "#### Day Objectives\n",
    "- File Handling\n",
    "    - Basic File Data Processing\n",
    "        - Accessing and Modifying File Data\n",
    "    - Character Count\n",
    "    - Line Count\n",
    "    - File Size\n",
    "    - Word Count\n",
    "    - Unique Word Count"
   ]
  },
  {
   "cell_type": "code",
   "execution_count": 5,
   "metadata": {},
   "outputs": [],
   "source": [
    "# Read a File - File should exist\n",
    "# Write to a File - Existing (append mode) or New File (write mode) can be created"
   ]
  },
  {
   "cell_type": "code",
   "execution_count": 10,
   "metadata": {},
   "outputs": [
    {
     "name": "stdout",
     "output_type": "stream",
     "text": [
      "<class '_io.TextIOWrapper'>\n",
      "new data\n",
      "Line2\n",
      "Line3\n"
     ]
    }
   ],
   "source": [
    "def readFile(filepath):\n",
    "    with open(filepath, 'r') as f:\n",
    "        print(type(f)) #<class '_io.TextIOWrapper'>\n",
    "        filedata = f.read()\n",
    "        print(filedata) # Data will be printed as it is in file\n",
    "    #return filedata -> data will be returned in the same line\n",
    "filepath = 'DataFiles/data.txt'\n",
    "readFile(filepath)"
   ]
  },
  {
   "cell_type": "code",
   "execution_count": 18,
   "metadata": {},
   "outputs": [
    {
     "name": "stdout",
     "output_type": "stream",
     "text": [
      "2\n",
      "1\n",
      "17\n"
     ]
    }
   ],
   "source": [
    "def charCount(filepath):\n",
    "    line=0\n",
    "    space=0\n",
    "    character=0\n",
    "    with open(filepath, 'r') as f:\n",
    "        filedata = str(f.read())\n",
    "        for i in filedata:\n",
    "            if i==\" \":\n",
    "                space=space+1\n",
    "            elif i==\"\\n\":\n",
    "                line=line+1\n",
    "            else:\n",
    "                character=character+1\n",
    "        #return ((filedata))\n",
    "        print(line)\n",
    "        print(space)\n",
    "        print(character)\n",
    "filepath = 'DataFiles/data.txt'\n",
    "charCount(filepath)"
   ]
  },
  {
   "cell_type": "code",
   "execution_count": 31,
   "metadata": {},
   "outputs": [
    {
     "name": "stdout",
     "output_type": "stream",
     "text": [
      "22\n"
     ]
    }
   ],
   "source": [
    "import os\n",
    "\n",
    "def fileSize(filename):\n",
    "    size=0\n",
    "    with open(filepath, 'r') as f:\n",
    "        size=os.path.getsize(filename)\n",
    "        print(size)\n",
    "filename='DataFiles/data.txt'\n",
    "fileSize(filename)"
   ]
  },
  {
   "cell_type": "code",
   "execution_count": 34,
   "metadata": {},
   "outputs": [
    {
     "name": "stdout",
     "output_type": "stream",
     "text": [
      "4\n",
      "['n', 'e', 'w', ' ', 'd', 'a', 't', 'a', '\\n', 'L', 'i', 'n', 'e', '2', '\\n', 'L', 'i', 'n', 'e', '3']\n"
     ]
    }
   ],
   "source": [
    "def wordCount(filepath):\n",
    "    word=0\n",
    "    space=0\n",
    "    with open(filepath, 'r') as f:\n",
    "        filedata = list(f.read())\n",
    "        if len(filedata)!=0:\n",
    "            for i in filedata:\n",
    "                if i==\" \" or i==\"\\n\" or i==\"\\t\":\n",
    "                    space=space+1\n",
    "                word=space+1\n",
    "            print(word)\n",
    "        print(filedata)\n",
    "filepath='DataFiles/data.txt'\n",
    "wordCount(filepath)"
   ]
  },
  {
   "cell_type": "code",
   "execution_count": 72,
   "metadata": {},
   "outputs": [
    {
     "name": "stdout",
     "output_type": "stream",
     "text": [
      "['new', 'data', 'Line2', 'Line3', 'hi', 'new', 'data']\n",
      "7\n"
     ]
    }
   ],
   "source": [
    "def wordCount2(filepath):\n",
    "    with open(filepath, 'r') as f:\n",
    "        filedata=f.read()\n",
    "        #li=list(filedata.split())\n",
    "        words=list(filedata.split())\n",
    "        print(words)\n",
    "        print(len(words))\n",
    "filepath='DataFiles/data.txt'\n",
    "wordCount2(filepath)"
   ]
  },
  {
   "cell_type": "code",
   "execution_count": 84,
   "metadata": {},
   "outputs": [
    {
     "name": "stdout",
     "output_type": "stream",
     "text": [
      "4\n"
     ]
    }
   ],
   "source": [
    "def lineCount(filepath):\n",
    "    linespace=0\n",
    "    lines=0\n",
    "    with open(filepath, 'r') as f:\n",
    "        filedata=f.read()\n",
    "        for i in filedata:\n",
    "            if i=='\\n':\n",
    "                linespace=linespace+1\n",
    "        lines=linespace+1\n",
    "        print(lines)\n",
    "filepath='DataFiles/data.txt'\n",
    "lineCount(filepath)"
   ]
  },
  {
   "cell_type": "code",
   "execution_count": 83,
   "metadata": {},
   "outputs": [
    {
     "data": {
      "text/plain": [
       "4"
      ]
     },
     "execution_count": 83,
     "metadata": {},
     "output_type": "execute_result"
    }
   ],
   "source": [
    "def lineCount2(filepath):\n",
    "    with open(filepath, 'r') as f:\n",
    "        for i, l in enumerate(f):\n",
    "            pass\n",
    "        return i+1\n",
    "        \n",
    "filepath='DataFiles/data.txt'\n",
    "lineCount2(filepath)"
   ]
  },
  {
   "cell_type": "code",
   "execution_count": 85,
   "metadata": {},
   "outputs": [
    {
     "name": "stdout",
     "output_type": "stream",
     "text": [
      "{'new': 2, 'data': 2, 'Line2': 1, 'Line3': 1, 'hi': 1}\n",
      "5 is a unique word count\n"
     ]
    }
   ],
   "source": [
    "def uniqueWordCount(filepath):\n",
    "    with open(filepath, 'r') as f:\n",
    "        count={}\n",
    "        wordcount=0\n",
    "        filedata=str(f.read())\n",
    "        li=filedata.split()\n",
    "        for i in li:\n",
    "            if i in count:\n",
    "               count[i]=count[i]+1\n",
    "            else:\n",
    "                count[i]=1\n",
    "        print(count)\n",
    "        print(len(count), \"is a unique word count\")\n",
    "filepath='DataFiles/data.txt'\n",
    "uniqueWordCount(filepath)\n"
   ]
  },
  {
   "cell_type": "code",
   "execution_count": 64,
   "metadata": {},
   "outputs": [],
   "source": [
    "with open('DataFiles/data.txt', 'a') as f:\n",
    "    data='\\nhi new data'\n",
    "    f.write(data)"
   ]
  },
  {
   "cell_type": "code",
   "execution_count": null,
   "metadata": {},
   "outputs": [],
   "source": []
  }
 ],
 "metadata": {
  "kernelspec": {
   "display_name": "Python 3",
   "language": "python",
   "name": "python3"
  },
  "language_info": {
   "codemirror_mode": {
    "name": "ipython",
    "version": 3
   },
   "file_extension": ".py",
   "mimetype": "text/x-python",
   "name": "python",
   "nbconvert_exporter": "python",
   "pygments_lexer": "ipython3",
   "version": "3.7.3"
  }
 },
 "nbformat": 4,
 "nbformat_minor": 2
}
