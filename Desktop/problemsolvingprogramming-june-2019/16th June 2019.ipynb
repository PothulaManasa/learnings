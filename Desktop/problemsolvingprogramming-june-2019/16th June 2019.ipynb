{
 "cells": [
  {
   "cell_type": "code",
   "execution_count": null,
   "metadata": {},
   "outputs": [
    {
     "name": "stdout",
     "output_type": "stream",
     "text": [
      "5\n",
      "5\n",
      "No\n",
      "4\n",
      "No\n",
      "28\n",
      "Yes\n",
      "30\n",
      "No\n"
     ]
    }
   ],
   "source": [
    "#Funtion to find the number where sum of it's factors should be equal to the number\n",
    "\n",
    "def sumOfFactors(t, n):\n",
    "    for t in range(1, t+1):\n",
    "        sum=0\n",
    "        n=int(input())\n",
    "        for i in range(1, n):\n",
    "            if n%i==0:\n",
    "                sum=sum + i\n",
    "        if sum==n:\n",
    "            print(\"Yes\")\n",
    "        elif sum!=n:\n",
    "            print(\"No\")\n",
    "t=int(input())\n",
    "sumOfFactors(t, n)\n"
   ]
  },
  {
   "cell_type": "code",
   "execution_count": 11,
   "metadata": {},
   "outputs": [
    {
     "name": "stdout",
     "output_type": "stream",
     "text": [
      "28\n",
      "Yes\n"
     ]
    }
   ],
   "source": [
    "sum=0\n",
    "n=int(input())\n",
    "for i in range(1, n):\n",
    "    if n%i==0:\n",
    "        sum=sum + i\n",
    "if sum==n:\n",
    "    print(\"Yes\")\n",
    "elif sum!=n:\n",
    "    print(\"No\")\n"
   ]
  },
  {
   "cell_type": "code",
   "execution_count": 15,
   "metadata": {},
   "outputs": [
    {
     "ename": "SyntaxError",
     "evalue": "unexpected EOF while parsing (<ipython-input-15-0bfbcad163d9>, line 4)",
     "output_type": "error",
     "traceback": [
      "\u001b[1;36m  File \u001b[1;32m\"<ipython-input-15-0bfbcad163d9>\"\u001b[1;36m, line \u001b[1;32m4\u001b[0m\n\u001b[1;33m    \u001b[0m\n\u001b[1;37m    ^\u001b[0m\n\u001b[1;31mSyntaxError\u001b[0m\u001b[1;31m:\u001b[0m unexpected EOF while parsing\n"
     ]
    }
   ],
   "source": [
    "#Function to find the prime factors in for given number and test if it their count is equal to \n",
    "\n",
    "def numberOfPrimeFactor():\n",
    "        "
   ]
  },
  {
   "cell_type": "code",
   "execution_count": 12,
   "metadata": {},
   "outputs": [
    {
     "name": "stdout",
     "output_type": "stream",
     "text": [
      "28\n"
     ]
    }
   ],
   "source": [
    "def primeFactors(i):\n",
    "    count=0\n",
    "    for n in range(2, i):\n",
    "        if i%n == 0:\n",
    "            for num in range(2, n):\n",
    "                if n%num==0:\n",
    "                    return\n",
    "                return n\n",
    "                #count=count+1\n",
    "            #return count\n",
    "                #return n\n",
    "i = int(input())\n",
    "primeFactors(i)"
   ]
  },
  {
   "cell_type": "code",
   "execution_count": 2,
   "metadata": {},
   "outputs": [
    {
     "name": "stdout",
     "output_type": "stream",
     "text": [
      "4\n",
      "4\n"
     ]
    }
   ],
   "source": [
    "def number(n):\n",
    "    for num in range(2, n):\n",
    "        if n%num==0:\n",
    "            break\n",
    "        return n\n",
    "\n",
    "n=int(input())\n",
    "number(n)"
   ]
  },
  {
   "cell_type": "code",
   "execution_count": 42,
   "metadata": {},
   "outputs": [
    {
     "name": "stdout",
     "output_type": "stream",
     "text": [
      "11\n",
      "6\n",
      "3\n",
      "2\n"
     ]
    }
   ],
   "source": [
    "s=\"manasa123@#\"\n",
    "l=len(s)\n",
    "alpha=0\n",
    "num=0\n",
    "spcl=0\n",
    "print(l)\n",
    "for i in range(0, l):\n",
    "    if s[i].isalpha():\n",
    "        alpha=alpha+1\n",
    "    elif s[i].isdigit():\n",
    "        num=num+1\n",
    "    else:\n",
    "        spcl=spcl+1\n",
    "\n",
    "print(alpha)\n",
    "print(num)\n",
    "print(spcl)"
   ]
  },
  {
   "cell_type": "code",
   "execution_count": 14,
   "metadata": {},
   "outputs": [
    {
     "name": "stdout",
     "output_type": "stream",
     "text": [
      "ma2na3sa1@&*\n",
      "12\n",
      "6\n",
      "3\n",
      "3\n"
     ]
    }
   ],
   "source": [
    "def countString(s):\n",
    "    l=len(s)\n",
    "    alpha=0\n",
    "    num=0\n",
    "    spcl=0\n",
    "    print(l)\n",
    "    for i in range(0, l):\n",
    "        if s[i].isalpha():\n",
    "            alpha=alpha+1\n",
    "        elif s[i].isdigit():\n",
    "            num=num+1\n",
    "        else:\n",
    "            spcl=spcl+1\n",
    "\n",
    "    print(alpha)\n",
    "    print(num)\n",
    "    print(spcl)\n",
    "s=str(input())\n",
    "countString(s)"
   ]
  },
  {
   "cell_type": "code",
   "execution_count": null,
   "metadata": {},
   "outputs": [],
   "source": []
  }
 ],
 "metadata": {
  "kernelspec": {
   "display_name": "Python 3",
   "language": "python",
   "name": "python3"
  },
  "language_info": {
   "codemirror_mode": {
    "name": "ipython",
    "version": 3
   },
   "file_extension": ".py",
   "mimetype": "text/x-python",
   "name": "python",
   "nbconvert_exporter": "python",
   "pygments_lexer": "ipython3",
   "version": "3.7.3"
  }
 },
 "nbformat": 4,
 "nbformat_minor": 2
}
