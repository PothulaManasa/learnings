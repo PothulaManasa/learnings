{
 "cells": [
  {
   "cell_type": "markdown",
   "metadata": {},
   "source": [
    "### Day Objectives:\n",
    "* Python Data Structures\n",
    " * Lists\n",
    " * Tuples\n",
    " * Dictionaries\n",
    "* Basic Problem set on Data Structures\n",
    "* Advanced Problem Set\n",
    "* Packages and Modules in Python"
   ]
  },
  {
   "cell_type": "code",
   "execution_count": null,
   "metadata": {},
   "outputs": [],
   "source": []
  },
  {
   "cell_type": "markdown",
   "metadata": {},
   "source": [
    "### Python Data Structures\n",
    "###### Lists\n"
   ]
  },
  {
   "cell_type": "code",
   "execution_count": 22,
   "metadata": {},
   "outputs": [
    {
     "data": {
      "text/plain": [
       "[123, 345, 654, 234, 456, 789]"
      ]
     },
     "execution_count": 22,
     "metadata": {},
     "output_type": "execute_result"
    }
   ],
   "source": [
    "li = [123, 978, 654] # Defining list -> we use '[]' square brackets. But in other programming languages we use it for arrays\n",
    "li # Access the entire list\n",
    "li[1] #Access an element with index in a list -> 0 gives first element, 1 gives second element till n-1.\n",
    "li[1:] # Gives the elements from index one to the last index i.e.,second element to last element\n",
    "li[::-1] # gives the element in reverse direction\n",
    "li = li[::-1] # Assigning the reverse order to li\n",
    "li\n",
    "li = li[::-1] # Reversing and reassigning the list to li\n",
    "li[::2] # Accessing even index elements\n",
    "li[1::2] #Accessing odd index elements\n",
    "\n",
    "#Lists can be accessed, manipulated in \n",
    "    #Direct Referencing - [index]\n",
    "    #Indirect Referencing - Through function\n",
    "    \n",
    "\n",
    "li.append(345) #Adding an element to end of the list -> append() is a predefined function\n",
    "li.insert(1, 234) # Adding an element at a particular index -> li(index, value)\n",
    "li.sort() #Sort elements in ascending order\n",
    "li.pop() #Remove the last element in a list and returns that value\n",
    "li.pop(1) #Remove an element at a particular index li(index)\n",
    "\n",
    "li2=[234, 456, 789]\n",
    "\n",
    "li.extend(li2) #Merge list2 and list1 we use extend() function -> elements of second list are added to elements of first list => listname.extend(listname)\n",
    "sum(li) # gives the some of all the elements in the list\n",
    "max(li) # Maximum element of a list\n",
    "len(li) # Number of elements in the list\n",
    "\n",
    "sum(li)/len(li) #Average of list elements\n",
    "sum(li[::2])/len(li[::2]) #Average of all alternate elements\n",
    "li1=sorted(li, reverse=True) #gives the descending order of a list\n",
    "li.index(value) #Gives the index of a given value if that value is not there it gives an error -> to avoid that we can use try catch\n",
    "li1\n",
    "li"
   ]
  },
  {
   "cell_type": "code",
   "execution_count": 18,
   "metadata": {},
   "outputs": [
    {
     "name": "stdout",
     "output_type": "stream",
     "text": [
      "654\n"
     ]
    }
   ],
   "source": [
    "# Function to identify the second largest element\n",
    "    # 1.Sort the data and select the second largest\n",
    "    # 2.Sort the data in reverse order and selec the second largest\n",
    "    # 3.Remove max element and get the max -> so second largest will be printed\n",
    "    # 4.Write a loop so the condition will give greater than all and lesser than max\n",
    "\n",
    "def secondLargest(li):\n",
    "    li1=sorted(li, reverse=True)\n",
    "    li1\n",
    "print(li1[1])\n"
   ]
  },
  {
   "cell_type": "code",
   "execution_count": 15,
   "metadata": {},
   "outputs": [
    {
     "data": {
      "text/plain": [
       "654"
      ]
     },
     "execution_count": 15,
     "metadata": {},
     "output_type": "execute_result"
    }
   ],
   "source": [
    "# Function to identify the second largest element\n",
    "def secondLargestNumber(li):\n",
    "    li.sort()\n",
    "    return li[-2] #Gives the 2nd largest number\n",
    "secondLargestNumber(li)"
   ]
  },
  {
   "cell_type": "code",
   "execution_count": 19,
   "metadata": {},
   "outputs": [
    {
     "data": {
      "text/plain": [
       "234"
      ]
     },
     "execution_count": 19,
     "metadata": {},
     "output_type": "execute_result"
    }
   ],
   "source": [
    "#Function that returns the nth largest \n",
    "\n",
    "def genericLargest(li, n):\n",
    "    li.sort()\n",
    "    return li[-n] #Gives the nth lastgest number\n",
    "\n",
    "genericLargest(li, 5)"
   ]
  },
  {
   "cell_type": "code",
   "execution_count": 50,
   "metadata": {},
   "outputs": [
    {
     "data": {
      "text/plain": [
       "5"
      ]
     },
     "execution_count": 50,
     "metadata": {},
     "output_type": "execute_result"
    }
   ],
   "source": [
    "# Function to search for data in a list and return the index of the key\n",
    "#Search for key in the list and return index\n",
    "\n",
    "def linearSearch(li, key):\n",
    "    for index in range(0, len(li)): # Or we can use 'for index in li:''\n",
    "        if li[index] == key:\n",
    "            return index\n",
    "    return -1\n",
    "        \n",
    "linearSearch(li, 234)\n",
    "\n",
    "def linearSearch2(li, key):\n",
    "    for element in li:\n",
    "        if element == key:\n",
    "            return li.index(element)\n",
    "    return -1\n",
    "linearSearch2(li, 234)\n",
    "            \n",
    "\n",
    "def linearSearch3(li, key):\n",
    "    if key in li:\n",
    "        return li.index(key)\n",
    "    else:\n",
    "        return -1\n",
    "linearSearch3(li, 789)    "
   ]
  },
  {
   "cell_type": "code",
   "execution_count": 57,
   "metadata": {},
   "outputs": [
    {
     "ename": "TypeError",
     "evalue": "'str' object is not callable",
     "output_type": "error",
     "traceback": [
      "\u001b[1;31m---------------------------------------------------------------------------\u001b[0m",
      "\u001b[1;31mTypeError\u001b[0m                                 Traceback (most recent call last)",
      "\u001b[1;32m<ipython-input-57-b45266b2070e>\u001b[0m in \u001b[0;36m<module>\u001b[1;34m\u001b[0m\n\u001b[0;32m     10\u001b[0m     \u001b[1;32mreturn\u001b[0m\u001b[1;33m\u001b[0m\u001b[1;33m\u001b[0m\u001b[0m\n\u001b[0;32m     11\u001b[0m \u001b[1;33m\u001b[0m\u001b[0m\n\u001b[1;32m---> 12\u001b[1;33m \u001b[0moccurencesInString\u001b[0m\u001b[1;33m(\u001b[0m\u001b[1;34m\"manasa\"\u001b[0m\u001b[1;33m,\u001b[0m \u001b[1;34m'a'\u001b[0m\u001b[1;33m)\u001b[0m\u001b[1;33m\u001b[0m\u001b[1;33m\u001b[0m\u001b[0m\n\u001b[0m",
      "\u001b[1;32m<ipython-input-57-b45266b2070e>\u001b[0m in \u001b[0;36moccurencesInString\u001b[1;34m(s, c)\u001b[0m\n\u001b[0;32m      5\u001b[0m     \u001b[0mcount\u001b[0m\u001b[1;33m=\u001b[0m\u001b[1;36m0\u001b[0m\u001b[1;33m\u001b[0m\u001b[1;33m\u001b[0m\u001b[0m\n\u001b[0;32m      6\u001b[0m     \u001b[1;32mfor\u001b[0m \u001b[0mn\u001b[0m \u001b[1;32min\u001b[0m \u001b[0mrange\u001b[0m\u001b[1;33m(\u001b[0m\u001b[1;36m0\u001b[0m\u001b[1;33m,\u001b[0m \u001b[0mlen\u001b[0m\u001b[1;33m(\u001b[0m\u001b[0ms\u001b[0m\u001b[1;33m)\u001b[0m\u001b[1;33m)\u001b[0m\u001b[1;33m:\u001b[0m\u001b[1;33m\u001b[0m\u001b[1;33m\u001b[0m\u001b[0m\n\u001b[1;32m----> 7\u001b[1;33m         \u001b[1;32mif\u001b[0m \u001b[0ms\u001b[0m\u001b[1;33m(\u001b[0m\u001b[0mn\u001b[0m\u001b[1;33m)\u001b[0m\u001b[1;33m==\u001b[0m\u001b[0mc\u001b[0m\u001b[1;33m:\u001b[0m\u001b[1;33m\u001b[0m\u001b[1;33m\u001b[0m\u001b[0m\n\u001b[0m\u001b[0;32m      8\u001b[0m             \u001b[0mcount\u001b[0m\u001b[1;33m=\u001b[0m\u001b[0mcount\u001b[0m\u001b[1;33m+\u001b[0m\u001b[1;36m1\u001b[0m\u001b[1;33m\u001b[0m\u001b[1;33m\u001b[0m\u001b[0m\n\u001b[0;32m      9\u001b[0m         \u001b[0mprint\u001b[0m\u001b[1;33m(\u001b[0m\u001b[0mcount\u001b[0m\u001b[1;33m)\u001b[0m\u001b[1;33m\u001b[0m\u001b[1;33m\u001b[0m\u001b[0m\n",
      "\u001b[1;31mTypeError\u001b[0m: 'str' object is not callable"
     ]
    }
   ],
   "source": [
    "#Function to count the occurences of a character in a string\n",
    "#\"Python Programming\" --> no of times 'm' is repeating\n",
    "\n",
    "def occurencesInString(s, ss):\n",
    "    count=0\n",
    "    for n in range(0, len(s)):\n",
    "        if s(n)==c:\n",
    "            count=count+1\n",
    "        print(count)\n",
    "    return\n",
    "    \n",
    "occurencesInString(\"manasa\", 'a')"
   ]
  },
  {
   "cell_type": "code",
   "execution_count": 59,
   "metadata": {},
   "outputs": [
    {
     "data": {
      "text/plain": [
       "3"
      ]
     },
     "execution_count": 59,
     "metadata": {},
     "output_type": "execute_result"
    }
   ],
   "source": [
    "def countCharOccurences(s, c):\n",
    "    count=0\n",
    "    for ch in s:\n",
    "        if ch==c:\n",
    "            count += 1\n",
    "    return count\n",
    "countCharOccurences(\"manasa\", 'a')\n",
    "\n",
    "    "
   ]
  },
  {
   "cell_type": "code",
   "execution_count": 63,
   "metadata": {},
   "outputs": [
    {
     "data": {
      "text/plain": [
       "2"
      ]
     },
     "execution_count": 63,
     "metadata": {},
     "output_type": "execute_result"
    }
   ],
   "source": [
    "def charCountOccurences(s, c):\n",
    "    return s.count(c)\n",
    "charCountOccurences(\"Hello There How is she \", 'he')"
   ]
  },
  {
   "cell_type": "code",
   "execution_count": null,
   "metadata": {},
   "outputs": [],
   "source": [
    "#Function to find the number of occurances of substring\n",
    "#\"abcabcddcaaaa\" -> \"aa\"->3"
   ]
  }
 ],
 "metadata": {
  "kernelspec": {
   "display_name": "Python 3",
   "language": "python",
   "name": "python3"
  },
  "language_info": {
   "codemirror_mode": {
    "name": "ipython",
    "version": 3
   },
   "file_extension": ".py",
   "mimetype": "text/x-python",
   "name": "python",
   "nbconvert_exporter": "python",
   "pygments_lexer": "ipython3",
   "version": "3.7.3"
  }
 },
 "nbformat": 4,
 "nbformat_minor": 2
}
