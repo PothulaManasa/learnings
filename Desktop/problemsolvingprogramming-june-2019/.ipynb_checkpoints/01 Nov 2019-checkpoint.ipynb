{
 "cells": [
  {
   "cell_type": "code",
   "execution_count": 9,
   "metadata": {},
   "outputs": [
    {
     "name": "stdout",
     "output_type": "stream",
     "text": [
      "[1, 4, 9, 16, 25]\n",
      "[1, 9, 25, 49, 81]\n",
      "[0, 0]\n",
      "[1, 1]\n",
      "[4, 8]\n",
      "[9, 27]\n",
      "[16, 64]\n"
     ]
    },
    {
     "ename": "TypeError",
     "evalue": "'list' object is not callable",
     "output_type": "error",
     "traceback": [
      "\u001b[1;31m---------------------------------------------------------------------------\u001b[0m",
      "\u001b[1;31mTypeError\u001b[0m                                 Traceback (most recent call last)",
      "\u001b[1;32m<ipython-input-9-1237b78b57cb>\u001b[0m in \u001b[0;36m<module>\u001b[1;34m\u001b[0m\n\u001b[0;32m     20\u001b[0m \u001b[1;32mfor\u001b[0m \u001b[0mr\u001b[0m \u001b[1;32min\u001b[0m \u001b[0mrange\u001b[0m\u001b[1;33m(\u001b[0m\u001b[1;36m5\u001b[0m\u001b[1;33m)\u001b[0m\u001b[1;33m:\u001b[0m\u001b[1;33m\u001b[0m\u001b[1;33m\u001b[0m\u001b[0m\n\u001b[0;32m     21\u001b[0m     \u001b[0mprint\u001b[0m\u001b[1;33m(\u001b[0m\u001b[0mlist\u001b[0m\u001b[1;33m(\u001b[0m\u001b[0mmap\u001b[0m\u001b[1;33m(\u001b[0m\u001b[1;32mlambda\u001b[0m \u001b[0mx\u001b[0m\u001b[1;33m:\u001b[0m \u001b[0mx\u001b[0m\u001b[1;33m(\u001b[0m\u001b[0mr\u001b[0m\u001b[1;33m)\u001b[0m\u001b[1;33m,\u001b[0m \u001b[0mfunc\u001b[0m\u001b[1;33m)\u001b[0m\u001b[1;33m)\u001b[0m\u001b[1;33m)\u001b[0m\u001b[1;33m\u001b[0m\u001b[1;33m\u001b[0m\u001b[0m\n\u001b[1;32m---> 22\u001b[1;33m \u001b[0mprint\u001b[0m\u001b[1;33m(\u001b[0m\u001b[0mlist\u001b[0m\u001b[1;33m(\u001b[0m\u001b[0mmap\u001b[0m\u001b[1;33m(\u001b[0m\u001b[0mfunc\u001b[0m\u001b[1;33m,\u001b[0m \u001b[0mitems4\u001b[0m\u001b[1;33m)\u001b[0m\u001b[1;33m)\u001b[0m\u001b[1;33m)\u001b[0m\u001b[1;33m\u001b[0m\u001b[1;33m\u001b[0m\u001b[0m\n\u001b[0m\u001b[0;32m     23\u001b[0m \u001b[1;31m#Squaring all the numbers in a list using map function and lambda concept:\u001b[0m\u001b[1;33m\u001b[0m\u001b[1;33m\u001b[0m\u001b[1;33m\u001b[0m\u001b[0m\n\u001b[0;32m     24\u001b[0m \u001b[1;33m\u001b[0m\u001b[0m\n",
      "\u001b[1;31mTypeError\u001b[0m: 'list' object is not callable"
     ]
    }
   ],
   "source": [
    "#Maps Concept:\n",
    "#Squaring all the numbers in a list using a for loop:\n",
    "items1=[1,2,3,4,5]\n",
    "sqr=[]\n",
    "for i in items1:\n",
    "    sqr.append(i**2)\n",
    "print(sqr)\n",
    "\n",
    "#Squaring all the numbers in a list using map function:\n",
    "def sqrs(x):\n",
    "    return x**2\n",
    "items2=[1,3,5,7,9]\n",
    "print(list(map(sqrs,items2)))\n",
    "\n",
    "def cube(x):\n",
    "    return x**3\n",
    "\n",
    "func = [sqrs, cube]\n",
    "for r in range(5):\n",
    "    print(list(map(lambda x: x(r), func)))\n",
    "    \n",
    "\n",
    "#Squaring all the numbers in a list using map function and lambda concept:\n",
    "\n",
    "items3=[2,4,6,8]\n",
    "print(list(map(lambda x:x**2, items3)))\n",
    "\n"
   ]
  },
  {
   "cell_type": "markdown",
   "metadata": {},
   "source": [
    "Task:\n",
    "Define a class which has atleast two methods.\n",
    "\n",
    "First method need to get the details of the user like Name,Surname and Date of Birth(dd/mm/yyyy).\n",
    "Second method need to print that information like Name as Proper case and age in years.\n",
    "\n",
    "Ex:\n",
    "\n",
    "Your Name: TILAK BaBu\n",
    "Your Surname: bopparaju\n",
    "Your DoB: 28/06/1994\n",
    "\n",
    "Output: Hi Bopparaju, Tilak Babu. You're 25 years 4 Months 4 Days Old\n",
    "\n",
    "Note: We will call functions as methods when those are in Classes. Else we will call them as functions only"
   ]
  },
  {
   "cell_type": "code",
   "execution_count": 55,
   "metadata": {},
   "outputs": [
    {
     "name": "stdout",
     "output_type": "stream",
     "text": [
      "Please enter your First Name\n",
      "manasa\n",
      "Please enter your Last Name\n",
      "pothula\n",
      "Please enter your DOB in dd mm yyyy format\n",
      "03 07 1994\n",
      "Hi  Pothula ,  Manasa .  You're 25 years  4 months  8 days old\n",
      "Please enter your Salary\n",
      "12000\n",
      "Enter TDS percentage\n",
      "10\n",
      "You will receive 14400.0 rupees TDS amount per year.\n"
     ]
    }
   ],
   "source": [
    "import datetime\n",
    "current=datetime.datetime.now()\n",
    "year=current.year\n",
    "month=current.month\n",
    "day=current.month\n",
    "class User():\n",
    "    def userDetails(self):\n",
    "        print(\"Please enter your First Name\")\n",
    "        fname= input()\n",
    "        print(\"Please enter your Last Name\")\n",
    "        lname= input()\n",
    "        print(\"Please enter your DOB in dd mm yyyy format\")\n",
    "        dob=input()\n",
    "        li=dob.split()\n",
    "        return fname, lname, li\n",
    "       \n",
    "#         print(li)\n",
    "    def showUser(self):\n",
    "        fname, lname, li = user.userDetails()\n",
    "        y=int(li[2])\n",
    "        m=int(li[1])\n",
    "        d=int(li[0]) \n",
    "        print(\"Hi \", lname.title(), ', ', fname.title(), '. ', \"You're\", abs(y-year), 'years ', abs(m-month), 'months ', abs(d-day), 'days old')\n",
    "    \n",
    "    def tds(self):\n",
    "        print(\"Please enter your Salary\")\n",
    "        sal=int(input())\n",
    "        print(\"Enter TDS percentage\")\n",
    "        per=int(input())\n",
    "        print(\"You will receive\", 12*(sal*(per/100)), \"rupees TDS amount per year.\")\n",
    "        \n",
    "user=User()\n",
    "\n",
    "user.showUser()\n",
    "user.tds()"
   ]
  },
  {
   "cell_type": "code",
   "execution_count": 52,
   "metadata": {},
   "outputs": [
    {
     "name": "stdout",
     "output_type": "stream",
     "text": [
      "Please enter your Salary\n",
      "12000\n",
      "Enter TDS percentage\n",
      "10\n",
      "You will receive 14400.0  TDS amount per year.\n"
     ]
    }
   ],
   "source": []
  },
  {
   "cell_type": "code",
   "execution_count": 54,
   "metadata": {},
   "outputs": [
    {
     "name": "stdout",
     "output_type": "stream",
     "text": [
      "Enter the principle amount\n",
      "12000\n",
      "enter the rate of interest\n",
      "10\n",
      "enter the time period\n",
      "1\n",
      "Simple Interest is:  1200.0\n"
     ]
    }
   ],
   "source": [
    "class simpleInterest():\n",
    "    def values(self):\n",
    "        print(\"Enter the principle amount\")\n",
    "        pri=int(input())\n",
    "        print(\"enter the rate of interest\")\n",
    "        rate=int(input())\n",
    "        print(\"enter the time period in months\")\n",
    "        time=int(input())\n",
    "        return pri, rate, time\n",
    "    def interest(self):\n",
    "        pri, rate, time= si.values()\n",
    "        print(\"Simple Interest is: \", (pri*(time*(rate)))/100)\n",
    "si=simpleInterest()\n",
    "si.interest()"
   ]
  },
  {
   "cell_type": "code",
   "execution_count": null,
   "metadata": {},
   "outputs": [],
   "source": []
  }
 ],
 "metadata": {
  "kernelspec": {
   "display_name": "Python 3",
   "language": "python",
   "name": "python3"
  },
  "language_info": {
   "codemirror_mode": {
    "name": "ipython",
    "version": 3
   },
   "file_extension": ".py",
   "mimetype": "text/x-python",
   "name": "python",
   "nbconvert_exporter": "python",
   "pygments_lexer": "ipython3",
   "version": "3.7.3"
  }
 },
 "nbformat": 4,
 "nbformat_minor": 2
}
