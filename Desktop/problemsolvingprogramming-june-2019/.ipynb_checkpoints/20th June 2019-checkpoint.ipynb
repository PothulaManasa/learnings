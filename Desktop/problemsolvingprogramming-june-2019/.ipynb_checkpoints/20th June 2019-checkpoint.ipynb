{
 "cells": [
  {
   "cell_type": "markdown",
   "metadata": {},
   "source": [
    "### Day Objectives:\n",
    "* Regular Expressions\n",
    " * Constructing Regular Expressions for various use cases\n",
    " * Regular Expressions Module and related in Python\n",
    "* Improving the contacts application with name and phone number validation using regular expressions\n",
    " * File Handling\n",
    " * Text Files\n",
    " * Upgrading the Contacts Application to store contact information in a text file"
   ]
  },
  {
   "cell_type": "code",
   "execution_count": null,
   "metadata": {},
   "outputs": [],
   "source": []
  },
  {
   "cell_type": "markdown",
   "metadata": {},
   "source": [
    "#### Regular Expressions\n",
    "\n",
    "- Pattern Matching\n",
    "- Symbolic Notation of a pattern\n",
    "    - Pattern : Format which repeats\n",
    "    - Pattern(RE) - The set of all values/data/strings that matches that pattern\n",
    "- [0-9] ->Any Digit\n",
    "\n",
    "- [a-z] ->Any Lower Case Alphabet\n",
    "- [2468] -> All single digit multiples of 2\n",
    "    [8642] ->we can give like this also -> order is not important -> order is important only we want to the string in a same order\n",
    "    [6824]\n",
    "- https://regex101.com/ -> is the website to check the regular expressions\n",
    "- ^[0-9]{1}$ -> for only single digit numbers\n",
    " \n",
    "- ^[0-9]{2}$ -> for only double digit numbers\n",
    " \n",
    "- ^[0-9]{3}$ -> for only 3 digit numbers\n",
    " \n",
    "- ^[0-9]{3} -> if we remove '$' symbol it will highlight the first 3 digits even there are more than 3 digits\n",
    " \n",
    "- '^' -> represents start\n",
    " \n",
    "- '$' -> represents end\n",
    " \n",
    "- [0-9]{3}$ -> highlights the last 3 digits\n",
    " \n",
    "- [0]$ -> multiples of 10 -> 10 will get 0 for it's multiples, highlights the last digit\n",
    " \n",
    "- [0-9]*0$ -> highlights the entire string which ends with '0' , multiples of 10\n",
    " \n",
    "- [1-9][0-9]*0$ -> this will not highlight the zero in the beginning of the string\n",
    " \n",
    "- ^[1-9][0-9]*[05]$ -> RE for all multiples of 5 --> this works for the multiples of 5 other than 5\n",
    " \n",
    "- ^([1-9][0-9]*[05])$|^([5])$ -> This works including 5\n",
    " \n",
    "- [1-9][0-9]{9}$ -> RE for validating 10 digit numbers\n",
    " \n",
    "- ^[6-9]{1}[0-9]{9}$|^[0][6-9]{1}[0-9]{9}$|[+][9][1][6-9]{1}[0-9]{9}$ ->   \n",
    " \n",
    "RE for validating phone number - India (should start with 9/8/7/6 followed by 9 digits) -> ^[6-9]{1}[0-9]{9}$ (or) ^[0][6-9]{1}[0-9]{9}$ (or) [+][9][1][6-9]{1}[0-9]{9}$\n",
    "\n",
    " \n",
    "- (print) or [p][r][i][n][t] -> to search for a word, here we won't keep '^' because it will search for word starting with that word and we won't use '$' because it will search for word ending with that word \n",
    " \n",
    "- ^[a-z][a-z0-9_.]{5,20}[@][a-z]{5,10}[.][a-z]{2,5}$   -> email validation (username@domain.extension)\n",
    "\n",
    "-    -> Email Validation (username@domain.extension)\n",
    "    - username\n",
    "        -Length of Username : [6,15]\n",
    "        -No special characters other than '_' and '.'\n",
    "        -shoudn't begin and end with '_' and '.'\n",
    "        -Character Set : all digits and alphabets\n",
    "    - domain\n",
    "        - Length of domain : [3, 18]\n",
    "        - No special characters\n",
    "        - Character Set : all digits and alphabets\n",
    "    - extension\n",
    "        - Length of extension : [2,4]\n",
    "        - No special characters and numbers\n",
    "        - Character Set : alphabets\n",
    "   \n",
    "    - ^[a-z0-9][a-z0-9_.]{4,17}[0-9a-z][@][a-z0-9]{3,15}[.][a-z]{2,5}$ (or) ^[a-z0-9][a-z0-9_.]{4,17}[0-9a-z][@][a-z0-9]{3,15}[.][a-z]{2,5}[.][a-z]{2,4}\n",
    "     \n",
    "        - ^[a-z0-9][a-z0-9_.]{4,17}[0-9a-z][@][a-z0-9]{3,15}[.][a-z]{2,5}$|^[a-z0-9][a-z0-9_.]{4,17}[0-9a-z][@][a-z0-9]{3,15}[.][a-z]{2,5}[.][a-z]{2,4}\n",
    " \n",
    " - https://docs.python.org/3/library/re.html -> RE in python documentation url\n",
    " \n",
    " \n",
    " --> any string which has length of 5 that starts with 'a' and ends with 'z'\n",
    "     - ^[a]...[z]$ --> here dots give 3 characters including alphabets, digits and special characters\n",
    "     - ^[a].*[z]$ --> gives 'n' number of characters in between 'a' and 'z'"
   ]
  },
  {
   "cell_type": "code",
   "execution_count": null,
   "metadata": {},
   "outputs": [],
   "source": []
  },
  {
   "cell_type": "code",
   "execution_count": 1,
   "metadata": {},
   "outputs": [
    {
     "name": "stdout",
     "output_type": "stream",
     "text": [
      "9059498813\n"
     ]
    },
    {
     "data": {
      "text/plain": [
       "True"
      ]
     },
     "execution_count": 1,
     "metadata": {},
     "output_type": "execute_result"
    }
   ],
   "source": [
    "#Function to validate a phone number\n",
    "\n",
    "import re #imports th regular expression package in Python\n",
    "\n",
    "def phoneNumberValidator(number):\n",
    "    pattern = '^[6-9]{1}[0-9]{9}$|^[0][6-9]{1}[0-9]{9}$|[+][9][1][6-9]{1}[0-9]{9}$'\n",
    "    if re.match(pattern, str(number)):\n",
    "        return True\n",
    "    return False\n",
    "number=input()\n",
    "phoneNumberValidator(number)"
   ]
  },
  {
   "cell_type": "code",
   "execution_count": 3,
   "metadata": {},
   "outputs": [
    {
     "ename": "TypeError",
     "evalue": "list indices must be integers or slices, not str",
     "output_type": "error",
     "traceback": [
      "\u001b[1;31m---------------------------------------------------------------------------\u001b[0m",
      "\u001b[1;31mTypeError\u001b[0m                                 Traceback (most recent call last)",
      "\u001b[1;32m<ipython-input-3-529a01d7b97a>\u001b[0m in \u001b[0;36m<module>\u001b[1;34m\u001b[0m\n\u001b[0;32m     21\u001b[0m     \u001b[1;32mreturn\u001b[0m\u001b[1;33m\u001b[0m\u001b[1;33m\u001b[0m\u001b[0m\n\u001b[0;32m     22\u001b[0m        \u001b[1;31m# print(\"Contact %s added\" %name)\u001b[0m\u001b[1;33m\u001b[0m\u001b[1;33m\u001b[0m\u001b[1;33m\u001b[0m\u001b[0m\n\u001b[1;32m---> 23\u001b[1;33m \u001b[0maddContact\u001b[0m\u001b[1;33m(\u001b[0m\u001b[1;34m\"venkatesh\"\u001b[0m\u001b[1;33m,\u001b[0m \u001b[1;36m9854444485\u001b[0m\u001b[1;33m,\u001b[0m \u001b[1;34m\"manasa.p@apssdc.in\"\u001b[0m\u001b[1;33m)\u001b[0m\u001b[1;33m\u001b[0m\u001b[1;33m\u001b[0m\u001b[0m\n\u001b[0m",
      "\u001b[1;32m<ipython-input-3-529a01d7b97a>\u001b[0m in \u001b[0;36maddContact\u001b[1;34m(name, phone, email)\u001b[0m\n\u001b[0;32m     17\u001b[0m         \u001b[0mnewcontact\u001b[0m\u001b[1;33m.\u001b[0m\u001b[0mappend\u001b[0m\u001b[1;33m(\u001b[0m\u001b[0mphone\u001b[0m\u001b[1;33m)\u001b[0m\u001b[1;33m\u001b[0m\u001b[1;33m\u001b[0m\u001b[0m\n\u001b[0;32m     18\u001b[0m         \u001b[0mnewcontact\u001b[0m\u001b[1;33m.\u001b[0m\u001b[0mappend\u001b[0m\u001b[1;33m(\u001b[0m\u001b[0memail\u001b[0m\u001b[1;33m)\u001b[0m\u001b[1;33m\u001b[0m\u001b[1;33m\u001b[0m\u001b[0m\n\u001b[1;32m---> 19\u001b[1;33m         \u001b[0mcontacts\u001b[0m\u001b[1;33m[\u001b[0m\u001b[0mname\u001b[0m\u001b[1;33m]\u001b[0m \u001b[1;33m=\u001b[0m \u001b[0mnewcontact\u001b[0m\u001b[1;33m\u001b[0m\u001b[1;33m\u001b[0m\u001b[0m\n\u001b[0m\u001b[0;32m     20\u001b[0m         \u001b[0mprint\u001b[0m\u001b[1;33m(\u001b[0m\u001b[1;34m\"Contact added Successfully\"\u001b[0m\u001b[1;33m)\u001b[0m\u001b[1;33m\u001b[0m\u001b[1;33m\u001b[0m\u001b[0m\n\u001b[0;32m     21\u001b[0m     \u001b[1;32mreturn\u001b[0m\u001b[1;33m\u001b[0m\u001b[1;33m\u001b[0m\u001b[0m\n",
      "\u001b[1;31mTypeError\u001b[0m: list indices must be integers or slices, not str"
     ]
    }
   ],
   "source": [
    "import re\n",
    "contacts = [\"name1\", 9999999999, \"mamama@gamil.com\"]\n",
    "\n",
    "def addContact(name, phone, email):\n",
    "    #Verify that the contact does not already exist\n",
    "    if name in contacts:\n",
    "        #print(\"Contact %s already exists\" %name)\n",
    "        print(\"Contact Already exist\")\n",
    "    else:\n",
    "        if not phoneNumberValidator(phone):\n",
    "            print(\"Invalid Phone Number\")\n",
    "            return\n",
    "        if not eMailValidator(mail):\n",
    "            print(\"Invalid mail ID\")\n",
    "            return\n",
    "        newcontact =[]\n",
    "        newcontact.append(phone)\n",
    "        newcontact.append(email)\n",
    "        contacts[name] = newcontact\n",
    "        print(\"Contact added Successfully\")\n",
    "    return\n",
    "       # print(\"Contact %s added\" %name)\n",
    "addContact(\"venkatesh\", 9854444485, \"manasa.p@apssdc.in\")"
   ]
  },
  {
   "cell_type": "code",
   "execution_count": 30,
   "metadata": {},
   "outputs": [
    {
     "name": "stdout",
     "output_type": "stream",
     "text": [
      "Contact Already exist\n"
     ]
    }
   ],
   "source": [
    "contacts = {\"manasa\":[9871234891, \"akjdhakh@kdjnf.in\"], \"kkkk\":[9876543210, \"ksjhfkhj@kjd.com\"]} #Initialisation of empty dictionary\n",
    "\n",
    "def addContact(name, phone, email):\n",
    "    #Verify that the contact does not already exist\n",
    "    if name in contacts:\n",
    "        #print(\"Contact %s already exists\" %name)\n",
    "        print(\"Contact Already exist\")\n",
    "    else:\n",
    "        if not phoneNumberValidator(phone):\n",
    "            print(\"Invalid Phone Number\")\n",
    "            return\n",
    "        if not eMailValidator(email):\n",
    "            print(\"Invalid mail ID\")\n",
    "            return\n",
    "        newcontact =[]\n",
    "        newcontact.append(phone)\n",
    "        newcontact.append(email)\n",
    "        contacts[name] = newcontact\n",
    "        print(\"Contact added Successfully\")\n",
    "    return\n",
    "       # print(\"Contact %s added\" %name)\n",
    "addContact(\"manasa\", 9854442485, \"manasa.p@apssdc.in\")"
   ]
  },
  {
   "cell_type": "code",
   "execution_count": 31,
   "metadata": {},
   "outputs": [
    {
     "data": {
      "text/plain": [
       "{'manasa': [9871234891, 'akjdhakh@kdjnf.in'],\n",
       " 'kkkk': [9876543210, 'ksjhfkhj@kjd.com']}"
      ]
     },
     "execution_count": 31,
     "metadata": {},
     "output_type": "execute_result"
    }
   ],
   "source": [
    "contacts"
   ]
  },
  {
   "cell_type": "code",
   "execution_count": 32,
   "metadata": {},
   "outputs": [
    {
     "name": "stdout",
     "output_type": "stream",
     "text": [
      "manasa\n",
      "Phone:  9871234891\n",
      "eMail:  akjdhakh@kdjnf.in\n"
     ]
    }
   ],
   "source": [
    "def searchContacts(name):\n",
    "    if name in contacts:\n",
    "        print(name)\n",
    "        print(\"Phone: \", contacts[name][0])\n",
    "        print(\"eMail: \", contacts[name][1])\n",
    "    else:\n",
    "        print(\"%s contact does not exist\" %name)\n",
    "searchContacts(\"manasa\")"
   ]
  },
  {
   "cell_type": "code",
   "execution_count": 2,
   "metadata": {},
   "outputs": [
    {
     "name": "stdout",
     "output_type": "stream",
     "text": [
      "manasapothulaapssdc@gmail.com\n"
     ]
    },
    {
     "data": {
      "text/plain": [
       "True"
      ]
     },
     "execution_count": 2,
     "metadata": {},
     "output_type": "execute_result"
    }
   ],
   "source": [
    "#Function to validate email\n",
    "\n",
    "def eMailValidator(mail):\n",
    "    pattern = '^[a-z0-9][a-z0-9_.]{4,17}[0-9a-z][@][a-z0-9]{3,15}[.][a-z]{2,5}$|^[a-z0-9][a-z0-9_.]{4,17}[0-9a-z][@][a-z0-9]{3,15}[.][a-z]{2,5}[.][a-z]{2,4}'\n",
    "    if re.match(pattern, str(mail)):\n",
    "        return True\n",
    "    return False\n",
    "        \n",
    "mail=input()\n",
    "eMailValidator(mail)"
   ]
  },
  {
   "cell_type": "code",
   "execution_count": 38,
   "metadata": {},
   "outputs": [
    {
     "name": "stdout",
     "output_type": "stream",
     "text": [
      "1 Contacts added Successfully\n"
     ]
    }
   ],
   "source": [
    "def importContacts(newContacts):\n",
    "    contacts.update(newContacts)\n",
    "    print(len(newContacts.keys()), \"Contacts added Successfully\")\n",
    "    return\n",
    "newContacts = {\"alekhya\":[9177033668, \"alekhya.b@apssdc.in\"]}\n",
    "importContacts(newContacts)"
   ]
  },
  {
   "cell_type": "code",
   "execution_count": 39,
   "metadata": {
    "scrolled": true
   },
   "outputs": [
    {
     "name": "stdout",
     "output_type": "stream",
     "text": [
      "manasa \n",
      " Phone:  9871234891 \n",
      " Email:  akjdhakh@kdjnf.in\n",
      "kkkk \n",
      " Phone:  9876543210 \n",
      " Email:  ksjhfkhj@kjd.com\n",
      "alekhya \n",
      " Phone:  9177033668 \n",
      " Email:  alekhya.b@apssdc.in\n"
     ]
    }
   ],
   "source": [
    "def listAllContacts():\n",
    "    for contact, info in contacts.items(): #for key, values in dictionary, here info is the list\n",
    "        print(contact, \"\\n\", \"Phone: \", info[0], \"\\n\", \"Email: \", info[1])\n",
    "    return\n",
    "listAllContacts()"
   ]
  },
  {
   "cell_type": "code",
   "execution_count": null,
   "metadata": {},
   "outputs": [],
   "source": [
    "# Delete Contact"
   ]
  },
  {
   "cell_type": "code",
   "execution_count": null,
   "metadata": {},
   "outputs": [],
   "source": [
    "#Function to modify/edit/update the contact information\n",
    "\n",
    "def editContact(name, phone, email):\n",
    "    "
   ]
  },
  {
   "cell_type": "code",
   "execution_count": 15,
   "metadata": {},
   "outputs": [],
   "source": [
    "#Find Product\n",
    "def findProduct(n):\n",
    "    li=[]\n",
    "        \n",
    "        \n",
    "    "
   ]
  },
  {
   "cell_type": "code",
   "execution_count": null,
   "metadata": {},
   "outputs": [],
   "source": []
  },
  {
   "cell_type": "markdown",
   "metadata": {},
   "source": [
    "#### File Handling in Python\n",
    "\n",
    "File - Document containing information residing on the permanent storage (either it can be cloud storage or local machine)\n",
    "\n",
    "Types - Text, PDF, CSV, Image(Jpeg, jpg, png etc.,), html, etc.,\n",
    "\n",
    "File I/O - Chanelling I/O data to files\n",
    "    - Default I/O channels - Keyboard/Screen\n",
    "    \n",
    " Change I/O channel to files for Reading and writing into files\n",
    " \n",
    " Read a file - Input from a file\n",
    " \n",
    " Write to a file - Output to a file\n",
    " \n",
    " Read / Write a file - Open(filename, mode)\n",
    " \n",
    " "
   ]
  },
  {
   "cell_type": "code",
   "execution_count": null,
   "metadata": {},
   "outputs": [],
   "source": []
  },
  {
   "cell_type": "code",
   "execution_count": 27,
   "metadata": {},
   "outputs": [
    {
     "name": "stdout",
     "output_type": "stream",
     "text": [
      "Line1\n",
      "\n",
      "Line2\n",
      "\n",
      "Line3\n"
     ]
    }
   ],
   "source": [
    "#Function to read a file\n",
    "\n",
    "def readFile(filename): #here we can directly give the file name if it is in the same folder else we have to give file path\n",
    "    f = open(filename, 'r')\n",
    "    filedata=f.read()\n",
    "    f.close\n",
    "    return filedata\n",
    "filename ='DataFiles/data.txt'\n",
    "filedata = readFile(filename)\n",
    "#for line in filedata.split('\\n'):\n",
    "#    print(line)\n",
    "\n",
    "def printFileDataLines(filename):\n",
    "    f = open(filename, 'r')\n",
    "    for line in f:\n",
    "        print(line)\n",
    "    return\n",
    "printFileDataLines(filename)"
   ]
  },
  {
   "cell_type": "code",
   "execution_count": 31,
   "metadata": {},
   "outputs": [
    {
     "name": "stdout",
     "output_type": "stream",
     "text": [
      "new data\n"
     ]
    }
   ],
   "source": [
    "def printFileDataLines(filename):\n",
    "    with open(filename, 'r') as f: #file opened must be closed, to avoid that we can use 'with open() as'\n",
    "        for line in f:\n",
    "            print(line)\n",
    "        return\n",
    "printFileDataLines(filename)"
   ]
  },
  {
   "cell_type": "code",
   "execution_count": null,
   "metadata": {},
   "outputs": [],
   "source": []
  },
  {
   "cell_type": "code",
   "execution_count": 30,
   "metadata": {},
   "outputs": [],
   "source": [
    "#Function to write data into a file\n",
    "\n",
    "def writeIntoFile(filename, filedata):\n",
    "    with open(filename, 'w') as f:\n",
    "        f. write(filedata)\n",
    "    return\n",
    "filename = 'DataFiles/data.txt'\n",
    "writeIntoFile(filename, \"new data\")"
   ]
  },
  {
   "cell_type": "code",
   "execution_count": 34,
   "metadata": {},
   "outputs": [],
   "source": [
    "#Function to append data\n",
    "\n",
    "def appendDataToFile(filename, filedata):\n",
    "    with open(filename, 'a') as f:\n",
    "        f.write(filedata)\n",
    "    return\n",
    "filename = 'DataFiles/data.txt'\n",
    "filedata = \"\\nLine2\\nLine3\"\n",
    "appendDataToFile(filename, filedata)"
   ]
  },
  {
   "cell_type": "code",
   "execution_count": 42,
   "metadata": {},
   "outputs": [],
   "source": [
    "#Function to append contacts in contacts.txt\n",
    "\n",
    "def appendDataToFile(filename, filedata):\n",
    "    with open(filename, 'a') as f:\n",
    "        f.write(filedata)\n",
    "    return\n",
    "filename = 'DataFiles/contacts.txt'\n",
    "s=str(contacts)\n",
    "filedata = s\n",
    "appendDataToFile(filename, filedata)"
   ]
  },
  {
   "cell_type": "code",
   "execution_count": 43,
   "metadata": {},
   "outputs": [
    {
     "data": {
      "text/plain": [
       "False"
      ]
     },
     "execution_count": 43,
     "metadata": {},
     "output_type": "execute_result"
    }
   ],
   "source": [
    "def isPrime(n):\n",
    "    for i in range(1, n):\n",
    "        if n%i==0:\n",
    "            return False\n",
    "        return True\n",
    "isPrime(433)"
   ]
  },
  {
   "cell_type": "code",
   "execution_count": null,
   "metadata": {},
   "outputs": [],
   "source": []
  }
 ],
 "metadata": {
  "kernelspec": {
   "display_name": "Python 3",
   "language": "python",
   "name": "python3"
  },
  "language_info": {
   "codemirror_mode": {
    "name": "ipython",
    "version": 3
   },
   "file_extension": ".py",
   "mimetype": "text/x-python",
   "name": "python",
   "nbconvert_exporter": "python",
   "pygments_lexer": "ipython3",
   "version": "3.7.3"
  }
 },
 "nbformat": 4,
 "nbformat_minor": 2
}
