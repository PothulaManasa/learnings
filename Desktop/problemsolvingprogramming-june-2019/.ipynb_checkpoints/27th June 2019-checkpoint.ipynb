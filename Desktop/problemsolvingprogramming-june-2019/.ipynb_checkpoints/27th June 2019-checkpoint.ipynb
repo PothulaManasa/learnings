{
 "cells": [
  {
   "cell_type": "code",
   "execution_count": 1,
   "metadata": {},
   "outputs": [
    {
     "name": "stdout",
     "output_type": "stream",
     "text": [
      "1 2\n",
      "1 3\n",
      "1 4\n",
      "2 3\n",
      "2 4\n",
      "3 4\n"
     ]
    }
   ],
   "source": [
    "#Function to print all combinations of pairs of integers in a unique list\n",
    "#[1,2,3] (1, 2), (1, 3), (2, 3) -> 3C2 -> 3!/((3-2)! * 2!)\n",
    "\n",
    "#[1,2,3,4] -> (1,2), (1,3), (1,4), (2,3), (2,4), (3,4)\n",
    "\n",
    "def combinations(li):\n",
    "    for i in range(len(li)-1):\n",
    "        for j in range(i+1, len(li)):\n",
    "            print(li[i], li[j])\n",
    "    return\n",
    "li=[1,2,3,4]\n",
    "combinations(li)"
   ]
  },
  {
   "cell_type": "code",
   "execution_count": 8,
   "metadata": {
    "scrolled": true
   },
   "outputs": [
    {
     "name": "stdout",
     "output_type": "stream",
     "text": [
      "1 2 3\n",
      "1 2 4\n",
      "1 2 5\n",
      "1 3 4\n",
      "1 3 5\n",
      "1 4 5\n",
      "2 3 4\n",
      "2 3 5\n",
      "2 4 5\n",
      "3 4 5\n"
     ]
    }
   ],
   "source": [
    "def combinations3(li):\n",
    "    for i in range(len(li)): #for i in range(len(li)-2): and for i in range(len(li)-1): also works\n",
    "        for j in range(i+1, len(li)): #for j in range(i+1, len(li)-1): also works\n",
    "            for k in range(j+1, len(li)):\n",
    "                print(li[i], li[j], li[k])\n",
    "    return\n",
    "li=[1,2,3,4,5]\n",
    "combinations3(li)"
   ]
  },
  {
   "cell_type": "code",
   "execution_count": null,
   "metadata": {},
   "outputs": [],
   "source": [
    "# List Data referencing \n",
    "\n",
    "a=[1,2,3]\n",
    "b=[2,3,1]\n",
    "a=b #if we copy like this, changes made in 'a' will effect 'b' and vice versa\n",
    "a=b.copy() #Data copy through indi   , changes made in 'a' will not effect 'b' and vice versa"
   ]
  },
  {
   "cell_type": "code",
   "execution_count": 34,
   "metadata": {},
   "outputs": [
    {
     "data": {
      "text/plain": [
       "[1, 9, 3, 8, 2, 6]"
      ]
     },
     "execution_count": 34,
     "metadata": {},
     "output_type": "execute_result"
    }
   ],
   "source": [
    "def medium(li):\n",
    "    while(True):\n",
    "        li2=differenceOfPairs(li)\n",
    "        if len(li2)==0:\n",
    "            break\n",
    "    return li\n",
    "\n",
    "def differenceOfPairs(li):\n",
    "    cli=li\n",
    "    newelements=[]\n",
    "    for i in range(len(li)-1):\n",
    "        for j in range(i+1, len(li)):\n",
    "            d=abs(li[i]-li[j])\n",
    "            if d not in li:\n",
    "                newelements.append(d)\n",
    "    li.extend(newelements)\n",
    "    return li\n",
    "    return newelements\n",
    "differenceOfPairs([1,9,3])"
   ]
  },
  {
   "cell_type": "code",
   "execution_count": 1,
   "metadata": {},
   "outputs": [
    {
     "data": {
      "text/plain": [
       "23"
      ]
     },
     "execution_count": 1,
     "metadata": {},
     "output_type": "execute_result"
    }
   ],
   "source": [
    "def medium(li,k):\n",
    "    while(True):\n",
    "        li3 = differencePairs(li)\n",
    "        if li3[0] == li3[1]:\n",
    "            break\n",
    "    if len(li3[0]) >= k:\n",
    "        return sorted(li3[0],reverse=True)[k-1]\n",
    "    return -1\n",
    "\n",
    "# Function to identify differences of all \n",
    "#pairs of numbers and add those differences\n",
    "#to the same list.\n",
    "# It returns the updated list and original list\n",
    "\n",
    "def differencePairs(li):\n",
    "    cli = li[:]\n",
    "    newelements = []\n",
    "    \n",
    "    for i in range(len(li)-1):\n",
    "        for j in range(i+1, len(li)):\n",
    "            d = abs(int(li[i])-int(li[j]))\n",
    "            if d not in li and d not in newelements:\n",
    "                newelements.append(str(d))\n",
    "    li.extend(newelements)\n",
    "    return [cli, li]\n",
    "\n",
    "li = [3,6,24]\n",
    "max(li)-2+1"
   ]
  },
  {
   "cell_type": "markdown",
   "metadata": {},
   "source": [
    "\n",
    "def differenceOfPairs(li):\n",
    "    newelements=[]\n",
    "    l1=len(li)\n",
    "    for i in range(l1-1):\n",
    "        for j in range(i+1, l1):\n",
    "            d=abs(li[i]-li[j])\n",
    "            if d not in li:\n",
    "                li.append(d)\n",
    "                l2=len(li)                \n",
    "    #return li\n",
    "    repeat(li)\n",
    "def repeat(li):\n",
    "    if l2==l1:\n",
    "        return li\n",
    "    else:\n",
    "        differenceOfPairs(li)\n",
    "        l1=l2\n",
    "differenceOfPairs([1,9,3])\n",
    "\n",
    "\n",
    "        "
   ]
  },
  {
   "cell_type": "code",
   "execution_count": 54,
   "metadata": {},
   "outputs": [
    {
     "data": {
      "text/plain": [
       "[[2, 3, 6, 9, 12, 1, 4, 7, 10, 5, 8, 11],\n",
       " [2, 3, 6, 9, 12, 1, 4, 7, 10, 5, 8, 11]]"
      ]
     },
     "execution_count": 54,
     "metadata": {},
     "output_type": "execute_result"
    }
   ],
   "source": [
    "#Function to identify differences of all pairs in a given list\n",
    "\n",
    "def differencePairs(li):\n",
    "    newelements = []\n",
    "    c=li\n",
    "    for i in range(len(li)-1):\n",
    "        for j in range(i+1, len(li)):\n",
    "            d=abs(li[i]-li[j])\n",
    "            if d not in newelements and d not in li:\n",
    "                newelements.append(d)\n",
    "    li.extend(newelements)\n",
    "    return [c, li]\n",
    "li=[2,3,6,9,12,1,4,7,10]\n",
    "differencePairs(li)"
   ]
  },
  {
   "cell_type": "code",
   "execution_count": 56,
   "metadata": {},
   "outputs": [
    {
     "ename": "NameError",
     "evalue": "name 'k' is not defined",
     "output_type": "error",
     "traceback": [
      "\u001b[1;31m---------------------------------------------------------------------------\u001b[0m",
      "\u001b[1;31mNameError\u001b[0m                                 Traceback (most recent call last)",
      "\u001b[1;32m<ipython-input-56-b65b170f4423>\u001b[0m in \u001b[0;36m<module>\u001b[1;34m\u001b[0m\n\u001b[0;32m      7\u001b[0m         \u001b[1;32mreturn\u001b[0m \u001b[0msorted\u001b[0m\u001b[1;33m(\u001b[0m\u001b[0mli3\u001b[0m\u001b[1;33m[\u001b[0m\u001b[1;36m0\u001b[0m\u001b[1;33m]\u001b[0m\u001b[1;33m,\u001b[0m \u001b[0mreverse\u001b[0m\u001b[1;33m=\u001b[0m\u001b[1;32mTrue\u001b[0m\u001b[1;33m)\u001b[0m\u001b[1;33m[\u001b[0m\u001b[0mk\u001b[0m\u001b[1;33m-\u001b[0m\u001b[1;36m1\u001b[0m\u001b[1;33m]\u001b[0m\u001b[1;33m\u001b[0m\u001b[1;33m\u001b[0m\u001b[0m\n\u001b[0;32m      8\u001b[0m     \u001b[1;32mreturn\u001b[0m \u001b[1;33m-\u001b[0m\u001b[1;36m1\u001b[0m\u001b[1;33m\u001b[0m\u001b[1;33m\u001b[0m\u001b[0m\n\u001b[1;32m----> 9\u001b[1;33m \u001b[0mmedium\u001b[0m\u001b[1;33m(\u001b[0m\u001b[0mli\u001b[0m\u001b[1;33m,\u001b[0m \u001b[0mk\u001b[0m\u001b[1;33m)\u001b[0m\u001b[1;33m\u001b[0m\u001b[1;33m\u001b[0m\u001b[0m\n\u001b[0m",
      "\u001b[1;31mNameError\u001b[0m: name 'k' is not defined"
     ]
    }
   ],
   "source": [
    "def medium(li, k):\n",
    "    while(True):\n",
    "        li3=differencePairs(li)\n",
    "        if li3[0]==li3[1]:\n",
    "            break\n",
    "    if len(li3[0])>=k:\n",
    "        return sorted(li3[0], reverse=True)[k-1]\n",
    "    return -1\n",
    "medium(li, k)"
   ]
  },
  {
   "cell_type": "code",
   "execution_count": 57,
   "metadata": {},
   "outputs": [],
   "source": [
    "#Convert the list into an Arithmetic Progression"
   ]
  },
  {
   "cell_type": "markdown",
   "metadata": {},
   "source": [
    "### Set - Data Structure in Python\n",
    "\n",
    "Repredented by {}\n",
    "\n",
    "-> Set contains unique elements, no repeated elements\n",
    "    - There is no index for sets\n",
    "    - Sets are mutable\n",
    "    "
   ]
  },
  {
   "cell_type": "code",
   "execution_count": 69,
   "metadata": {},
   "outputs": [
    {
     "name": "stdout",
     "output_type": "stream",
     "text": [
      "1 2 3 4 5 6 7 7 "
     ]
    },
    {
     "data": {
      "text/plain": [
       "{1, 2, 3, 4, 5, 6, 7, 8, 9, 11, 12, 13}"
      ]
     },
     "execution_count": 69,
     "metadata": {},
     "output_type": "execute_result"
    }
   ],
   "source": [
    "a={1,2,3,4,5,6, 6}\n",
    "#\n",
    "\n",
    "a.add(7) #Adding a single element to a set   \n",
    "for i in a:\n",
    "    print(i, end=' ') #-> prints the values in 'a' except '6'\n",
    "print(i, end=' ')\n",
    "b={7,8,9,1,2,3}\n",
    "li=[11,12,13,1]\n",
    "a.update(b, li)# Adding multiple elements\n",
    "a"
   ]
  },
  {
   "cell_type": "code",
   "execution_count": 70,
   "metadata": {},
   "outputs": [
    {
     "data": {
      "text/plain": [
       "{1, 2, 3, 4, 5, 6, 7, 8, 9, 11, 12}"
      ]
     },
     "execution_count": 70,
     "metadata": {},
     "output_type": "execute_result"
    }
   ],
   "source": [
    "a.discard(13) # deiscard value 13 from list. insted of remove it is better to use discard\n",
    "a"
   ]
  },
  {
   "cell_type": "code",
   "execution_count": 77,
   "metadata": {},
   "outputs": [
    {
     "data": {
      "text/plain": [
       "{1, 2, 3}"
      ]
     },
     "execution_count": 77,
     "metadata": {},
     "output_type": "execute_result"
    }
   ],
   "source": [
    "a = {10, 1, 2, 3, 4, 5, 6}\n",
    "b = {7, 8, 9, 1, 2, 3}\n",
    "a.union(b) #combines a and b values\n",
    "a.intersection(b)# Common values in both lists\n"
   ]
  },
  {
   "cell_type": "code",
   "execution_count": 81,
   "metadata": {},
   "outputs": [
    {
     "data": {
      "text/plain": [
       "False"
      ]
     },
     "execution_count": 81,
     "metadata": {},
     "output_type": "execute_result"
    }
   ],
   "source": [
    "a.isdisjoint(b) #if no common values 'isdisjoint' gives 'True', If there are common values isdisjoint() gives 'False'"
   ]
  },
  {
   "cell_type": "code",
   "execution_count": 83,
   "metadata": {},
   "outputs": [
    {
     "data": {
      "text/plain": [
       "{4, 5, 6, 10}"
      ]
     },
     "execution_count": 83,
     "metadata": {},
     "output_type": "execute_result"
    }
   ],
   "source": [
    "a - b # All elements of 'a' which are not in 'b' -> common elements b/w 'a' & 'b' are removed from 'a' and the remaining values are returned\n",
    "b - a # All elements of 'b' which are not in 'a' -> common elements b/w 'a' & 'b' are removed from 'b' and the remaining values are returned"
   ]
  },
  {
   "cell_type": "code",
   "execution_count": 86,
   "metadata": {},
   "outputs": [
    {
     "data": {
      "text/plain": [
       "[1, 2, 3, 4, 5, 6, 10]"
      ]
     },
     "execution_count": 86,
     "metadata": {},
     "output_type": "execute_result"
    }
   ],
   "source": [
    "sorted(a)"
   ]
  },
  {
   "cell_type": "code",
   "execution_count": 88,
   "metadata": {},
   "outputs": [
    {
     "data": {
      "text/plain": [
       "{4, 5, 6, 7, 8, 9, 10}"
      ]
     },
     "execution_count": 88,
     "metadata": {},
     "output_type": "execute_result"
    }
   ],
   "source": [
    "a^b # It represents Elements either in 'a' or 'b' but not both -> uncommon elements-> 'a' union 'b' - 'a' intersection 'b'"
   ]
  },
  {
   "cell_type": "code",
   "execution_count": 90,
   "metadata": {},
   "outputs": [
    {
     "data": {
      "text/plain": [
       "set()"
      ]
     },
     "execution_count": 90,
     "metadata": {},
     "output_type": "execute_result"
    }
   ],
   "source": [
    "d = set() #-> creates empty set -> should not create like this '{}', it will create dictionary, '[]' creates list\n",
    "d"
   ]
  },
  {
   "cell_type": "code",
   "execution_count": 91,
   "metadata": {},
   "outputs": [
    {
     "data": {
      "text/plain": [
       "{1, 2, 3, 4}"
      ]
     },
     "execution_count": 91,
     "metadata": {},
     "output_type": "execute_result"
    }
   ],
   "source": [
    "li=[1,2,3,4,2,1,2,3,4]\n",
    "u=set(li) #Removes repeating elements, but sets are time taking\n",
    "u"
   ]
  },
  {
   "cell_type": "markdown",
   "metadata": {},
   "source": [
    "Procedural : C\n",
    "\n",
    "Object Oriented : Java, Pyhton\n",
    "\n",
    "Scripting : PHP, Python, Javascript, Shell Scripting, Perl\n",
    "\n",
    "Functional: Python, Haskell, Scala\n",
    "\n",
    "Logic : Prolog, Lisp"
   ]
  },
  {
   "cell_type": "markdown",
   "metadata": {},
   "source": [
    "### List Comprehensions"
   ]
  },
  {
   "cell_type": "code",
   "execution_count": 93,
   "metadata": {},
   "outputs": [
    {
     "data": {
      "text/plain": [
       "[1, 2, 3, 4, 5, 6, 7, 8, 9, 10]"
      ]
     },
     "execution_count": 93,
     "metadata": {},
     "output_type": "execute_result"
    }
   ],
   "source": [
    "#N natural numbers in a list\n",
    "n=10\n",
    "li=[]\n",
    "for i in range(1, n+1):\n",
    "    li.append(i)\n",
    "li"
   ]
  },
  {
   "cell_type": "code",
   "execution_count": 96,
   "metadata": {},
   "outputs": [
    {
     "data": {
      "text/plain": [
       "[1, 2, 3, 4, 5, 6, 7, 8, 9, 10]"
      ]
     },
     "execution_count": 96,
     "metadata": {},
     "output_type": "execute_result"
    }
   ],
   "source": [
    "li=[i for i in range(1,11)] #Using list comprehensions we can solve in single line\n",
    "li"
   ]
  },
  {
   "cell_type": "code",
   "execution_count": 99,
   "metadata": {},
   "outputs": [
    {
     "data": {
      "text/plain": [
       "[1, 8, 27, 64, 125, 216, 343, 512, 729, 1000]"
      ]
     },
     "execution_count": 99,
     "metadata": {},
     "output_type": "execute_result"
    }
   ],
   "source": [
    "#Apply list comprehension to store the cubes of n natural numbers\n",
    "li = [i**3 for i in range(1, 11)]\n",
    "li"
   ]
  },
  {
   "cell_type": "code",
   "execution_count": 108,
   "metadata": {},
   "outputs": [
    {
     "data": {
      "text/plain": [
       "[1, 2, 6, 24, 120, 720, 5040, 40320, 362880, 3628800]"
      ]
     },
     "execution_count": 108,
     "metadata": {},
     "output_type": "execute_result"
    }
   ],
   "source": [
    "# Function to calculte the factorial\n",
    "def factorial(n):\n",
    "    if n==0 or n==1:\n",
    "        return 1\n",
    "    return n*factorial(n-1)\n",
    "\n",
    "#Apply List comprehension to calculate factorial of n natural numbers\n",
    "n=10\n",
    "li = [factorial(i) for i in range(1, n+1)]\n",
    "li"
   ]
  },
  {
   "cell_type": "code",
   "execution_count": 155,
   "metadata": {},
   "outputs": [
    {
     "data": {
      "text/plain": [
       "[1, 3, 6, 10, 15]"
      ]
     },
     "execution_count": 155,
     "metadata": {},
     "output_type": "execute_result"
    }
   ],
   "source": [
    "#Calculate/Store cumulative sum of numbers till 'n' in a list\n",
    "# if n=3 [1, 3, 6]\n",
    "def cumulative(n):\n",
    "    sum=0\n",
    "    li=[]\n",
    "    for i in range(1, n+1):\n",
    "        sum=sum+i\n",
    "    return sum\n",
    "#          li.append(sum)\n",
    "#     print(li)\n",
    "# n=5\n",
    "# cumulative(n)\n",
    "n=5\n",
    "lst = [cumulative(j) for j in range(1, n+1)]\n",
    "lst"
   ]
  },
  {
   "cell_type": "code",
   "execution_count": 159,
   "metadata": {},
   "outputs": [
    {
     "data": {
      "text/plain": [
       "[1, 3, 6, 10, 15, 21]"
      ]
     },
     "execution_count": 159,
     "metadata": {},
     "output_type": "execute_result"
    }
   ],
   "source": [
    "n=6\n",
    "cumulativeSum=[sum(range(1,i+1)) for i in range(1, n+1)]\n",
    "cumulativeSum"
   ]
  },
  {
   "cell_type": "code",
   "execution_count": 6,
   "metadata": {},
   "outputs": [
    {
     "data": {
      "text/plain": [
       "[None,\n",
       " None,\n",
       " 1972,\n",
       " None,\n",
       " None,\n",
       " None,\n",
       " 1976,\n",
       " None,\n",
       " None,\n",
       " None,\n",
       " 1980,\n",
       " None,\n",
       " None,\n",
       " None,\n",
       " 1984,\n",
       " None,\n",
       " None,\n",
       " None,\n",
       " 1988,\n",
       " None,\n",
       " None,\n",
       " None,\n",
       " 1992,\n",
       " None,\n",
       " None,\n",
       " None,\n",
       " 1996,\n",
       " None,\n",
       " None,\n",
       " None,\n",
       " 2000,\n",
       " None,\n",
       " None,\n",
       " None,\n",
       " 2004,\n",
       " None,\n",
       " None,\n",
       " None,\n",
       " 2008,\n",
       " None,\n",
       " None,\n",
       " None,\n",
       " 2012,\n",
       " None,\n",
       " None,\n",
       " None,\n",
       " 2016,\n",
       " None,\n",
       " None,\n",
       " None]"
      ]
     },
     "execution_count": 6,
     "metadata": {},
     "output_type": "execute_result"
    }
   ],
   "source": [
    "#List Comprehension to store only leap years in a given time period\n",
    "\n",
    "def isLeap(year):\n",
    "    if year%400==0 or (year%4==0 and year%100!=0):\n",
    "        return year\n",
    "    #return False\n",
    "def leapyear(year):\n",
    "        if isLeap(year):\n",
    "            #print(year)\n",
    "            return year\n",
    "        return\n",
    "st=1970\n",
    "et=2019\n",
    "# for year in range(st, et+1):\n",
    "#     leapyear(year)\n",
    "    \n",
    "leapYears=[leapyear(year) for year in range(st, et+1)]\n",
    "leapYears"
   ]
  },
  {
   "cell_type": "code",
   "execution_count": 172,
   "metadata": {},
   "outputs": [
    {
     "data": {
      "text/plain": [
       "[1972, 1976, 1980, 1984, 1988, 1992, 1996, 2000, 2004, 2008, 2012, 2016]"
      ]
     },
     "execution_count": 172,
     "metadata": {},
     "output_type": "execute_result"
    }
   ],
   "source": [
    "st=1970\n",
    "et=2019\n",
    "leapYears=[i for i in range(st, et+1) if i%400==0 or (i%4==0 and i%100!=0)]\n",
    "leapYears"
   ]
  },
  {
   "cell_type": "code",
   "execution_count": 176,
   "metadata": {},
   "outputs": [
    {
     "data": {
      "text/plain": [
       "[1, 2, 3]"
      ]
     },
     "execution_count": 176,
     "metadata": {},
     "output_type": "execute_result"
    }
   ],
   "source": [
    "li = [1,2,3,2,1]\n",
    "unique=[]\n",
    "for i in li:\n",
    "    if i not in unique:\n",
    "        unique.append(i)\n",
    "unique"
   ]
  },
  {
   "cell_type": "code",
   "execution_count": 202,
   "metadata": {},
   "outputs": [
    {
     "data": {
      "text/plain": [
       "[1, 2, 3, 5, 6, 7]"
      ]
     },
     "execution_count": 202,
     "metadata": {},
     "output_type": "execute_result"
    }
   ],
   "source": [
    "li = [1,2,3,2,1, 5,6, 7, 5]\n",
    "u2=[]\n",
    "#lst=[i for i in li if li.count(i)==1] #not working\n",
    "#lst=[li[i] for i in range(0, len(li)-1) if sorted(li)[i]==sorted(li)[i+1]]\n",
    "[u2.append(i) for i in li if i not in u2] #working, print u2\n",
    "u2"
   ]
  },
  {
   "cell_type": "markdown",
   "metadata": {},
   "source": [
    "### Iterators\n",
    "\n",
    "Iterable - Strings, Lists, Tuples, Sets, Dictionaries\n",
    "Convert Iterable to Iterator -> iter()\n",
    "For Loop: Goes through each and every value, and can't stop until the condition reached\n",
    "\n",
    "Iterator: Can stop while executing also"
   ]
  },
  {
   "cell_type": "code",
   "execution_count": 209,
   "metadata": {},
   "outputs": [
    {
     "name": "stdout",
     "output_type": "stream",
     "text": [
      "1:\n",
      "P\n",
      "\n",
      "\n",
      "2:\n",
      "y\n",
      "\n",
      "\n"
     ]
    }
   ],
   "source": [
    "it=iter('Python')\n",
    "\n",
    "# next(it) #Gives P\n",
    "# next(it) #Gives y\n",
    "# next(it) #Gives t\n",
    "# next(it) #Gives h\n",
    "# next(it) #Gives o\n",
    "# next(it) #Gives n\n",
    "\n",
    "print('1:')\n",
    "print(next(it))\n",
    "print('\\n')\n",
    "print('2:')\n",
    "print(next(it))\n",
    "print('\\n')"
   ]
  },
  {
   "cell_type": "markdown",
   "metadata": {},
   "source": [
    "### Generators\n",
    "Generator is a function\n"
   ]
  },
  {
   "cell_type": "code",
   "execution_count": 2,
   "metadata": {},
   "outputs": [
    {
     "data": {
      "text/plain": [
       "14134776518227074636666380005943348126619871175004951664972849610340958208"
      ]
     },
     "execution_count": 2,
     "metadata": {},
     "output_type": "execute_result"
    }
   ],
   "source": [
    "def generator1():\n",
    "    n=2\n",
    "    yield n\n",
    "    \n",
    "    n = n**3\n",
    "    yield n\n",
    "    \n",
    "    n = n**3\n",
    "    yield n\n",
    "    \n",
    "    n = n**3\n",
    "    yield n\n",
    "    \n",
    "b=generator1()\n",
    "\n",
    "next(b)\n",
    "next(b)\n",
    "next(b)\n",
    "next(b)\n",
    "#next(a) -> this gives stop iteration error as we gave yeild only 4 times\n",
    "\n",
    "def generator():\n",
    "    n=2\n",
    "    for i in range(1, 6):\n",
    "        n**=3\n",
    "        yield n\n",
    "        \n",
    "a=generator()\n",
    "\n",
    "next(a)\n",
    "next(a)\n",
    "next(a)\n",
    "next(a)\n",
    "next(a)\n"
   ]
  },
  {
   "cell_type": "code",
   "execution_count": 7,
   "metadata": {},
   "outputs": [
    {
     "name": "stdout",
     "output_type": "stream",
     "text": [
      "27\n",
      "19683\n",
      "7625597484987\n",
      "443426488243037769948249630619149892803\n",
      "87189642485960958202911070585860771696964072404731750085525219437990967093723439943475549906831683116791055225665627\n",
      "662818605424187176105172864214479748588986673875686419462793267420461248113287928124072014075084032555900857691049061274135779819474602180821485109388447092848836753879024702508785576075431392037236950553064188689954912598712398079759040464474717726449363185622056684690721420542800623411346656785162817900551337542270334990205437212700131838846883\n"
     ]
    },
    {
     "data": {
      "text/plain": [
       "<generator object gen at 0x00000204460BA4F8>"
      ]
     },
     "execution_count": 7,
     "metadata": {},
     "output_type": "execute_result"
    }
   ],
   "source": [
    "def gen():\n",
    "    n=3\n",
    "    while(True):\n",
    "        n**=3\n",
    "        yield n\n",
    "a=gen()\n",
    "\n",
    "for i in range(6):\n",
    "    print(next(a))\n",
    "gen()"
   ]
  },
  {
   "cell_type": "code",
   "execution_count": null,
   "metadata": {},
   "outputs": [],
   "source": []
  }
 ],
 "metadata": {
  "kernelspec": {
   "display_name": "Python 3",
   "language": "python",
   "name": "python3"
  },
  "language_info": {
   "codemirror_mode": {
    "name": "ipython",
    "version": 3
   },
   "file_extension": ".py",
   "mimetype": "text/x-python",
   "name": "python",
   "nbconvert_exporter": "python",
   "pygments_lexer": "ipython3",
   "version": "3.7.3"
  }
 },
 "nbformat": 4,
 "nbformat_minor": 2
}
