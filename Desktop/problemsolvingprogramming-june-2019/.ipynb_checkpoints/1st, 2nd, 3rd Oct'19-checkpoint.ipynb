{
 "cells": [
  {
   "cell_type": "code",
   "execution_count": 3,
   "metadata": {},
   "outputs": [
    {
     "name": "stdout",
     "output_type": "stream",
     "text": [
      "20\n",
      "300\n",
      "320\n"
     ]
    }
   ],
   "source": [
    "a=int(input())\n",
    "b=int(input())\n",
    "print(a*b if a*b<1000 else a+b)"
   ]
  },
  {
   "cell_type": "code",
   "execution_count": 9,
   "metadata": {},
   "outputs": [
    {
     "data": {
      "text/plain": [
       "2301385736624"
      ]
     },
     "execution_count": 9,
     "metadata": {},
     "output_type": "execute_result"
    }
   ],
   "source": [
    "a=(\"apple\", \"banana\", \"orange\")\n",
    "id(a)\n",
    "# a=(\"berries\", \"banana\", \"orange\")\n",
    "# id(a)"
   ]
  },
  {
   "cell_type": "code",
   "execution_count": 3,
   "metadata": {},
   "outputs": [
    {
     "data": {
      "text/plain": [
       "{1, 2, 3, 5, 6}"
      ]
     },
     "execution_count": 3,
     "metadata": {},
     "output_type": "execute_result"
    }
   ],
   "source": [
    "s={3,1,2,6, 5}\n",
    "s"
   ]
  },
  {
   "cell_type": "code",
   "execution_count": 5,
   "metadata": {},
   "outputs": [
    {
     "data": {
      "text/plain": [
       "{'name': 'manasa', 'rollno': '11rh1a0490'}"
      ]
     },
     "execution_count": 5,
     "metadata": {},
     "output_type": "execute_result"
    }
   ],
   "source": [
    "d={\"name\":\"manasa\", \"rollno\":\"11rh1a0490\"}\n",
    "d"
   ]
  },
  {
   "cell_type": "code",
   "execution_count": 9,
   "metadata": {},
   "outputs": [
    {
     "name": "stdout",
     "output_type": "stream",
     "text": [
      "10\n",
      "55\n"
     ]
    }
   ],
   "source": [
    "n=int(input())\n",
    "sum=0\n",
    "for i in range(1, n+1):\n",
    "    sum=sum+i\n",
    "print(sum)"
   ]
  },
  {
   "cell_type": "code",
   "execution_count": 21,
   "metadata": {},
   "outputs": [
    {
     "name": "stdout",
     "output_type": "stream",
     "text": [
      "3\n"
     ]
    }
   ],
   "source": [
    "def summ(n):\n",
    "    counter=0\n",
    "    sum=0\n",
    "    \n",
    "    if counter<=n:\n",
    "        sum=sum+counter\n",
    "#         print(sum)\n",
    "        return\n",
    "    print(sum)\n",
    "n=int(input())\n",
    "summ(n)\n"
   ]
  },
  {
   "cell_type": "code",
   "execution_count": 44,
   "metadata": {},
   "outputs": [
    {
     "name": "stdout",
     "output_type": "stream",
     "text": [
      "3\n",
      "0\n",
      "2\n",
      "4\n",
      "6\n"
     ]
    }
   ],
   "source": [
    "def printnumber(n):\n",
    "    sum=0\n",
    "    if n>0:\n",
    "        printnumber(n-1)\n",
    "#         print(n, end=' ')\n",
    "        sum=sum+n\n",
    "    print(sum+n)\n",
    "n=int(input())\n",
    "printnumber(n)"
   ]
  },
  {
   "cell_type": "code",
   "execution_count": 47,
   "metadata": {},
   "outputs": [
    {
     "data": {
      "text/plain": [
       "tuple"
      ]
     },
     "execution_count": 47,
     "metadata": {},
     "output_type": "execute_result"
    }
   ],
   "source": [
    "t=(1,\"manasa\", 2.5)\n",
    "type(t)"
   ]
  },
  {
   "cell_type": "code",
   "execution_count": 50,
   "metadata": {},
   "outputs": [
    {
     "data": {
      "text/plain": [
       "{1, 2, 'manasa'}"
      ]
     },
     "execution_count": 50,
     "metadata": {},
     "output_type": "execute_result"
    }
   ],
   "source": [
    "s={1,2,'manasa'}\n",
    "type(s)\n",
    "s"
   ]
  },
  {
   "cell_type": "code",
   "execution_count": 7,
   "metadata": {
    "scrolled": true
   },
   "outputs": [
    {
     "name": "stdout",
     "output_type": "stream",
     "text": [
      "5\n",
      "15.0\n"
     ]
    }
   ],
   "source": [
    "#sum of n natural numbers\n",
    "\n",
    "n=int(input())\n",
    "sum=(n*(n+1))/2\n",
    "print(sum)"
   ]
  },
  {
   "cell_type": "code",
   "execution_count": 43,
   "metadata": {},
   "outputs": [
    {
     "name": "stdout",
     "output_type": "stream",
     "text": [
      "enter Year of Birth\n",
      "1994\n",
      "enter Month of Birth\n",
      "07\n",
      "enter Date of Birth\n",
      "03\n",
      "current age is 25 years 3 months 12 days\n",
      "or 303 months 12 days\n",
      "No of days\n"
     ]
    }
   ],
   "source": [
    "#Age in years\n",
    "\n",
    "from datetime import datetime\n",
    "from datetime import date\n",
    "\n",
    "currentSecond = datetime.now().second\n",
    "#print(currentSecond)\n",
    "currentMinute = datetime.now().minute\n",
    "#print(currentMinute)\n",
    "currentHour = datetime.now().hour\n",
    "#print(currentHour)\n",
    "currentDay = datetime.now().day\n",
    "#print(currentDay)\n",
    "currentMonth = datetime.now().month\n",
    "#print(currentMonth)\n",
    "currentYear = datetime.now().year\n",
    "#print(currentYear)\n",
    "print(\"enter Year of Birth\")\n",
    "y=int(input())\n",
    "print(\"enter Month of Birth\")\n",
    "m=int(input())\n",
    "print(\"enter Date of Birth\")\n",
    "d=int(input())\n",
    "years=0\n",
    "days=0\n",
    "hours=0\n",
    "minutes=0\n",
    "#print(\"Your DOB is \", str(d)+\"-\"+str(m)+\"-\"+str(y))\n",
    "if y>currentYear and (y<0 or m<0) and (m>12 or d<0) and d>31:\n",
    "    print(\"enter valid DOB\")\n",
    "else:\n",
    "    years= currentYear-y\n",
    "    months= abs(currentMonth-m)\n",
    "    days= currentDay-d\n",
    "    print(\"current age is\", years,\"years\", months, \"months\", days, \"days\")\n",
    "    print(\"or\", (years*12)+(months), \"months\", days, \"days\")\n",
    "    print(\"No of days\", )\n",
    "    \n",
    "#     if y%400==0 or y%100!=0 and y%4==0:\n",
    "#         days=366\n",
    "#     else:\n",
    "#         days=365\n",
    "#          print(\"Leap Year\")\n",
    "#     else:\n",
    "#         print(\"Not Leap Year\")\n",
    "# today=date.today()\n",
    "# print(today)\n",
    "# print(\"Your age is\", currentYear-y)\n",
    "\n"
   ]
  },
  {
   "cell_type": "code",
   "execution_count": 47,
   "metadata": {},
   "outputs": [
    {
     "name": "stdout",
     "output_type": "stream",
     "text": [
      "31\n"
     ]
    }
   ],
   "source": [
    "# Number of days in a month\n",
    "def daysInMonth():\n",
    "\n",
    "    ndays=0\n",
    "    if m==2:\n",
    "        ndays=28\n",
    "    elif (m<=7 and m%2==0) or (m>7 and m%2!=0):\n",
    "        ndays=30\n",
    "\n",
    "    else:\n",
    "        ndays=31\n",
    "\n",
    "    print(ndays)\n",
    "daysInMonth()"
   ]
  },
  {
   "cell_type": "code",
   "execution_count": 46,
   "metadata": {},
   "outputs": [
    {
     "data": {
      "text/plain": [
       "9255"
      ]
     },
     "execution_count": 46,
     "metadata": {},
     "output_type": "execute_result"
    }
   ],
   "source": [
    "#Age in days\n",
    "\n",
    "\n",
    "\n",
    "totalDays=(ndays-d+days+(365*years)+)\n",
    "totalDays"
   ]
  },
  {
   "cell_type": "code",
   "execution_count": 41,
   "metadata": {},
   "outputs": [
    {
     "name": "stdout",
     "output_type": "stream",
     "text": [
      "21\n"
     ]
    }
   ],
   "source": [
    "print(currentYear-y)"
   ]
  },
  {
   "cell_type": "code",
   "execution_count": null,
   "metadata": {},
   "outputs": [],
   "source": []
  }
 ],
 "metadata": {
  "kernelspec": {
   "display_name": "Python 3",
   "language": "python",
   "name": "python3"
  },
  "language_info": {
   "codemirror_mode": {
    "name": "ipython",
    "version": 3
   },
   "file_extension": ".py",
   "mimetype": "text/x-python",
   "name": "python",
   "nbconvert_exporter": "python",
   "pygments_lexer": "ipython3",
   "version": "3.7.3"
  }
 },
 "nbformat": 4,
 "nbformat_minor": 2
}
