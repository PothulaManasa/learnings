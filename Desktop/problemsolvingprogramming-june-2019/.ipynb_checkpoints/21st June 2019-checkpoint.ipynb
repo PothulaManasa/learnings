{
 "cells": [
  {
   "cell_type": "code",
   "execution_count": 31,
   "metadata": {},
   "outputs": [
    {
     "name": "stdout",
     "output_type": "stream",
     "text": [
      "manoj added to contcats\n"
     ]
    }
   ],
   "source": [
    "#Function to add contacts into files\n",
    "from Packages.validators import phoneNumberValidator as pnv, eMailValidator as ev # (or) from Packages import validators as v\n",
    "\n",
    "def addContacts(name, phone, email):\n",
    "    #store data as name, phone, email in the contacts file\n",
    "    filename = 'DataFiles/contacts.txt'\n",
    "    if not checkContactExists(name):\n",
    "        if pnv(phone) and ev(email):\n",
    "            with open(filename, 'a') as f:\n",
    "                line=name+','+str(phone)+','+email+'\\n'\n",
    "                f.write(line)\n",
    "            print(name, 'added to contcats')\n",
    "        else:\n",
    "            print('Invalid phone number or Email')\n",
    "            return\n",
    "    else:\n",
    "        print(name, 'already exist')\n",
    "        \n",
    "def checkContactExists(name):\n",
    "    filename = 'DataFiles/contacts.txt'\n",
    "    with open(filename, 'r') as f:\n",
    "        filedata=f.read()\n",
    "        pattern=name+','\n",
    "        return re.search(pattern, filedata)\n",
    "addContacts(\"manoj\", 8143525270, \"manasa.p@apssdc.in\")\n",
    "\n",
    "\n"
   ]
  },
  {
   "cell_type": "code",
   "execution_count": 75,
   "metadata": {},
   "outputs": [
    {
     "data": {
      "text/plain": [
       "'malavika,8374415682,manasapothula03@gmail.com\\nmanoj,8143525270,manasa.p@apssdc.in\\n'"
      ]
     },
     "execution_count": 75,
     "metadata": {},
     "output_type": "execute_result"
    }
   ],
   "source": [
    "filename = 'DataFiles/contacts.txt'\n",
    "def csvToList(filename):\n",
    "    li = []\n",
    "    with open(filename, 'r') as f:\n",
    "        for line in f:\n",
    "            li.append(line.split(','))\n",
    "        return li\n",
    "    \n",
    "#csvToList(filename)\n",
    "def listToFile(li):\n",
    "    s=''\n",
    "    for i in li:\n",
    "        s += ','.join(i) #s=s.join(i)\n",
    "    return s\n",
    "\n",
    "li = csvToList(filename)\n",
    "listToFile(li)\n"
   ]
  },
  {
   "cell_type": "code",
   "execution_count": 49,
   "metadata": {},
   "outputs": [
    {
     "data": {
      "text/plain": [
       "'malavika,8374415682,manasapothula03@gmail.com\\nmanoj,8143525270,manasa.p@apssdc.in\\n'"
      ]
     },
     "execution_count": 49,
     "metadata": {},
     "output_type": "execute_result"
    }
   ],
   "source": [
    "def listToFile(li):\n",
    "    s=''\n",
    "    for i in li:\n",
    "        #s=s.join(i)\n",
    "        s += ','.join(i)\n",
    "    return s\n",
    "\n",
    "li = csvToList(filename)\n",
    "listToFile(li)"
   ]
  },
  {
   "cell_type": "code",
   "execution_count": null,
   "metadata": {},
   "outputs": [],
   "source": []
  },
  {
   "cell_type": "code",
   "execution_count": 1,
   "metadata": {},
   "outputs": [
    {
     "name": "stdout",
     "output_type": "stream",
     "text": [
      "1\n",
      "1\n",
      "1 1\n",
      "ACCEPTED\n"
     ]
    }
   ],
   "source": [
    "#Roy and Profile Picture\n",
    "def profilePicture(size, num, wh):\n",
    "    li=wh.split()\n",
    "    w=int(li[0])\n",
    "    h=int(li[1])\n",
    "    if w<size or h<size:\n",
    "        print(\"UPLOAD ANOTHER\")\n",
    "    elif w>=size and h>=size and w==h:\n",
    "        print(\"ACCEPTED\")\n",
    "    elif w>size or h>size:\n",
    "        print(\"CROP IT\")\n",
    "size=int(input())\n",
    "num=int(input())\n",
    "\n",
    "for i in range(0, num):\n",
    "    wh=input()\n",
    "    profilePicture(size, num, wh)"
   ]
  },
  {
   "cell_type": "code",
   "execution_count": 16,
   "metadata": {},
   "outputs": [
    {
     "name": "stdout",
     "output_type": "stream",
     "text": [
      "13a131-13\n",
      "valid\n"
     ]
    }
   ],
   "source": [
    "#Ali and Helping innocent people\n",
    "\n",
    "s= input()\n",
    "if (((int(s[0])+int(s[1]))%2==0) and ((int(s[3])+int(s[4]))%2==0) and ((int(s[4])+int(s[5]))%2==0) and ((int(s[7])+int(s[8])%2==0)) and (s[6]=='-')):\n",
    "    if(s[2]=='A' or s[2]=='E' or s[2]=='I' or s[2]=='O' or s[2]=='U' or s[2]=='Y'):\n",
    "        print(\"invalid\")\n",
    "else:\n",
    "    print(\"valid\")"
   ]
  },
  {
   "cell_type": "code",
   "execution_count": 54,
   "metadata": {},
   "outputs": [
    {
     "name": "stdout",
     "output_type": "stream",
     "text": [
      "13A131-13\n",
      "A\n",
      "valid\n"
     ]
    }
   ],
   "source": [
    "s= input()\n",
    "print(s[2])\n",
    "s1=(int(s[0])+int(s[1]))\n",
    "s2=(int(s[3])+int(s[4]))\n",
    "s3=(int(s[4])+int(s[5]))\n",
    "s4=(int(s[7])+int(s[8]))\n",
    "\n",
    "if ((s1%2!=0) and (s2%2!=0) and (s3%2!=0) and (s4%2!=0) and (s[6]!='-')):\n",
    "    if (s[2]=='A' or s[2]=='E' or s[2]=='I' or s[2]=='O' or s[2]=='U' or s[2]=='Y'):\n",
    "        print(\"invalid\")\n",
    "else:\n",
    "    print(\"valid\")\n",
    "        "
   ]
  },
  {
   "cell_type": "code",
   "execution_count": 30,
   "metadata": {},
   "outputs": [
    {
     "name": "stdout",
     "output_type": "stream",
     "text": [
      "123456789\n"
     ]
    },
    {
     "data": {
      "text/plain": [
       "3"
      ]
     },
     "execution_count": 30,
     "metadata": {},
     "output_type": "execute_result"
    }
   ],
   "source": [
    "s= input()\n",
    "s1=(int(s[0])+int(s[1]))\n",
    "s2=(int(s[3])+int(s[4]))\n",
    "s3=(int(s[4])+int(s[5]))\n",
    "s4=(int(s[7])+int(s[8]))\n",
    "\n",
    "s1"
   ]
  },
  {
   "cell_type": "code",
   "execution_count": 73,
   "metadata": {},
   "outputs": [
    {
     "name": "stdout",
     "output_type": "stream",
     "text": [
      "13X131-13\n",
      "X\n",
      "4\n",
      "4\n",
      "6\n",
      "4\n",
      "valid\n"
     ]
    }
   ],
   "source": [
    "#Ali and Helping innocent people\n",
    "\n",
    "s=input()\n",
    "s1=(int(s[0])+int(s[1]))\n",
    "s2=(int(s[3])+int(s[4]))\n",
    "s3=(int(s[4])+int(s[4]))\n",
    "s4=(int(s[7])+int(s[8]))\n",
    "\n",
    "if ((s1%2==0) and (s2%2==0) and (s3%2==0) and (s4%2==0)):\n",
    "    if((s[2]!=\"A\") and (s[2]!=\"E\") and (s[2]!=\"I\") and (s[2]!=\"O\") and (s[2]!=\"U\") and (s[2]!=\"Y\")):\n",
    "        print(\"valid\")\n",
    "    else:\n",
    "        print(\"invalid\")\n",
    "else:\n",
    "    print(\"invalid\")"
   ]
  },
  {
   "cell_type": "code",
   "execution_count": null,
   "metadata": {},
   "outputs": [],
   "source": [
    "#Append\n",
    "#Modify\n",
    "#Delete\n",
    "#Search"
   ]
  }
 ],
 "metadata": {
  "kernelspec": {
   "display_name": "Python 3",
   "language": "python",
   "name": "python3"
  },
  "language_info": {
   "codemirror_mode": {
    "name": "ipython",
    "version": 3
   },
   "file_extension": ".py",
   "mimetype": "text/x-python",
   "name": "python",
   "nbconvert_exporter": "python",
   "pygments_lexer": "ipython3",
   "version": "3.7.3"
  }
 },
 "nbformat": 4,
 "nbformat_minor": 2
}
