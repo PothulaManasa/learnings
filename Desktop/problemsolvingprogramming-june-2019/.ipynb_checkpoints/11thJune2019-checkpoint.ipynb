{
 "cells": [
  {
   "cell_type": "markdown",
   "metadata": {},
   "source": [
    "## Notebook Basics"
   ]
  },
  {
   "cell_type": "markdown",
   "metadata": {},
   "source": [
    "### Markdown Basics\n",
    "\n",
    "* **Bold**\n",
    "* *Italic* \n",
    "* ***Bold Italic***\n",
    "* Normal Text\n",
    " * Sublist\n",
    " * Sublist\n",
    "\n",
    "\n",
    "\n",
    "1. Ordered list 1\n",
    "2. Ordered list 2\n",
    "\n",
    "\n",
    "[APSSDC Logo](companylogo.png)\n",
    "<img src=\"companylogo.png\" width=\"200\" height=\"200\" align=\"center\">"
   ]
  },
  {
   "cell_type": "markdown",
   "metadata": {},
   "source": [
    "### Arithmetic Operations\n",
    "\n",
    "- +\n",
    "- -\n",
    "- /\n",
    "- %\n",
    "- **"
   ]
  },
  {
   "cell_type": "code",
   "execution_count": null,
   "metadata": {},
   "outputs": [],
   "source": [
    "n1=12345\n"
   ]
  },
  {
   "cell_type": "code",
   "execution_count": 1,
   "metadata": {},
   "outputs": [
    {
     "name": "stdout",
     "output_type": "stream",
     "text": [
      "enter a numer34865\n",
      "5\n"
     ]
    }
   ],
   "source": [
    "#find the number of digits in a number\n",
    "\n",
    "number = int(input(\"enter a numer\"))\n",
    "print(len(str(number)))"
   ]
  },
  {
   "cell_type": "code",
   "execution_count": 10,
   "metadata": {},
   "outputs": [
    {
     "name": "stdout",
     "output_type": "stream",
     "text": [
      "enter a numer873463876\n",
      "enter a string92847972846\n",
      "873463876  is not equal to  92847972846\n"
     ]
    }
   ],
   "source": [
    "# check if a given string is equal to a number\n",
    "number = int(input(\"enter a numer\"))\n",
    "string = str(input(\"enter a string\"))\n",
    "if str(number)==string:\n",
    "    print(number,\" is equal to \",string) #(we can add '+' in place of ',' but as the )\n",
    "else:\n",
    "    print(number,\" is not equal to \",string)"
   ]
  },
  {
   "cell_type": "code",
   "execution_count": 14,
   "metadata": {},
   "outputs": [
    {
     "name": "stdout",
     "output_type": "stream",
     "text": [
      "enter a number: 49\n",
      "7\n"
     ]
    }
   ],
   "source": [
    "# calculate the Square root of number without functions\n",
    "number = int(input(\"enter a number: \"))\n",
    "squareroot = int(number ** (1/2))\n",
    "print(squareroot)"
   ]
  },
  {
   "cell_type": "code",
   "execution_count": 23,
   "metadata": {},
   "outputs": [
    {
     "name": "stdout",
     "output_type": "stream",
     "text": [
      "enter year2020\n"
     ]
    },
    {
     "data": {
      "text/plain": [
       "True"
      ]
     },
     "execution_count": 23,
     "metadata": {},
     "output_type": "execute_result"
    }
   ],
   "source": [
    "import calendar\n",
    "\n",
    "calendar.isleap(int(input(\"enter year\")))"
   ]
  },
  {
   "cell_type": "code",
   "execution_count": 24,
   "metadata": {},
   "outputs": [
    {
     "name": "stdout",
     "output_type": "stream",
     "text": [
      "enter a year2020\n",
      "31622400000000000\n"
     ]
    }
   ],
   "source": [
    "# calculate the number of nano seconds(10^9) in a given year ( considering leap year logic)\n",
    "year = int(input(\"enter a year\"))\n",
    "\n",
    "if year % 400 == 0 or year % 4 == 0 and year % 100!=0:\n",
    "    print(int(366*24*60*60*(10**9)))\n",
    "else:\n",
    "    print(int(365*24*60*60*(10**9)))"
   ]
  },
  {
   "cell_type": "code",
   "execution_count": 25,
   "metadata": {},
   "outputs": [
    {
     "name": "stdout",
     "output_type": "stream",
     "text": [
      "enter a number: 200\n",
      "factor of 1000\n"
     ]
    }
   ],
   "source": [
    "#check if a number is factor of 1000\n",
    "number = int(input(\"enter a number: \"))\n",
    "if 1000%number==0:\n",
    "    print(\"factor of 1000\")\n",
    "else:\n",
    "    print(\"not a factor of 1000\")"
   ]
  },
  {
   "cell_type": "code",
   "execution_count": 29,
   "metadata": {},
   "outputs": [
    {
     "name": "stdout",
     "output_type": "stream",
     "text": [
      "enter a number: 20\n",
      "20  is a multiple of 10\n"
     ]
    }
   ],
   "source": [
    "#check if number is a multiple of 10\n",
    "number = int(input(\"enter a number: \"))\n",
    "if number%10==0:\n",
    "    print(number,\" is a multiple of 10\")\n",
    "else:\n",
    "    print(number,\" is not a multiple of 10\")"
   ]
  },
  {
   "cell_type": "code",
   "execution_count": null,
   "metadata": {},
   "outputs": [],
   "source": []
  }
 ],
 "metadata": {
  "kernelspec": {
   "display_name": "Python 3",
   "language": "python",
   "name": "python3"
  },
  "language_info": {
   "codemirror_mode": {
    "name": "ipython",
    "version": 3
   },
   "file_extension": ".py",
   "mimetype": "text/x-python",
   "name": "python",
   "nbconvert_exporter": "python",
   "pygments_lexer": "ipython3",
   "version": "3.7.3"
  }
 },
 "nbformat": 4,
 "nbformat_minor": 2
}
