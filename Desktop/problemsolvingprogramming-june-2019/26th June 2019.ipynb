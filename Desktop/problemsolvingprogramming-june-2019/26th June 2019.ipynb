{
 "cells": [
  {
   "cell_type": "code",
   "execution_count": 1,
   "metadata": {},
   "outputs": [],
   "source": [
    "#Largest Number in a list\n",
    "#Second Largest Number in a list\n",
    "#Kth Largest Number in a list\n",
    "\n",
    "#Element with highest frequency\n",
    "#Second Highest Frequency\n",
    "#Kth Highest Frequency\n",
    "\n"
   ]
  },
  {
   "cell_type": "code",
   "execution_count": 29,
   "metadata": {},
   "outputs": [
    {
     "data": {
      "text/plain": [
       "2"
      ]
     },
     "execution_count": 29,
     "metadata": {},
     "output_type": "execute_result"
    }
   ],
   "source": [
    "# Function to find the second largest number\n",
    "def secondLargest(li):\n",
    "    # Convert the list into a unnique list\n",
    "    #O(n) --> time complexity is represented in order(n)\n",
    "    unique = []\n",
    "    for n in li:\n",
    "        if n not in unique:\n",
    "            unique.append(n)\n",
    "    unique=sorted(unique, reverse=True)\n",
    "    if len(unique)>1:\n",
    "        return unique[1] #Returns second largest number\n",
    "    else:\n",
    "        return -1\n",
    "    \n",
    "secondLargest([1, 2, 3])\n",
    "\n"
   ]
  },
  {
   "cell_type": "code",
   "execution_count": 31,
   "metadata": {},
   "outputs": [
    {
     "data": {
      "text/plain": [
       "5"
      ]
     },
     "execution_count": 31,
     "metadata": {},
     "output_type": "execute_result"
    }
   ],
   "source": [
    "#def fifthLargest(li)\n",
    "def fifthLargest(li):\n",
    "    unique = []\n",
    "    for n in li:\n",
    "        if n not in unique:\n",
    "            unique.append(n)\n",
    "    unique=sorted(unique, reverse=True)\n",
    "    if len(unique)>1:\n",
    "        return unique[4] #Returns fifth largest number\n",
    "    else:\n",
    "        return -1\n",
    "    \n",
    "fifthLargest([1,2,3,4,5,6,7,8,9])\n"
   ]
  },
  {
   "cell_type": "code",
   "execution_count": 33,
   "metadata": {},
   "outputs": [
    {
     "name": "stdout",
     "output_type": "stream",
     "text": [
      "3\n"
     ]
    },
    {
     "data": {
      "text/plain": [
       "7"
      ]
     },
     "execution_count": 33,
     "metadata": {},
     "output_type": "execute_result"
    }
   ],
   "source": [
    "# def kLargest(li, k)\n",
    "def kthLargest(li):\n",
    "    unique = []\n",
    "    for n in li:\n",
    "        if n not in unique:\n",
    "            unique.append(n)\n",
    "    unique=sorted(unique, reverse=True)\n",
    "    if len(unique)>1:\n",
    "        return unique[k-1] #Returns kth largest number\n",
    "    else:\n",
    "        return -1\n",
    "k=int(input())\n",
    "kthLargest([1,2,3,4,5,6,7,8,9])"
   ]
  },
  {
   "cell_type": "code",
   "execution_count": 34,
   "metadata": {},
   "outputs": [
    {
     "name": "stdout",
     "output_type": "stream",
     "text": [
      "3\n"
     ]
    },
    {
     "data": {
      "text/plain": [
       "3"
      ]
     },
     "execution_count": 34,
     "metadata": {},
     "output_type": "execute_result"
    }
   ],
   "source": [
    "# def ksmallest(li)\n",
    "def kthSmallest(li):\n",
    "    unique = []\n",
    "    for n in li:\n",
    "        if n not in unique:\n",
    "            unique.append(n)\n",
    "    unique=sorted(unique)\n",
    "    if len(unique)>1:\n",
    "        return unique[k-1] #Returns kth largest number\n",
    "    else:\n",
    "        return -1\n",
    "k=int(input())\n",
    "kthSmallest([1,2,3,4,5,6,7,8,9])"
   ]
  },
  {
   "cell_type": "code",
   "execution_count": 82,
   "metadata": {},
   "outputs": [
    {
     "name": "stdout",
     "output_type": "stream",
     "text": [
      "[7, 1, 2, 3]\n",
      "smallest element with maximum frequency 1\n",
      "largest element with maximum frequency 7\n"
     ]
    }
   ],
   "source": [
    "# Function to identify the element with highest frequency in a list\n",
    "# If many elements have the highest frequency, return the smallest element\n",
    "# highestFrequency([1,2,3,9,8,7,3,4,2,1]) --> 1\n",
    "def highestFrequency(li):\n",
    "    unique={}\n",
    "    for n in li:\n",
    "        if n not in unique:\n",
    "            unique[n]=1\n",
    "        else:\n",
    "            unique[n]+=1\n",
    "    freq=(unique.values())\n",
    "    maxfreq=max(freq)\n",
    "    maxfreqE=[]\n",
    "    #Identify the keys with maximum frequency\n",
    "    for item in unique.items():\n",
    "        if item[1] == maxfreq: #item[0] gives the key, item[1] gives value\n",
    "            maxfreqE.append(item[0])\n",
    "    print(maxfreqE)\n",
    "    #select the minimum from keys with maximum\n",
    "    print(\"smallest element with maximum frequency\", min(maxfreqE))\n",
    "    print(\"largest element with maximum frequency\", max(maxfreqE))\n",
    "            \n",
    "highestFrequency([7,1,2,3,4,5,3,2,1,7,8,9])"
   ]
  },
  {
   "cell_type": "markdown",
   "metadata": {},
   "source": [
    "def highestFrequency1(li):\n",
    "    li1=[[]]\n",
    "    for i in li:\n",
    "        if i not in li1:\n",
    "            li1[i]=[i,1]\n",
    "        else:\n",
    "            li1[i]=[i,(li1[i]+1)]\n",
    "    li1\n",
    "highestFrequency1([1,2,3,4,5,4,3,2])"
   ]
  },
  {
   "cell_type": "code",
   "execution_count": 86,
   "metadata": {},
   "outputs": [
    {
     "name": "stdout",
     "output_type": "stream",
     "text": [
      "[3, 9]\n",
      "smallest element with maximum frequency 3\n",
      "largest element with maximum frequency 9\n"
     ]
    }
   ],
   "source": [
    "#Funtion to identify second highest frequency element\n",
    "#If there are many such elements, return the smallest\n",
    "[1,2,3,2,1,4,4,9]\n",
    "\n",
    "def secondLargestFrequency(li):\n",
    "    unique={}\n",
    "    for n in li:\n",
    "        if n not in unique:\n",
    "            unique[n]=1\n",
    "        else:\n",
    "            unique[n]+=1\n",
    "    freq=(unique.values())\n",
    "    maxfreq=max(freq)\n",
    "    secondfreq=(int(maxfreq)-1)\n",
    "    secondmaxfreqE=[]\n",
    "    #Identify the keys with maximum frequency\n",
    "    for item in unique.items():\n",
    "        if item[1] == secondfreq: #item[0] gives the key, item[1] gives value\n",
    "            secondmaxfreqE.append(item[0])\n",
    "    print(secondmaxfreqE)\n",
    "    #select the minimum from keys with maximum\n",
    "    print(\"smallest element with maximum frequency\", min(secondmaxfreqE))\n",
    "    print(\"largest element with maximum frequency\", max(secondmaxfreqE))\n",
    "            \n",
    "    \n",
    "secondLargestFrequency([1,2,3,2,1,4,4,9])"
   ]
  },
  {
   "cell_type": "code",
   "execution_count": 132,
   "metadata": {},
   "outputs": [
    {
     "name": "stdout",
     "output_type": "stream",
     "text": [
      "4\n",
      "{9: 2, 8: 1, 7: 5, 6: 4, 5: 1, 2: 1, 3: 1, 4: 1}\n",
      "dict_values([2, 1, 5, 4, 1, 1, 1, 1])\n",
      "[2, 1, 5, 4]\n",
      "[5, 4, 2, 1]\n",
      "[8, 5, 2, 3, 4]\n",
      "largest element with the kth frequency 8\n",
      "smallest element with the kth frequency 2\n"
     ]
    }
   ],
   "source": [
    "\n",
    "def kLargestFrequency(li):\n",
    "    unique={}\n",
    "    for i in li:\n",
    "        if i not in unique:\n",
    "            unique[i]=1\n",
    "        else:\n",
    "            unique[i]+=1\n",
    "    print(unique)\n",
    "    freq=unique.values()\n",
    "    print(freq)\n",
    "    uniquefreq=[]\n",
    "    for value in freq:\n",
    "        if value not in uniquefreq:\n",
    "            uniquefreq.append(value)\n",
    "    print(uniquefreq)\n",
    "    uniquefreq=sorted(uniquefreq, reverse=True)\n",
    "    print(uniquefreq)\n",
    "    kfreq=uniquefreq[k-1]\n",
    "    kfreqE=[]\n",
    "    for item in unique.items():\n",
    "        if item[1]==kfreq:\n",
    "            kfreqE.append(item[0])\n",
    "    print(kfreqE)\n",
    "    print(\"largest element with the kth frequency\", max(kfreqE))\n",
    "    print(\"smallest element with the kth frequency\", min(kfreqE))    \n",
    "k=int(input())\n",
    "kLargestFrequency([9,8,7,6,5,2,3,4,9,6,7,7,7,6,7,6])"
   ]
  },
  {
   "cell_type": "code",
   "execution_count": 138,
   "metadata": {},
   "outputs": [
    {
     "name": "stdout",
     "output_type": "stream",
     "text": [
      "25\n",
      "{'r': 3843, 't': 3743, 'k': 3725, 'p': 3879, 'e': 3818, 'm': 3936, 'n': 3914, 's': 3731, 'a': 3849, 'w': 3926, 'h': 3776, 'g': 3884, 'b': 3858, 'u': 3774, 'v': 3793, 'i': 3908, 'l': 3832, 'c': 3892, 'x': 3742, 'q': 3864, 'o': 3888, 'j': 3777, 'd': 3959, 'z': 3811, 'y': 3840, 'f': 4038}\n",
      "[3843, 3743, 3725, 3879, 3818, 3936, 3914, 3731, 3849, 3926, 3776, 3884, 3858, 3774, 3793, 3908, 3832, 3892, 3742, 3864, 3888, 3777, 3959, 3811, 3840, 4038]\n",
      "8\n",
      "{'r': 7705, 't': 7470, 'k': 7524, 'p': 7772, 'e': 7639, 'm': 7794, 'n': 7845, 's': 7567, 'a': 7684, 'w': 7886, 'h': 7643, 'g': 7754, 'b': 7653, 'u': 7657, 'v': 7628, 'i': 7788, 'l': 7722, 'c': 7661, 'x': 7628, 'q': 7730, 'o': 7752, 'j': 7597, 'd': 7756, 'z': 7522, 'y': 7720, 'f': 7903}\n",
      "[7705, 7470, 7524, 7772, 7639, 7794, 7845, 7567, 7684, 7886, 7643, 7754, 7653, 7657, 7628, 7788, 7722, 7661, 7730, 7752, 7597, 7756, 7522, 7720, 7903]\n",
      "12\n",
      "{'r': 11489, 't': 11334, 'k': 11392, 'p': 11675, 'e': 11438, 'm': 11601, 'n': 11637, 's': 11318, 'a': 11558, 'w': 11633, 'h': 11497, 'g': 11620, 'b': 11514, 'u': 11593, 'v': 11499, 'i': 11754, 'l': 11429, 'c': 11512, 'x': 11482, 'q': 11655, 'o': 11633, 'j': 11500, 'd': 11569, 'z': 11323, 'y': 11539, 'f': 11806}\n",
      "[11489, 11334, 11392, 11675, 11438, 11601, 11637, 11318, 11558, 11633, 11497, 11620, 11514, 11593, 11499, 11754, 11429, 11512, 11482, 11655, 11500, 11569, 11323, 11539, 11806]\n",
      "11\n",
      "{'r': 15317, 't': 15214, 'k': 15223, 'p': 15576, 'e': 15315, 'm': 15585, 'n': 15457, 's': 15169, 'a': 15371, 'w': 15518, 'h': 15381, 'g': 15376, 'b': 15530, 'u': 15563, 'v': 15347, 'i': 15478, 'l': 15346, 'c': 15331, 'x': 15251, 'q': 15369, 'o': 15521, 'j': 15322, 'd': 15316, 'z': 15217, 'y': 15277, 'f': 15630}\n",
      "[15317, 15214, 15223, 15576, 15315, 15585, 15457, 15169, 15371, 15518, 15381, 15376, 15530, 15563, 15347, 15478, 15346, 15331, 15251, 15369, 15521, 15322, 15316, 15217, 15277, 15630]\n",
      "20\n",
      "{'r': 19148, 't': 18970, 'k': 19130, 'p': 19405, 'e': 19196, 'm': 19413, 'n': 19347, 's': 18974, 'a': 19121, 'w': 19320, 'h': 19263, 'g': 19350, 'b': 19434, 'u': 19357, 'v': 19242, 'i': 19224, 'l': 19233, 'c': 19103, 'x': 19067, 'q': 19195, 'o': 19361, 'j': 19222, 'd': 19111, 'z': 19095, 'y': 19217, 'f': 19502}\n",
      "[19148, 18970, 19130, 19405, 19196, 19413, 19347, 18974, 19121, 19320, 19263, 19350, 19434, 19357, 19242, 19224, 19233, 19103, 19067, 19195, 19361, 19222, 19111, 19095, 19217, 19502]\n"
     ]
    }
   ],
   "source": [
    "def kLargestFrequencyFile(filepath):\n",
    "    unique={}\n",
    "    with open(filepath, 'r') as f:\n",
    "        data=f.read()\n",
    "        li=data.split()\n",
    "        t=int(li[0])\n",
    "        for i in range(1, t+1, 2):\n",
    "            s=str(li[i])\n",
    "            k=int(li[i+1])\n",
    "            print(k)\n",
    "            for j in s:\n",
    "                if j not in unique:\n",
    "                    unique[j]=1\n",
    "                else:\n",
    "                    unique[j]+=1\n",
    "            print(unique)\n",
    "            uniquefreq=[]\n",
    "            for value in unique.values():\n",
    "                if value not in uniquefreq:\n",
    "                    uniquefreq.append(value)\n",
    "            print(uniquefreq)\n",
    "            #kfreq=\n",
    "            kfreqE=[]\n",
    "            #for item in unique.items():\n",
    "               # if item[1]==:\n",
    "                   # kfreqE.append(item[0])\n",
    "                #else:\n",
    "                 #   print(-1)\n",
    "            #print(kfreqE)\n",
    "            #print(\"largest element with the kth frequency\", max(kfreqE))\n",
    "            #print(\"smallest element with the kth frequency\", min(kfreqE))\n",
    "filepath='DataFiles/kth-largest-frequency-input.txt'\n",
    "kLargestFrequencyFile(filepath)"
   ]
  },
  {
   "cell_type": "code",
   "execution_count": 134,
   "metadata": {},
   "outputs": [
    {
     "name": "stdout",
     "output_type": "stream",
     "text": [
      "s\n",
      "g\n",
      "h\n",
      "e\n",
      "w\n",
      "r\n",
      "n\n",
      "k\n",
      "-1\n",
      "-1\n"
     ]
    }
   ],
   "source": [
    "def kLargestFrequency(s, k):\n",
    "    # Construct the frequency dictionary for all unique characters\n",
    "    #unique = []\n",
    "    freq = {}\n",
    "    for i in s:\n",
    "        if i not in freq.keys():\n",
    "            freq[i] = s.count(i)\n",
    "            \n",
    "    # Extract unique frequencies in descending order\n",
    "    values = sorted(freq.values(), reverse=True)\n",
    "    uniqueValues = list(set(values))\n",
    "    uniqueValues = sorted(uniqueValues, reverse=True)\n",
    "    \n",
    "    # Identify Kth largest frequency\n",
    "    if k < len(uniqueValues):\n",
    "        kvalue = uniqueValues[k-1]\n",
    "    else:\n",
    "        return -1\n",
    "\n",
    "    # Get all elements with Kth largest frequency\n",
    "    li = []\n",
    "    for item in freq.items():\n",
    "        if item[1] == kvalue:\n",
    "            li.append(item[0])\n",
    "    # Minimum of Kth Largest frequency\n",
    "    return min(li) \n",
    "\n",
    "with open('DataFiles/kth-largest-frequency-input.txt', 'r') as f:\n",
    "    t = int(f.readline())\n",
    "    for i in range(t):\n",
    "        s = f.readline()\n",
    "        k = int(f.readline())\n",
    "        print(kLargestFrequency(s,k))"
   ]
  },
  {
   "cell_type": "code",
   "execution_count": null,
   "metadata": {},
   "outputs": [],
   "source": []
  }
 ],
 "metadata": {
  "kernelspec": {
   "display_name": "Python 3",
   "language": "python",
   "name": "python3"
  },
  "language_info": {
   "codemirror_mode": {
    "name": "ipython",
    "version": 3
   },
   "file_extension": ".py",
   "mimetype": "text/x-python",
   "name": "python",
   "nbconvert_exporter": "python",
   "pygments_lexer": "ipython3",
   "version": "3.7.3"
  }
 },
 "nbformat": 4,
 "nbformat_minor": 2
}
