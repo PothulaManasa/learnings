{
 "cells": [
  {
   "cell_type": "code",
   "execution_count": 1,
   "metadata": {},
   "outputs": [],
   "source": [
    "#Largest Number in a list\n",
    "#Second Largest Number in a list\n",
    "#Kth Largest Number in a list\n",
    "\n",
    "#Element with highest frequency\n",
    "#Second Highest Frequency\n",
    "#Kth Highest Frequency\n",
    "\n"
   ]
  },
  {
   "cell_type": "code",
   "execution_count": 29,
   "metadata": {},
   "outputs": [
    {
     "data": {
      "text/plain": [
       "2"
      ]
     },
     "execution_count": 29,
     "metadata": {},
     "output_type": "execute_result"
    }
   ],
   "source": [
    "# Function to find the second largest number\n",
    "def secondLargest(li):\n",
    "    # Convert the list into a unnique list\n",
    "    #O(n) --> time complexity is represented in order(n)\n",
    "    unique = []\n",
    "    for n in li:\n",
    "        if n not in unique:\n",
    "            unique.append(n)\n",
    "    unique=sorted(unique, reverse=True)\n",
    "    if len(unique)>1:\n",
    "        return unique[1] #Returns second largest number\n",
    "    else:\n",
    "        return -1\n",
    "    \n",
    "secondLargest([1, 2, 3])\n",
    "\n"
   ]
  },
  {
   "cell_type": "code",
   "execution_count": 31,
   "metadata": {},
   "outputs": [
    {
     "data": {
      "text/plain": [
       "5"
      ]
     },
     "execution_count": 31,
     "metadata": {},
     "output_type": "execute_result"
    }
   ],
   "source": [
    "#def fifthLargest(li)\n",
    "def fifthLargest(li):\n",
    "    unique = []\n",
    "    for n in li:\n",
    "        if n not in unique:\n",
    "            unique.append(n)\n",
    "    unique=sorted(unique, reverse=True)\n",
    "    if len(unique)>1:\n",
    "        return unique[4] #Returns fifth largest number\n",
    "    else:\n",
    "        return -1\n",
    "    \n",
    "fifthLargest([1,2,3,4,5,6,7,8,9])\n"
   ]
  },
  {
   "cell_type": "code",
   "execution_count": 33,
   "metadata": {},
   "outputs": [
    {
     "name": "stdout",
     "output_type": "stream",
     "text": [
      "3\n"
     ]
    },
    {
     "data": {
      "text/plain": [
       "7"
      ]
     },
     "execution_count": 33,
     "metadata": {},
     "output_type": "execute_result"
    }
   ],
   "source": [
    "# def kLargest(li, k)\n",
    "def kthLargest(li):\n",
    "    unique = []\n",
    "    for n in li:\n",
    "        if n not in unique:\n",
    "            unique.append(n)\n",
    "    unique=sorted(unique, reverse=True)\n",
    "    if len(unique)>1:\n",
    "        return unique[k-1] #Returns kth largest number\n",
    "    else:\n",
    "        return -1\n",
    "k=int(input())\n",
    "kthLargest([1,2,3,4,5,6,7,8,9])"
   ]
  },
  {
   "cell_type": "code",
   "execution_count": 34,
   "metadata": {},
   "outputs": [
    {
     "name": "stdout",
     "output_type": "stream",
     "text": [
      "3\n"
     ]
    },
    {
     "data": {
      "text/plain": [
       "3"
      ]
     },
     "execution_count": 34,
     "metadata": {},
     "output_type": "execute_result"
    }
   ],
   "source": [
    "# def ksmallest(li)\n",
    "def kthSmallest(li):\n",
    "    unique = []\n",
    "    for n in li:\n",
    "        if n not in unique:\n",
    "            unique.append(n)\n",
    "    unique=sorted(unique)\n",
    "    if len(unique)>1:\n",
    "        return unique[k-1] #Returns kth largest number\n",
    "    else:\n",
    "        return -1\n",
    "k=int(input())\n",
    "kthSmallest([1,2,3,4,5,6,7,8,9])"
   ]
  },
  {
   "cell_type": "code",
   "execution_count": 82,
   "metadata": {},
   "outputs": [
    {
     "name": "stdout",
     "output_type": "stream",
     "text": [
      "[7, 1, 2, 3]\n",
      "smallest element with maximum frequency 1\n",
      "largest element with maximum frequency 7\n"
     ]
    }
   ],
   "source": [
    "# Function to identify the element with highest frequency in a list\n",
    "# If many elements have the highest frequency, return the smallest element\n",
    "# highestFrequency([1,2,3,9,8,7,3,4,2,1]) --> 1\n",
    "def highestFrequency(li):\n",
    "    unique={}\n",
    "    for n in li:\n",
    "        if n not in unique:\n",
    "            unique[n]=1\n",
    "        else:\n",
    "            unique[n]+=1\n",
    "    freq=(unique.values())\n",
    "    maxfreq=max(freq)\n",
    "    maxfreqE=[]\n",
    "    #Identify the keys with maximum frequency\n",
    "    for item in unique.items():\n",
    "        if item[1] == maxfreq: #item[0] gives the key, item[1] gives value\n",
    "            maxfreqE.append(item[0])\n",
    "    print(maxfreqE)\n",
    "    #select the minimum from keys with maximum\n",
    "    print(\"smallest element with maximum frequency\", min(maxfreqE))\n",
    "    print(\"largest element with maximum frequency\", max(maxfreqE))\n",
    "            \n",
    "highestFrequency([7,1,2,3,4,5,3,2,1,7,8,9])"
   ]
  },
  {
   "cell_type": "markdown",
   "metadata": {},
   "source": [
    "def highestFrequency1(li):\n",
    "    li1=[[]]\n",
    "    for i in li:\n",
    "        if i not in li1:\n",
    "            li1[i]=[i,1]\n",
    "        else:\n",
    "            li1[i]=[i,(li1[i]+1)]\n",
    "    li1\n",
    "highestFrequency1([1,2,3,4,5,4,3,2])"
   ]
  },
  {
   "cell_type": "code",
   "execution_count": 86,
   "metadata": {},
   "outputs": [
    {
     "name": "stdout",
     "output_type": "stream",
     "text": [
      "[3, 9]\n",
      "smallest element with maximum frequency 3\n",
      "largest element with maximum frequency 9\n"
     ]
    }
   ],
   "source": [
    "#Funtion to identify second highest frequency element\n",
    "#If there are many such elements, return the smallest\n",
    "[1,2,3,2,1,4,4,9]\n",
    "\n",
    "def secondLargestFrequency(li):\n",
    "    unique={}\n",
    "    for n in li:\n",
    "        if n not in unique:\n",
    "            unique[n]=1\n",
    "        else:\n",
    "            unique[n]+=1\n",
    "    freq=(unique.values())\n",
    "    maxfreq=max(freq)\n",
    "    secondfreq=(int(maxfreq)-1)\n",
    "    secondmaxfreqE=[]\n",
    "    #Identify the keys with maximum frequency\n",
    "    for item in unique.items():\n",
    "        if item[1] == secondfreq: #item[0] gives the key, item[1] gives value\n",
    "            secondmaxfreqE.append(item[0])\n",
    "    print(secondmaxfreqE)\n",
    "    #select the minimum from keys with maximum\n",
    "    print(\"smallest element with maximum frequency\", min(secondmaxfreqE))\n",
    "    print(\"largest element with maximum frequency\", max(secondmaxfreqE))\n",
    "            \n",
    "    \n",
    "secondLargestFrequency([1,2,3,2,1,4,4,9])"
   ]
  },
  {
   "cell_type": "code",
   "execution_count": 132,
   "metadata": {},
   "outputs": [
    {
     "name": "stdout",
     "output_type": "stream",
     "text": [
      "4\n",
      "{9: 2, 8: 1, 7: 5, 6: 4, 5: 1, 2: 1, 3: 1, 4: 1}\n",
      "dict_values([2, 1, 5, 4, 1, 1, 1, 1])\n",
      "[2, 1, 5, 4]\n",
      "[5, 4, 2, 1]\n",
      "[8, 5, 2, 3, 4]\n",
      "largest element with the kth frequency 8\n",
      "smallest element with the kth frequency 2\n"
     ]
    }
   ],
   "source": [
    "\n",
    "def kLargestFrequency(li):\n",
    "    unique={}\n",
    "    for i in li:\n",
    "        if i not in unique:\n",
    "            unique[i]=1\n",
    "        else:\n",
    "            unique[i]+=1\n",
    "    print(unique)\n",
    "    freq=unique.values()\n",
    "    print(freq)\n",
    "    uniquefreq=[]\n",
    "    for value in freq:\n",
    "        if value not in uniquefreq:\n",
    "            uniquefreq.append(value)\n",
    "    print(uniquefreq)\n",
    "    uniquefreq=sorted(uniquefreq, reverse=True)\n",
    "    print(uniquefreq)\n",
    "    kfreq=uniquefreq[k-1]\n",
    "    kfreqE=[]\n",
    "    for item in unique.items():\n",
    "        if item[1]==kfreq:\n",
    "            kfreqE.append(item[0])\n",
    "    print(kfreqE)\n",
    "    print(\"largest element with the kth frequency\", max(kfreqE))\n",
    "    print(\"smallest element with the kth frequency\", min(kfreqE))    \n",
    "k=int(input())\n",
    "kLargestFrequency([9,8,7,6,5,2,3,4,9,6,7,7,7,6,7,6])"
   ]
  },
  {
   "cell_type": "code",
   "execution_count": 183,
   "metadata": {},
   "outputs": [
    {
     "name": "stdout",
     "output_type": "stream",
     "text": [
      "s\n",
      "g\n",
      "h\n",
      "e\n",
      "w\n",
      "r\n",
      "n\n",
      "k\n"
     ]
    },
    {
     "data": {
      "text/plain": [
       "-1"
      ]
     },
     "execution_count": 183,
     "metadata": {},
     "output_type": "execute_result"
    }
   ],
   "source": [
    "def kLargestFrequencyFile(filepath):\n",
    "    unique={}\n",
    "    with open(filepath, 'r') as f:\n",
    "        data=f.read()\n",
    "        li=data.split()\n",
    "        t=int(li[0])\n",
    "        for i in range(1, (2*t)+1, 2):\n",
    "            s=str(li[i])\n",
    "            k=int(li[i+1])\n",
    "            #print(k)\n",
    "            for j in s:\n",
    "                if j not in unique:\n",
    "                    unique[j]=1\n",
    "                else:\n",
    "                    unique[j]+=1\n",
    "            #print(unique)\n",
    "            uniquefreq=[]\n",
    "            for value in unique.values():\n",
    "                if value not in uniquefreq:\n",
    "                    uniquefreq.append(value)\n",
    "            \n",
    "            freq=sorted(uniquefreq, reverse=True)\n",
    "            #print(freq)\n",
    "            #print(uniquefreq)\n",
    "            if k<len(uniquefreq):\n",
    "                kfreq=(freq[k-1])\n",
    "            else:\n",
    "                return -1\n",
    "            \n",
    "            #print(kfreq)\n",
    "            kfreqE=[]\n",
    "            for item in unique.items():\n",
    "                if item[1]==kfreq:\n",
    "                    kfreqE.append(item[0])\n",
    "            \n",
    "            #print(kfreqE)\n",
    "            print(min(kfreqE))\n",
    "#             print(\"largest element with the kth frequency\", max(kfreqE))\n",
    "#             print(\"smallest element with the kth frequency\", min(kfreqE))\n",
    "            unique={}\n",
    "filepath='DataFiles/kth-largest-frequency-input.txt'\n",
    "kLargestFrequencyFile(filepath)"
   ]
  },
  {
   "cell_type": "code",
   "execution_count": 167,
   "metadata": {},
   "outputs": [
    {
     "name": "stdout",
     "output_type": "stream",
     "text": [
      "s\n",
      "g\n",
      "h\n",
      "e\n",
      "w\n",
      "r\n",
      "n\n",
      "k\n",
      "-1\n",
      "-1\n"
     ]
    }
   ],
   "source": [
    "def kLargestFrequency(s, k):\n",
    "    # Construct the frequency dictionary for all unique characters\n",
    "    #unique = []\n",
    "    freq = {}\n",
    "    for i in s:\n",
    "        if i not in freq.keys():\n",
    "            freq[i] = s.count(i)\n",
    "    #print(freq)\n",
    "    \n",
    "    # Extract unique frequencies in descending order\n",
    "    values = sorted(freq.values(), reverse=True)\n",
    "    uniqueValues = list(set(values))\n",
    "    uniqueValues = sorted(uniqueValues, reverse=True)\n",
    "    #print(uniqueValues)\n",
    "    \n",
    "    # Identify Kth largest frequency\n",
    "    if k < len(uniqueValues):\n",
    "        kvalue = uniqueValues[k-1]\n",
    "    else:\n",
    "        return -1\n",
    "\n",
    "    # Get all elements with Kth largest frequency\n",
    "    li = []\n",
    "    for item in freq.items():\n",
    "        if item[1] == kvalue:\n",
    "            li.append(item[0])\n",
    "    # Minimum of Kth Largest frequency\n",
    "    return min(li) \n",
    "\n",
    "with open('DataFiles/kth-largest-frequency-input.txt', 'r') as f:\n",
    "    t = int(f.readline())\n",
    "    for i in range(t):\n",
    "        s = f.readline()\n",
    "        k = int(f.readline())\n",
    "        print(kLargestFrequency(s,k))"
   ]
  },
  {
   "cell_type": "code",
   "execution_count": null,
   "metadata": {},
   "outputs": [],
   "source": []
  }
 ],
 "metadata": {
  "kernelspec": {
   "display_name": "Python 3",
   "language": "python",
   "name": "python3"
  },
  "language_info": {
   "codemirror_mode": {
    "name": "ipython",
    "version": 3
   },
   "file_extension": ".py",
   "mimetype": "text/x-python",
   "name": "python",
   "nbconvert_exporter": "python",
   "pygments_lexer": "ipython3",
   "version": "3.7.3"
  }
 },
 "nbformat": 4,
 "nbformat_minor": 2
}
