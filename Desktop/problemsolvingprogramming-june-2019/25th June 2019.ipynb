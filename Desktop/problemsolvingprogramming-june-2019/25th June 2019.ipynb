{
 "cells": [
  {
   "cell_type": "markdown",
   "metadata": {},
   "source": [
    "- Digit Frequency Problem\n",
    "- Practice on\n",
    "    - Marks Analysis Application\n",
    "    - Find and Replace Application\n",
    "    - Contacts Application\n",
    "- Evaluation Test\n",
    "- Anagrams Problem"
   ]
  },
  {
   "cell_type": "markdown",
   "metadata": {},
   "source": [
    "#### Marks Analysis Application\n",
    "- Generate the marks file for n students - 'random.randInt(0, 100)'\n",
    "- Input is marks text file - each line in text file contains marks of one student\n",
    "- Generates a report with the following information\n",
    "    - Class Average\n",
    "    - Percentage of students passed\n",
    "    - Percentage of students failed\n",
    "    - Percentage of students with distinction"
   ]
  },
  {
   "cell_type": "code",
   "execution_count": 12,
   "metadata": {},
   "outputs": [
    {
     "name": "stdout",
     "output_type": "stream",
     "text": [
      "9\n",
      "0\n",
      "100\n"
     ]
    }
   ],
   "source": [
    "#Function to generate marks data for n students\n",
    "from random import randint\n",
    "def generateMarks(n, lb, ub):\n",
    "    with open('DataFiles/marks.txt', 'w') as f:\n",
    "        for i in range(0, n):\n",
    "            r = randint(lb, ub)\n",
    "            f.write(str(r) + '\\n')\n",
    "    return\n",
    "n=int(input())\n",
    "lb=int(input())\n",
    "ub=int(input())\n",
    "generateMarks(n, lb, ub)"
   ]
  },
  {
   "cell_type": "code",
   "execution_count": 64,
   "metadata": {},
   "outputs": [
    {
     "name": "stdout",
     "output_type": "stream",
     "text": [
      "10\n",
      "83\n",
      "19\n",
      "49\n",
      "15\n",
      "99\n",
      "67\n",
      "25\n",
      "72\n",
      "\n",
      "['10', '83', '19', '49', '15', '99', '67', '25', '72']\n",
      "9\n"
     ]
    }
   ],
   "source": [
    "with open('DataFiles/marks.txt', 'r') as f:\n",
    "    filedata=f.read()\n",
    "    print(filedata)\n",
    "    #count=0\n",
    "    li=list(filedata.split())\n",
    "    print(li)\n",
    "    count=len(li)\n",
    "    print(count)"
   ]
  },
  {
   "cell_type": "code",
   "execution_count": 78,
   "metadata": {},
   "outputs": [
    {
     "name": "stdout",
     "output_type": "stream",
     "text": [
      "155\n",
      "52\n"
     ]
    }
   ],
   "source": [
    "def classAverage(filepath):\n",
    "    sum=0\n",
    "    with open(filepath, 'r') as f:\n",
    "        filedata=f.read()\n",
    "        li=list(filedata.split())\n",
    "        l=len(li)\n",
    "        sum=0\n",
    "        for i in range(0, l):\n",
    "            sum = sum + int(li[i])\n",
    "        avg=sum/l\n",
    "        print(sum)\n",
    "        print(round(avg))\n",
    "filepath='DataFiles/marks.txt'\n",
    "classAverage(filepath)"
   ]
  },
  {
   "cell_type": "code",
   "execution_count": 79,
   "metadata": {},
   "outputs": [
    {
     "name": "stdout",
     "output_type": "stream",
     "text": [
      "Pass Percentage:  67\n"
     ]
    }
   ],
   "source": [
    "def passPercentage(filepath):\n",
    "    with open(filepath, 'r') as f:\n",
    "        filedata=f.read()\n",
    "        li=list(filedata.split())    \n",
    "        l=len(li)\n",
    "        count=0\n",
    "        for i in range(0, l):\n",
    "            if int(li[i])>36:\n",
    "                count=count+1\n",
    "        pp=(count/l)*100\n",
    "        print(\"Pass Percentage: \", round(pp))\n",
    "        \n",
    "filepath='DataFiles/marks.txt'\n",
    "passPercentage(filepath)"
   ]
  },
  {
   "cell_type": "code",
   "execution_count": 80,
   "metadata": {},
   "outputs": [
    {
     "name": "stdout",
     "output_type": "stream",
     "text": [
      "Fail Percentage:  33\n"
     ]
    }
   ],
   "source": [
    "def failPercentage(filepath):\n",
    "    with open(filepath, 'r') as f:\n",
    "        filedata=f.read()\n",
    "        li=list(filedata.split())    \n",
    "        l=len(li)\n",
    "        count=0\n",
    "        for i in range(0, l):\n",
    "            if int(li[i])>36:\n",
    "                count=count+1\n",
    "        pp=(count/l)*100\n",
    "        fp=100-pp\n",
    "        print(\"Fail Percentage: \", round(fp))\n",
    "        \n",
    "filepath='DataFiles/marks.txt'\n",
    "failPercentage(filepath)"
   ]
  },
  {
   "cell_type": "code",
   "execution_count": 81,
   "metadata": {},
   "outputs": [
    {
     "name": "stdout",
     "output_type": "stream",
     "text": [
      "Distinction Percentage:  0\n"
     ]
    }
   ],
   "source": [
    "def distinctionPercentage(filepath):\n",
    "    with open(filepath, 'r') as f:\n",
    "        filedata=f.read()\n",
    "        li=list(filedata.split())    \n",
    "        l=len(li)\n",
    "        count=0\n",
    "        for i in range(0, l):\n",
    "            if int(li[i])>=75:\n",
    "                count=count+1\n",
    "        dp=(count/l)*100\n",
    "        print(\"Distinction Percentage: \", round(dp))\n",
    "\n",
    "filepath='DataFiles/marks.txt'\n",
    "distinctionPercentage(filepath)"
   ]
  },
  {
   "cell_type": "code",
   "execution_count": 83,
   "metadata": {
    "scrolled": true
   },
   "outputs": [
    {
     "name": "stdout",
     "output_type": "stream",
     "text": [
      "Enter the number of students in a class\n",
      "9\n",
      "Enetr minimum marks\n",
      "0\n",
      "Enter Maximum marks\n",
      "100\n",
      "Select the program to be done \n",
      " Enter 1 for Class Average Marks \n",
      " Enter 2 for Percentage of students passed \n",
      " Enter 3 for Percentage of students failed \n",
      " Enter 4 for Percentage of students with distinction\n",
      "4\n",
      "Distinction Percentage:  22\n"
     ]
    }
   ],
   "source": [
    "def marksAnalysisApplication(program, filepath):\n",
    "    if program==1:\n",
    "        classAverage(filepath)\n",
    "    elif program==2:\n",
    "        passPercentage(filepath)\n",
    "    elif program==3:\n",
    "        failPercentage(filepath)\n",
    "    elif program==4:\n",
    "        distinctionPercentage(filepath)\n",
    "    else:\n",
    "        print(\"Select valid program\")\n",
    "filepath='DataFiles/marks.txt'\n",
    "print(\"Enter the number of students in a class\")\n",
    "n=int(input())\n",
    "print(\"Enetr minimum marks\")\n",
    "lb=int(input())\n",
    "print(\"Enter Maximum marks\")\n",
    "ub=int(input())\n",
    "print(\"Select the program to be done\", '\\n', \"Enter 1 for Class Average Marks\", '\\n', \"Enter 2 for Percentage of students passed\", '\\n', \"Enter 3 for Percentage of students failed\", '\\n', \"Enter 4 for Percentage of students with distinction\")\n",
    "program=int(input())\n",
    "generateMarks(n, lb, ub)\n",
    "marksAnalysisApplication(program, filepath)"
   ]
  },
  {
   "cell_type": "code",
   "execution_count": 89,
   "metadata": {},
   "outputs": [
    {
     "name": "stdout",
     "output_type": "stream",
     "text": [
      "59\n"
     ]
    }
   ],
   "source": [
    "def maxMarks(filepath):\n",
    "    with open(filepath, 'r') as f:\n",
    "        filedata=f.read()\n",
    "        li=list(filedata.split())    \n",
    "        l=len(li)\n",
    "        for i in li:\n",
    "            high=0\n",
    "            if high>int(i):\n",
    "                high=high\n",
    "            else:\n",
    "                high=int(i)\n",
    "        print(high)\n",
    "maxMarks('DataFiles/marks.txt')"
   ]
  },
  {
   "cell_type": "markdown",
   "metadata": {},
   "source": [
    "#### Contacts Application\n",
    "- Add Contacts\n",
    "- Search Contacts\n",
    "- List of Contacts\n",
    "- Modify Contacts\n",
    "- Delete Contacts"
   ]
  },
  {
   "cell_type": "code",
   "execution_count": 91,
   "metadata": {},
   "outputs": [
    {
     "name": "stdout",
     "output_type": "stream",
     "text": [
      "abc\n",
      "bcc\n"
     ]
    },
    {
     "data": {
      "text/plain": [
       "False"
      ]
     },
     "execution_count": 91,
     "metadata": {},
     "output_type": "execute_result"
    }
   ],
   "source": [
    "#Function to check if two strings are Anagrams\n",
    "    #abc cba => True\n",
    "    #aabbcc ccbbaaa => False\n",
    "    \n",
    "def isAnagram(s1, s2):\n",
    "    if len(s1)!=len(s2):\n",
    "        return False\n",
    "    if sorted(s1)==sorted(s2):\n",
    "        return True\n",
    "    return False\n",
    "s1=input()\n",
    "s2=input()\n",
    "isAnagram(s1, s2)"
   ]
  },
  {
   "cell_type": "code",
   "execution_count": 96,
   "metadata": {},
   "outputs": [
    {
     "ename": "SyntaxError",
     "evalue": "unexpected EOF while parsing (<ipython-input-96-07bd5de103d7>, line 2)",
     "output_type": "error",
     "traceback": [
      "\u001b[1;36m  File \u001b[1;32m\"<ipython-input-96-07bd5de103d7>\"\u001b[1;36m, line \u001b[1;32m2\u001b[0m\n\u001b[1;33m    \u001b[0m\n\u001b[1;37m    ^\u001b[0m\n\u001b[1;31mSyntaxError\u001b[0m\u001b[1;31m:\u001b[0m unexpected EOF while parsing\n"
     ]
    }
   ],
   "source": [
    "def anagrams(s1, s2):\n",
    "    "
   ]
  },
  {
   "cell_type": "code",
   "execution_count": 113,
   "metadata": {},
   "outputs": [
    {
     "name": "stdout",
     "output_type": "stream",
     "text": [
      "1\n",
      "abc\n",
      "bcd\n",
      "2\n"
     ]
    }
   ],
   "source": [
    "def charDeletionsAnagrams(s1, s2):\n",
    "    # to collect all uncommon characters - characters occuring in only one string\n",
    "    uncommon=[]\n",
    "    for i in s1:\n",
    "        if i not in s2:\n",
    "            uncommon.append(i)\n",
    "    for i in s2:\n",
    "        if i not in s1:\n",
    "            uncommon.append(i)\n",
    "    count = len(uncommon)\n",
    "    # freqs1 -> Frequency of common characters in s1\n",
    "    freqs1={}\n",
    "    # freqs1 -> Frequency of common characters in s2\n",
    "    freqs2={}\n",
    "    #Unique Characters in s1\n",
    "    uniqs1=[]\n",
    "    #Unique Characters in s2\n",
    "    uniqs2=[]\n",
    "    #Frequency of common unique characters in s1\n",
    "    for i in s1:\n",
    "        if i not in uncommon and i not in uniqs1:\n",
    "            freqs1[i]=s1.count(i)\n",
    "            uniqs1.append(i)\n",
    "    #Frequency of common unique characters in s1\n",
    "    for i in s2:\n",
    "        if i not in uncommon and i not in uniqs2:\n",
    "            freqs2[i]=s2.count(i)\n",
    "            uniqs2.append(i)\n",
    "    #Difference in frequencies for common characcters and add that differece to final count\n",
    "    for key in freqs1.keys():\n",
    "        count+=abs(freqs1[key]-freqs2[key])\n",
    "    print(count)\n",
    "    #return count\n",
    "  \n",
    "\n",
    "t=int(input())\n",
    "for t in range(0, t):\n",
    "    s1=input()\n",
    "    s2=input()\n",
    "    charDeletionsAnagrams(s1, s2)\n",
    "#     s1=input()\n",
    "#     s2=input()\n",
    "#     charDeletionsAnagrams(s1, s2)"
   ]
  },
  {
   "cell_type": "code",
   "execution_count": 124,
   "metadata": {},
   "outputs": [
    {
     "data": {
      "text/plain": [
       "'a'"
      ]
     },
     "execution_count": 124,
     "metadata": {},
     "output_type": "execute_result"
    }
   ],
   "source": [
    "def kLargestFrequency(s, k):\n",
    "    #construct the frequency dictionary for all unque chracters\n",
    "    freq={}\n",
    "    for i in s:\n",
    "        if i not in freq.keys():\n",
    "            freq[i]=s.count(i)\n",
    "            \n",
    "    #Extract Unique Frequencies in descending order\n",
    "    values= sorted(freq.values(), reverse=True)\n",
    "    uniqueValues = list(set(values))\n",
    "    uniqueValues = sorted(uniqueValues, reverse=True)\n",
    "    \n",
    "    #Identify kth largest frequency\n",
    "    if k<=len(uniqueValues):\n",
    "        kvalue = uniqueValues[k-1]\n",
    "    else:\n",
    "        return -1\n",
    "    \n",
    "    #Get all the elements with kth largest frequency\n",
    "    li=[]\n",
    "    for item in freq.items():\n",
    "        if item[1] == kvalue:\n",
    "            li.append(item[0])\n",
    "            \n",
    "    #Minimum of Kth largest frequency\n",
    "    return min(li)\n",
    "with open('DataFiles/data.txt', 'r') as f:\n",
    "    t=input(f.read())\n",
    "    for i in range(t):\n",
    "        s=input(f.read())\n",
    "        k=input(f.read)\n",
    "\n",
    "kLargestFrequency('aabcd', 1)"
   ]
  },
  {
   "cell_type": "code",
   "execution_count": null,
   "metadata": {},
   "outputs": [],
   "source": []
  }
 ],
 "metadata": {
  "kernelspec": {
   "display_name": "Python 3",
   "language": "python",
   "name": "python3"
  },
  "language_info": {
   "codemirror_mode": {
    "name": "ipython",
    "version": 3
   },
   "file_extension": ".py",
   "mimetype": "text/x-python",
   "name": "python",
   "nbconvert_exporter": "python",
   "pygments_lexer": "ipython3",
   "version": "3.7.3"
  }
 },
 "nbformat": 4,
 "nbformat_minor": 2
}
