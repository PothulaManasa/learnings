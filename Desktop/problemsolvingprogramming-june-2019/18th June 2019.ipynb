{
 "cells": [
  {
   "cell_type": "markdown",
   "metadata": {},
   "source": [
    "### Problem: Highest Remainder\n",
    "Write a program to find a natural number that is smaller than N such that it gives highest remainder when divided by that number.\n",
    "If there is more than one such number, print the smallest number.\n",
    "\n",
    "N\n",
    "highest=0\n",
    "x < N and n%x == highest"
   ]
  },
  {
   "cell_type": "code",
   "execution_count": 79,
   "metadata": {},
   "outputs": [
    {
     "name": "stdout",
     "output_type": "stream",
     "text": [
      "16\n"
     ]
    }
   ],
   "source": [
    "def highestRemainder(n):\n",
    "    hr=0\n",
    "    v=n\n",
    "    for i in range(n-1, n//2, -1):\n",
    "        r=n%i\n",
    "        if r>hr:\n",
    "            hr=r\n",
    "            v=i\n",
    "    print(v)\n",
    "    return\n",
    "highestRemainder(30)"
   ]
  },
  {
   "cell_type": "markdown",
   "metadata": {},
   "source": [
    "Special Number -> Special is defined as a number which has at least P distinct prime numbers\n",
    "Write a program to determine whther a number N is a speacial number or not\n",
    "\n",
    "**Input Format**<br>\n",
    "First Line: P<br>\n",
    "Second Line: T(number of test cases)<br>\n",
    "Third Line: N <br><br>\n",
    "\n",
    "**Output Format**\n",
    "\n"
   ]
  },
  {
   "cell_type": "code",
   "execution_count": 80,
   "metadata": {},
   "outputs": [
    {
     "name": "stdout",
     "output_type": "stream",
     "text": [
      "2\n",
      "3\n",
      "6\n",
      "YES\n",
      "39\n",
      "YES\n",
      "5\n",
      "NO\n"
     ]
    }
   ],
   "source": [
    "# Function to determine if a number is a special number\n",
    "def isSpecialNumber(n, p):\n",
    "    if numberOfPrimeFactors(n)>=p:\n",
    "        return True\n",
    "    return False\n",
    "\n",
    "# Function to check if number is prime\n",
    "def isPrime(n):\n",
    "    flag = 1\n",
    "    if n==2:\n",
    "        return True\n",
    "    for i in range(2, n//2+1):\n",
    "        if n%i==0:\n",
    "            flag = 0\n",
    "            return False\n",
    "    if flag==1:\n",
    "        return True\n",
    "        \n",
    "# Function to determine number of Prime factors for a given number\n",
    "def numberOfPrimeFactors(n):\n",
    "    if isPrime(n):\n",
    "        return 1\n",
    "    count=0\n",
    "    for i in range(2, n//2+1): #'/' is floating point division. '//' is integer division\n",
    "        if isPrime(i) and n%i==0:\n",
    "            count=count+1\n",
    "    return count\n",
    "def solution2():\n",
    "    p=int(input())\n",
    "    t=int(input())\n",
    "    for i in range(0, t):\n",
    "        n=int(input())\n",
    "        if isSpecialNumber(n, p):\n",
    "            print(\"YES\")\n",
    "        else:\n",
    "            print(\"NO\")\n",
    "solution2()"
   ]
  },
  {
   "cell_type": "code",
   "execution_count": null,
   "metadata": {},
   "outputs": [],
   "source": []
  },
  {
   "cell_type": "markdown",
   "metadata": {},
   "source": [
    "### Tuples\n",
    "tl = () ->Tuple is reperesent using paranthesis <br>\n",
    "li = [] ->List is represented using square brackets<br>\n",
    "\n",
    "#### Difference between Lists and Tuples\n",
    " * Lists are mutable - can be changed / Modified\n",
    "   * Access, Modify, Add and Delete data\n",
    " * Tuples are immutable - cannot be changed once iniialised\n",
    "   * Used to access data only\n",
    "  \n",
    " "
   ]
  },
  {
   "cell_type": "code",
   "execution_count": 8,
   "metadata": {},
   "outputs": [
    {
     "data": {
      "text/plain": [
       "(8, 6, 0)"
      ]
     },
     "execution_count": 8,
     "metadata": {},
     "output_type": "execute_result"
    }
   ],
   "source": [
    "t1 = (1,2,8,6,0)\n",
    "\n",
    "t1[3] # Accessing the 4th element\n",
    "t1[len(t1)//2:]# Accessing middle element to last"
   ]
  },
  {
   "cell_type": "code",
   "execution_count": 9,
   "metadata": {},
   "outputs": [
    {
     "data": {
      "text/plain": [
       "tuple"
      ]
     },
     "execution_count": 9,
     "metadata": {},
     "output_type": "execute_result"
    }
   ],
   "source": [
    "type(t1)"
   ]
  },
  {
   "cell_type": "code",
   "execution_count": null,
   "metadata": {},
   "outputs": [],
   "source": []
  },
  {
   "cell_type": "markdown",
   "metadata": {},
   "source": [
    "### Dictionaries\n",
    "\n",
    "It works on the concept of Set <br>\n",
    "Unique data\n",
    "\n",
    "###### Keys, Values\n",
    "\n",
    "- Key is the unique identifier for a value\n",
    "- Value is data that can be accessed with a key \n",
    "<br>\n",
    "\n",
    "- '[]' -> for Lists\n",
    "- '()' -> for Tuples\n",
    "- '{}' -> for Dictionaries"
   ]
  },
  {
   "cell_type": "code",
   "execution_count": 22,
   "metadata": {},
   "outputs": [
    {
     "data": {
      "text/plain": [
       "True"
      ]
     },
     "execution_count": 22,
     "metadata": {},
     "output_type": "execute_result"
    }
   ],
   "source": [
    "d1 = {\"k1\":\"value1\", \"k2\":\"value2\"}\n",
    "d1[\"k2\"] #Accessing the values of k2\n",
    "d1.keys() #Returns list of all keys\n",
    "d1.values() #Returns list of all values\n",
    "d1.items() #Returns list od tuples of keys and values\n",
    "d1[\"k3\"] = \"value3\" #Adding an element to the dictionary\n",
    "d1[\"k3\"]\n",
    "d1[\"k3\"] = \"value4\" #Updating an element. We can update the value but cannot update the key.\n",
    "d1.pop(\"k3\") # Removing an element\n",
    "\"k3\" in d1 #Check/Search for values\n",
    "\"k1\" in d1"
   ]
  },
  {
   "cell_type": "markdown",
   "metadata": {},
   "source": [
    "### Contacts Application\n",
    "- Add Contact\n",
    "- Search for Contact\n",
    "- List of all Contacts\n",
    "    - name1: phone1\n",
    "    - name2: phone2\n",
    "- Modify a Contact\n",
    "- Remove Contact"
   ]
  },
  {
   "cell_type": "code",
   "execution_count": 42,
   "metadata": {},
   "outputs": [
    {
     "name": "stdout",
     "output_type": "stream",
     "text": [
      "Contact nagababu added\n"
     ]
    }
   ],
   "source": [
    "contacts = {}\n",
    "\n",
    "def addContact(name, phone):\n",
    "    #Verify that the contact does not already exist\n",
    "    if name not in contacts:\n",
    "        contacts[name] = phone\n",
    "        print(\"Contact %s added\" %name)\n",
    "    else:\n",
    "        print(\"Contact %s already exists\" %name)\n",
    "    return\n",
    "addContact(\"nagababu\", 9553770066)"
   ]
  },
  {
   "cell_type": "code",
   "execution_count": 47,
   "metadata": {},
   "outputs": [
    {
     "data": {
      "text/plain": [
       "dict_keys(['nagababu'])"
      ]
     },
     "execution_count": 47,
     "metadata": {},
     "output_type": "execute_result"
    }
   ],
   "source": [
    "contacts.keys()"
   ]
  },
  {
   "cell_type": "code",
   "execution_count": 35,
   "metadata": {},
   "outputs": [
    {
     "name": "stdout",
     "output_type": "stream",
     "text": [
      "manasa : 8374415682\n"
     ]
    }
   ],
   "source": [
    "def searchContacts(name):\n",
    "    if name in contacts:\n",
    "        print(name, \":\", contacts[name])\n",
    "    else:\n",
    "        print(\"%s does not exist\" %name)\n",
    "    return\n",
    "\n",
    "searchContacts(\"manasa\")"
   ]
  },
  {
   "cell_type": "code",
   "execution_count": 49,
   "metadata": {},
   "outputs": [
    {
     "data": {
      "text/plain": [
       "{'nagababu': 9553770066}"
      ]
     },
     "execution_count": 49,
     "metadata": {},
     "output_type": "execute_result"
    }
   ],
   "source": [
    "def listOfContact():\n",
    "    contacts[\"alekhya\"]=\"9177033668\"\n",
    "    #print(\"-\", name, \" : \", contacts[name])\n",
    "contacts"
   ]
  },
  {
   "cell_type": "code",
   "execution_count": 75,
   "metadata": {},
   "outputs": [
    {
     "name": "stdout",
     "output_type": "stream",
     "text": [
      "1 contacts added\n"
     ]
    }
   ],
   "source": [
    "#New contacts is given as a dictionary\n",
    "#Merge new contacts with existing Contacts\n",
    "def importContacts(newContacts):\n",
    "    contacts.update(newContacts)\n",
    "    print(len(newContacts.keys()), \"contacts added\")\n",
    "    return\n",
    "#newContacts = {\"Alekhya\": 9177033668, \"Tilak\": 8985898556, \"Ravteja\": 8919333352, \"Manasa\": 9059498813}\n",
    "newContacts={\"Nagababu\": 9553770066}\n",
    "importContacts(newContacts)"
   ]
  },
  {
   "cell_type": "code",
   "execution_count": 53,
   "metadata": {},
   "outputs": [
    {
     "data": {
      "text/plain": [
       "{'nagababu': 9553770066,\n",
       " 'Alekhya': 9177033668,\n",
       " 'Tilak': 8985898556,\n",
       " 'Ravteja': 8919333352,\n",
       " 'Manasa': 9059498813}"
      ]
     },
     "execution_count": 53,
     "metadata": {},
     "output_type": "execute_result"
    }
   ],
   "source": [
    "contacts"
   ]
  },
  {
   "cell_type": "code",
   "execution_count": 68,
   "metadata": {},
   "outputs": [
    {
     "name": "stdout",
     "output_type": "stream",
     "text": [
      "Manasa number modified\n"
     ]
    }
   ],
   "source": [
    "def modify(name, phone):\n",
    "    if name not in contacts:\n",
    "        print(\"%s does not exist\" %name)\n",
    "    else:\n",
    "        contacts[name]=phone\n",
    "        print(\"%s number modified\" %name)\n",
    "        \n",
    "modify(\"Manasa\", \"9059498813\")"
   ]
  },
  {
   "cell_type": "code",
   "execution_count": 76,
   "metadata": {},
   "outputs": [
    {
     "data": {
      "text/plain": [
       "{'Alekhya': 9177033668,\n",
       " 'Tilak': 8985898556,\n",
       " 'Ravteja': 8919333352,\n",
       " 'Manasa': '9059498813',\n",
       " 'Nagababu': 9553770066}"
      ]
     },
     "execution_count": 76,
     "metadata": {},
     "output_type": "execute_result"
    }
   ],
   "source": [
    "contacts"
   ]
  },
  {
   "cell_type": "code",
   "execution_count": 78,
   "metadata": {},
   "outputs": [
    {
     "name": "stdout",
     "output_type": "stream",
     "text": [
      "Nagababu number removed\n"
     ]
    },
    {
     "data": {
      "text/plain": [
       "{'Alekhya': 9177033668,\n",
       " 'Tilak': 8985898556,\n",
       " 'Ravteja': 8919333352,\n",
       " 'Manasa': '9059498813'}"
      ]
     },
     "execution_count": 78,
     "metadata": {},
     "output_type": "execute_result"
    }
   ],
   "source": [
    "def delete(name):\n",
    "    if name not in contacts:\n",
    "        print(\"%s does not exist\" %name)\n",
    "    else:\n",
    "        contacts.pop(name)\n",
    "        print(\"%s number removed\" %name)\n",
    "    \n",
    "delete(\"Nagababu\")\n",
    "contacts"
   ]
  },
  {
   "cell_type": "code",
   "execution_count": 81,
   "metadata": {},
   "outputs": [
    {
     "ename": "SyntaxError",
     "evalue": "unexpected EOF while parsing (<ipython-input-81-e3dca8e58386>, line 2)",
     "output_type": "error",
     "traceback": [
      "\u001b[1;36m  File \u001b[1;32m\"<ipython-input-81-e3dca8e58386>\"\u001b[1;36m, line \u001b[1;32m2\u001b[0m\n\u001b[1;33m    \u001b[0m\n\u001b[1;37m    ^\u001b[0m\n\u001b[1;31mSyntaxError\u001b[0m\u001b[1;31m:\u001b[0m unexpected EOF while parsing\n"
     ]
    }
   ],
   "source": [
    "def list(contacts):\n",
    "    "
   ]
  },
  {
   "cell_type": "markdown",
   "metadata": {},
   "source": [
    "### Packages and Modules\n",
    "\n",
    "**Package**-> Collection of Modules(Python File.py)\n",
    "**Sub Package** -> Module can have sub Packages\n",
    "\n",
    "**Module**-> A Single Python File containing functions\n",
    "\n",
    "Package -> Subpackages -> Modules ->Fuctions"
   ]
  },
  {
   "cell_type": "code",
   "execution_count": 84,
   "metadata": {},
   "outputs": [
    {
     "data": {
      "text/plain": [
       "3.141592653589793"
      ]
     },
     "execution_count": 84,
     "metadata": {},
     "output_type": "execute_result"
    }
   ],
   "source": [
    "import math #imports the math package\n",
    "\n",
    "math.floor(123.456) #Whenever we call a function then we use paranthesis\n",
    "math.pi #"
   ]
  },
  {
   "cell_type": "code",
   "execution_count": 5,
   "metadata": {},
   "outputs": [
    {
     "data": {
      "text/plain": [
       "3.141592653589793"
      ]
     },
     "execution_count": 5,
     "metadata": {},
     "output_type": "execute_result"
    }
   ],
   "source": [
    "from math import floor, pi #Instead of importing the whole module we can import single function\n",
    "\n",
    "floor(123.456) #if we import function directly, we can use the floor() direectly\n",
    "#math.pi # gives error as we directly imported the function, no need to mention the name of the package\n",
    "pi"
   ]
  },
  {
   "cell_type": "code",
   "execution_count": 8,
   "metadata": {},
   "outputs": [
    {
     "data": {
      "text/plain": [
       "13"
      ]
     },
     "execution_count": 8,
     "metadata": {},
     "output_type": "execute_result"
    }
   ],
   "source": [
    "from math import floor as fl #we can import the functions by renaming\n",
    "\n",
    "fl(13.23)\n",
    "    "
   ]
  },
  {
   "cell_type": "code",
   "execution_count": 33,
   "metadata": {},
   "outputs": [
    {
     "name": "stdout",
     "output_type": "stream",
     "text": [
      "13 37 90 4 87 100 19 100 21 9 "
     ]
    }
   ],
   "source": [
    "#Function to generate 'n' random numbers in a given range\n",
    "import random\n",
    "\n",
    "def generateNRandomNumbers(n, lb, ub):\n",
    "    for i in range(0, n):\n",
    "        marks=random.randint(lb, ub)\n",
    "        print(marks, end=\" \")\n",
    "generateNRandomNumbers(10, 0, 100)"
   ]
  },
  {
   "cell_type": "code",
   "execution_count": null,
   "metadata": {},
   "outputs": [],
   "source": []
  },
  {
   "cell_type": "code",
   "execution_count": 18,
   "metadata": {},
   "outputs": [
    {
     "data": {
      "text/plain": [
       "2"
      ]
     },
     "execution_count": 18,
     "metadata": {},
     "output_type": "execute_result"
    }
   ],
   "source": [
    "from Packages import numerical #Importing the package created by us\n",
    "numerical.isPrime(9) #calling the function in created package\n",
    "numerical.numberOfPrimeFactors(24)"
   ]
  },
  {
   "cell_type": "code",
   "execution_count": 19,
   "metadata": {},
   "outputs": [
    {
     "data": {
      "text/plain": [
       "True"
      ]
     },
     "execution_count": 19,
     "metadata": {},
     "output_type": "execute_result"
    }
   ],
   "source": [
    "from Packages.numerical import isPrime #importing functions \n",
    "isPrime(103)#Short form of function"
   ]
  },
  {
   "cell_type": "code",
   "execution_count": null,
   "metadata": {},
   "outputs": [],
   "source": []
  }
 ],
 "metadata": {
  "kernelspec": {
   "display_name": "Python 3",
   "language": "python",
   "name": "python3"
  },
  "language_info": {
   "codemirror_mode": {
    "name": "ipython",
    "version": 3
   },
   "file_extension": ".py",
   "mimetype": "text/x-python",
   "name": "python",
   "nbconvert_exporter": "python",
   "pygments_lexer": "ipython3",
   "version": "3.7.3"
  }
 },
 "nbformat": 4,
 "nbformat_minor": 2
}
