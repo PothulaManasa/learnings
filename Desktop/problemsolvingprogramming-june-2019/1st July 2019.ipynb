{
 "cells": [
  {
   "cell_type": "code",
   "execution_count": 56,
   "metadata": {},
   "outputs": [
    {
     "data": {
      "text/plain": [
       "73"
      ]
     },
     "execution_count": 56,
     "metadata": {},
     "output_type": "execute_result"
    }
   ],
   "source": [
    "ord('Y')+10-26"
   ]
  },
  {
   "cell_type": "code",
   "execution_count": 23,
   "metadata": {},
   "outputs": [
    {
     "data": {
      "text/plain": [
       "99"
      ]
     },
     "execution_count": 23,
     "metadata": {},
     "output_type": "execute_result"
    }
   ],
   "source": [
    "125-26"
   ]
  },
  {
   "cell_type": "code",
   "execution_count": 4,
   "metadata": {},
   "outputs": [
    {
     "data": {
      "text/plain": [
       "'{'"
      ]
     },
     "execution_count": 4,
     "metadata": {},
     "output_type": "execute_result"
    }
   ],
   "source": [
    "chr(123)"
   ]
  },
  {
   "cell_type": "code",
   "execution_count": 71,
   "metadata": {},
   "outputs": [
    {
     "name": "stdout",
     "output_type": "stream",
     "text": [
      "['i', 'I', '2', '.']\n",
      "iI2.\n"
     ]
    }
   ],
   "source": [
    "import re\n",
    "def cipher(s, k):\n",
    "    li=s.strip()\n",
    "    li2=[]\n",
    "    s2=\"\"\n",
    "    for i in li:\n",
    "        pattern1='[a-z]'\n",
    "        pattern2='[A-Z]'\n",
    "        pattern3='[0-9]'\n",
    "        if re.match(pattern1, i):\n",
    "            c=ord(i)+k\n",
    "            #print(c)\n",
    "            #print(ord(i))\n",
    "            if c>122:\n",
    "                c=(c-26)\n",
    "            li2.append(chr(c))\n",
    "        elif re.match(pattern2, i):\n",
    "            c=ord(i)+k\n",
    "            if c>90:\n",
    "                c=(c-26)\n",
    "            li2.append(chr(c))\n",
    "        elif re.match(pattern3, i):\n",
    "            c=int(i)+k\n",
    "            if c>9:\n",
    "                c=c-10\n",
    "            li2.append(str(c))\n",
    "        else:\n",
    "            li2.append(i)\n",
    "    print(li2)\n",
    "    for i in li2:\n",
    "        s2+=i\n",
    "    print(s2)\n",
    "k=int(input)\n",
    "s=input()\n",
    "cipher(s, k)"
   ]
  },
  {
   "cell_type": "code",
   "execution_count": null,
   "metadata": {},
   "outputs": [],
   "source": []
  }
 ],
 "metadata": {
  "kernelspec": {
   "display_name": "Python 3",
   "language": "python",
   "name": "python3"
  },
  "language_info": {
   "codemirror_mode": {
    "name": "ipython",
    "version": 3
   },
   "file_extension": ".py",
   "mimetype": "text/x-python",
   "name": "python",
   "nbconvert_exporter": "python",
   "pygments_lexer": "ipython3",
   "version": "3.7.3"
  }
 },
 "nbformat": 4,
 "nbformat_minor": 2
}
