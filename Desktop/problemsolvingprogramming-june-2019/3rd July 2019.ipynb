{
 "cells": [
  {
   "cell_type": "code",
   "execution_count": 128,
   "metadata": {},
   "outputs": [
    {
     "name": "stdout",
     "output_type": "stream",
     "text": [
      "5\n",
      "11\n"
     ]
    },
    {
     "data": {
      "text/html": [
       "<div>\n",
       "<style scoped>\n",
       "    .dataframe tbody tr th:only-of-type {\n",
       "        vertical-align: middle;\n",
       "    }\n",
       "\n",
       "    .dataframe tbody tr th {\n",
       "        vertical-align: top;\n",
       "    }\n",
       "\n",
       "    .dataframe thead th {\n",
       "        text-align: right;\n",
       "    }\n",
       "</style>\n",
       "<table border=\"1\" class=\"dataframe\">\n",
       "  <thead>\n",
       "    <tr style=\"text-align: right;\">\n",
       "      <th></th>\n",
       "      <th>GEOID</th>\n",
       "      <th>State</th>\n",
       "      <th>2005</th>\n",
       "      <th>2006</th>\n",
       "      <th>2007</th>\n",
       "      <th>2008</th>\n",
       "      <th>2009</th>\n",
       "      <th>2010</th>\n",
       "      <th>2011</th>\n",
       "      <th>2012</th>\n",
       "      <th>2013</th>\n",
       "    </tr>\n",
       "  </thead>\n",
       "  <tbody>\n",
       "    <tr>\n",
       "      <th>0</th>\n",
       "      <td>04000US01</td>\n",
       "      <td>Alabama</td>\n",
       "      <td>37150</td>\n",
       "      <td>37952</td>\n",
       "      <td>42212</td>\n",
       "      <td>44476</td>\n",
       "      <td>39980</td>\n",
       "      <td>40933</td>\n",
       "      <td>42590</td>\n",
       "      <td>43464</td>\n",
       "      <td>41381</td>\n",
       "    </tr>\n",
       "    <tr>\n",
       "      <th>1</th>\n",
       "      <td>04000US02</td>\n",
       "      <td>Alaska</td>\n",
       "      <td>55891</td>\n",
       "      <td>56418</td>\n",
       "      <td>62993</td>\n",
       "      <td>63989</td>\n",
       "      <td>61604</td>\n",
       "      <td>57848</td>\n",
       "      <td>57431</td>\n",
       "      <td>63648</td>\n",
       "      <td>61137</td>\n",
       "    </tr>\n",
       "    <tr>\n",
       "      <th>2</th>\n",
       "      <td>04000US04</td>\n",
       "      <td>Arizona</td>\n",
       "      <td>45245</td>\n",
       "      <td>46657</td>\n",
       "      <td>47215</td>\n",
       "      <td>46914</td>\n",
       "      <td>45739</td>\n",
       "      <td>46896</td>\n",
       "      <td>48621</td>\n",
       "      <td>47044</td>\n",
       "      <td>50602</td>\n",
       "    </tr>\n",
       "    <tr>\n",
       "      <th>3</th>\n",
       "      <td>04000US05</td>\n",
       "      <td>Arkansas</td>\n",
       "      <td>36658</td>\n",
       "      <td>37057</td>\n",
       "      <td>40795</td>\n",
       "      <td>39586</td>\n",
       "      <td>36538</td>\n",
       "      <td>38587</td>\n",
       "      <td>41302</td>\n",
       "      <td>39018</td>\n",
       "      <td>39919</td>\n",
       "    </tr>\n",
       "    <tr>\n",
       "      <th>4</th>\n",
       "      <td>04000US06</td>\n",
       "      <td>California</td>\n",
       "      <td>51755</td>\n",
       "      <td>55319</td>\n",
       "      <td>55734</td>\n",
       "      <td>57014</td>\n",
       "      <td>56134</td>\n",
       "      <td>54283</td>\n",
       "      <td>53367</td>\n",
       "      <td>57020</td>\n",
       "      <td>57528</td>\n",
       "    </tr>\n",
       "  </tbody>\n",
       "</table>\n",
       "</div>"
      ],
      "text/plain": [
       "       GEOID       State   2005   2006   2007   2008   2009   2010   2011  \\\n",
       "0  04000US01     Alabama  37150  37952  42212  44476  39980  40933  42590   \n",
       "1  04000US02      Alaska  55891  56418  62993  63989  61604  57848  57431   \n",
       "2  04000US04     Arizona  45245  46657  47215  46914  45739  46896  48621   \n",
       "3  04000US05    Arkansas  36658  37057  40795  39586  36538  38587  41302   \n",
       "4  04000US06  California  51755  55319  55734  57014  56134  54283  53367   \n",
       "\n",
       "    2012   2013  \n",
       "0  43464  41381  \n",
       "1  63648  61137  \n",
       "2  47044  50602  \n",
       "3  39018  39919  \n",
       "4  57020  57528  "
      ]
     },
     "execution_count": 128,
     "metadata": {},
     "output_type": "execute_result"
    }
   ],
   "source": [
    "import pandas as pd\n",
    "incomedf=pd.read_csv('DataFiles/income.csv')\n",
    "print(len(incomedf))\n",
    "print(len(incomedf.columns))\n",
    "incomedf"
   ]
  },
  {
   "cell_type": "code",
   "execution_count": 123,
   "metadata": {},
   "outputs": [
    {
     "name": "stdout",
     "output_type": "stream",
     "text": [
      "48525\n"
     ]
    }
   ],
   "source": [
    "#Combined Average Income of all states from 2005 to 2013\n",
    "\n",
    "def combinedAverageIncome(df, startyear, endyear):\n",
    "    sum=0\n",
    "    avg=0\n",
    "    count=0\n",
    "    st=int(getColumnIndex(df, startyear))\n",
    "    #print(st)\n",
    "    ed=int(getColumnIndex(df, endyear))\n",
    "    #print(ed)\n",
    "    for j in range(0, len(incomedf.values)):\n",
    "        #print(incomedf.values[j])\n",
    "        for i in range(st, ed+1):\n",
    "            #print(incomedf.values[j][i])\n",
    "            sum+=int(incomedf.values[j][i])\n",
    "            count+=1\n",
    "\n",
    "print(sum//count)\n",
    "combinedAverageIncome(incomedf, '2005', '2013')      \n",
    "        "
   ]
  },
  {
   "cell_type": "code",
   "execution_count": 124,
   "metadata": {},
   "outputs": [
    {
     "name": "stdout",
     "output_type": "stream",
     "text": [
      "45\n",
      "2183644\n",
      "48525\n"
     ]
    }
   ],
   "source": [
    "incomedf\n",
    "sum=0\n",
    "avg=0\n",
    "count=0\n",
    "for j in range(0, len(incomedf.values)):\n",
    "        #print(incomedf.values[j])\n",
    "        for i in range(2, len(incomedf.values[j])):\n",
    "            #print(incomedf.values[j][i])\n",
    "            sum+=incomedf.values[j][i]\n",
    "            count+=1\n",
    "print(count)\n",
    "print(sum)\n",
    "print(sum//count)"
   ]
  },
  {
   "cell_type": "code",
   "execution_count": 121,
   "metadata": {},
   "outputs": [
    {
     "data": {
      "text/plain": [
       "10"
      ]
     },
     "execution_count": 121,
     "metadata": {},
     "output_type": "execute_result"
    }
   ],
   "source": [
    "import pandas as pd\n",
    "incomedf=pd.read_csv('DataFiles/income.csv')\n",
    "def getColumnIndex(df,columnkey):\n",
    "    columnindex=0\n",
    "    for column in range(0, len(df.columns)):\n",
    "        if columnkey==df.columns[column]:\n",
    "            columnindex=column\n",
    "    return(columnindex)\n",
    "getColumnIndex(incomedf,'2013')"
   ]
  },
  {
   "cell_type": "code",
   "execution_count": 139,
   "metadata": {},
   "outputs": [
    {
     "data": {
      "text/plain": [
       "4"
      ]
     },
     "execution_count": 139,
     "metadata": {},
     "output_type": "execute_result"
    }
   ],
   "source": [
    "def getRowIndex(df, rowkey):\n",
    "    for row in range(len(df.values)):\n",
    "        for i in range(0, len(df.columns)):\n",
    "            #print(df.values[row][i])\n",
    "            if rowkey==df.values[row][i]:\n",
    "                rowindex=row\n",
    "    return rowindex\n",
    "getRowIndex(incomedf, 55319)"
   ]
  },
  {
   "cell_type": "code",
   "execution_count": 140,
   "metadata": {},
   "outputs": [
    {
     "ename": "SyntaxError",
     "evalue": "unexpected EOF while parsing (<ipython-input-140-797ad9672d49>, line 3)",
     "output_type": "error",
     "traceback": [
      "\u001b[1;36m  File \u001b[1;32m\"<ipython-input-140-797ad9672d49>\"\u001b[1;36m, line \u001b[1;32m3\u001b[0m\n\u001b[1;33m    \u001b[0m\n\u001b[1;37m    ^\u001b[0m\n\u001b[1;31mSyntaxError\u001b[0m\u001b[1;31m:\u001b[0m unexpected EOF while parsing\n"
     ]
    }
   ],
   "source": [
    "#State with highest average income in the last three years\n",
    "def highestAverageIncome(df, startyear, endyear):\n",
    "        "
   ]
  },
  {
   "cell_type": "code",
   "execution_count": 166,
   "metadata": {},
   "outputs": [
    {
     "name": "stdout",
     "output_type": "stream",
     "text": [
      "60738\n"
     ]
    },
    {
     "data": {
      "text/plain": [
       "[42478, 60738, 48755, 40079, 55971]"
      ]
     },
     "execution_count": 166,
     "metadata": {},
     "output_type": "execute_result"
    }
   ],
   "source": [
    "Alabama=0\n",
    "Alaska=0\n",
    "Arizona=0\n",
    "Arkansas=0\n",
    "California=0\n",
    "count=0\n",
    "for i in range(len(incomedf.columns)-3, len(incomedf.columns)):\n",
    "    count+=1\n",
    "    for j in range(0, 5):\n",
    "        #print(incomedf.values[j][i])\n",
    "        if j==0:\n",
    "            Alabama+=incomedf.values[j][i]\n",
    "        if j==1:\n",
    "            Alaska+=incomedf.values[j][i]\n",
    "        if j==2:\n",
    "            Arizona+=incomedf.values[j][i]\n",
    "        if j==3:\n",
    "            Arkansas+=incomedf.values[j][i]\n",
    "        if j==4:\n",
    "            California+=incomedf.values[j][i]\n",
    "# print(Alabama/count)\n",
    "Alabama=Alabama//count\n",
    "# print(Alaska/count)\n",
    "Alaska=Alaska//count\n",
    "# print(Arizona/count)\n",
    "Arizona=Arizona//count\n",
    "# print(Arkansas/count)\n",
    "Arkansas=Arkansas//count\n",
    "# print(California/count)\n",
    "California=California//count\n",
    "#print(count)\n",
    "li=[]\n",
    "dict={}\n",
    "li.append(Alabama)\n",
    "li.append(Alaska)\n",
    "li.append(Arizona)\n",
    "li.append(Arkansas)\n",
    "li.append(California)\n",
    "higher=0\n",
    "for i in li:\n",
    "    if i>higher:\n",
    "        higher=i\n",
    "print(higher)\n",
    "li"
   ]
  },
  {
   "cell_type": "code",
   "execution_count": 158,
   "metadata": {},
   "outputs": [
    {
     "data": {
      "text/plain": [
       "5"
      ]
     },
     "execution_count": 158,
     "metadata": {},
     "output_type": "execute_result"
    }
   ],
   "source": [
    "len(incomedf.values)"
   ]
  },
  {
   "cell_type": "code",
   "execution_count": 167,
   "metadata": {},
   "outputs": [],
   "source": [
    "for i in range(len(incomedf.columns)-3, len(incomedf.columns)):\n",
    "    count+=1\n",
    "    for j in range(0, 5):\n",
    "        #print(incomedf.values[j][i])\n",
    "        if j==0:\n",
    "            Alabama+=incomedf.values[j][i]\n",
    "        if j==1:\n",
    "            Alaska+=incomedf.values[j][i]\n",
    "        if j==2:\n",
    "            Arizona+=incomedf.values[j][i]\n",
    "        if j==3:\n",
    "            Arkansas+=incomedf.values[j][i]\n",
    "        if j==4:\n",
    "            California+=incomedf.values[j][i]"
   ]
  },
  {
   "cell_type": "code",
   "execution_count": 169,
   "metadata": {},
   "outputs": [
    {
     "data": {
      "text/plain": [
       "['__class__',\n",
       " '__contains__',\n",
       " '__delattr__',\n",
       " '__delitem__',\n",
       " '__dir__',\n",
       " '__doc__',\n",
       " '__eq__',\n",
       " '__format__',\n",
       " '__ge__',\n",
       " '__getattribute__',\n",
       " '__getitem__',\n",
       " '__gt__',\n",
       " '__hash__',\n",
       " '__init__',\n",
       " '__init_subclass__',\n",
       " '__iter__',\n",
       " '__le__',\n",
       " '__len__',\n",
       " '__lt__',\n",
       " '__ne__',\n",
       " '__new__',\n",
       " '__reduce__',\n",
       " '__reduce_ex__',\n",
       " '__repr__',\n",
       " '__setattr__',\n",
       " '__setitem__',\n",
       " '__sizeof__',\n",
       " '__str__',\n",
       " '__subclasshook__',\n",
       " 'clear',\n",
       " 'copy',\n",
       " 'fromkeys',\n",
       " 'get',\n",
       " 'items',\n",
       " 'keys',\n",
       " 'pop',\n",
       " 'popitem',\n",
       " 'setdefault',\n",
       " 'update',\n",
       " 'values']"
      ]
     },
     "execution_count": 169,
     "metadata": {},
     "output_type": "execute_result"
    }
   ],
   "source": [
    "dir(dict)\n"
   ]
  },
  {
   "cell_type": "code",
   "execution_count": null,
   "metadata": {},
   "outputs": [],
   "source": []
  }
 ],
 "metadata": {
  "kernelspec": {
   "display_name": "Python 3",
   "language": "python",
   "name": "python3"
  },
  "language_info": {
   "codemirror_mode": {
    "name": "ipython",
    "version": 3
   },
   "file_extension": ".py",
   "mimetype": "text/x-python",
   "name": "python",
   "nbconvert_exporter": "python",
   "pygments_lexer": "ipython3",
   "version": "3.7.3"
  }
 },
 "nbformat": 4,
 "nbformat_minor": 2
}
