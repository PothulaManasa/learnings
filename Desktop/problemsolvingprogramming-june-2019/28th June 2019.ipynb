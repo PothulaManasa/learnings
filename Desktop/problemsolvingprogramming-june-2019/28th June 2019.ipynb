{
 "cells": [
  {
   "cell_type": "markdown",
   "metadata": {},
   "source": [
    "### Day Objectives:\n",
    "- Maps\n",
    "- Lambda\n",
    "- Builtin Functions\n",
    "- Use Cases"
   ]
  },
  {
   "cell_type": "markdown",
   "metadata": {},
   "source": [
    "### Maps in Python\n",
    "\n",
    "Mapping - Entity with Function\n",
    "\n",
    "f: x^2 +3*x + 9\n",
    "x: [1, 10]\n",
    "\n",
    "f(x)\n",
    "\n",
    "f(1) -> 13\n",
    "f(2) -> 19\n",
    "\n",
    "x     y <br>\n",
    "1     13 <br>\n",
    "2     19 <br>\n",
    "3     27 <br>\n",
    "4     37 <br>\n",
    "5     49 <br>\n",
    "6     63 <br>\n",
    "7     79 <br>\n",
    "\n",
    "map(function, Iterable)"
   ]
  },
  {
   "cell_type": "code",
   "execution_count": 17,
   "metadata": {},
   "outputs": [
    {
     "data": {
      "text/plain": [
       "1024"
      ]
     },
     "execution_count": 17,
     "metadata": {},
     "output_type": "execute_result"
    }
   ],
   "source": [
    "def powerN(a, n):\n",
    "    #return a**n\n",
    "    p=1\n",
    "    for i in range(0, n):\n",
    "        p=p*a\n",
    "    return p\n",
    "powerN(2, 10)\n",
    "\n",
    "def recursivePowerN(a,n):\n",
    "    if n==0:\n",
    "        return 1\n",
    "    else:\n",
    "        return a*recursivePowerN(a, n-1)\n",
    "recursivePowerN(2, 10)"
   ]
  },
  {
   "cell_type": "code",
   "execution_count": 57,
   "metadata": {},
   "outputs": [
    {
     "name": "stdout",
     "output_type": "stream",
     "text": [
      "<map object at 0x000002149E1DBD30>\n"
     ]
    },
    {
     "data": {
      "text/plain": [
       "(1.0, 2.0, 3.0, 4.0, 5.0, 6.0)"
      ]
     },
     "execution_count": 57,
     "metadata": {},
     "output_type": "execute_result"
    }
   ],
   "source": [
    "def cube(n):\n",
    "    return n**3\n",
    "li=[1,2,3,4,5,6]\n",
    "print(map(cube, li))# values will not be printed, object is printed as <map object at 0x000002149E1AD320>\n",
    "set(map(cube, li)) #{1, 8, 27, 64, 125, 216} -> Output\n",
    "list(map(cube, li))#[1, 8, 27, 64, 125, 216] -> Output\n",
    "list(map(cube, [123]))#[1860867] -> Ouput -> cube of 123\n",
    "li2=list(map(int, li))#[1, 2, 3, 4, 5, 6], strings in li convereted integer\n",
    "list(map(str, li2))#['1', '2', '3', '4', '5', '6'] -> Output will be converted to string again\n",
    "tuple(map(float, li2))#(1.0, 2.0, 3.0, 4.0, 5.0, 6.0)\n",
    "[int(i) for i in li]"
   ]
  },
  {
   "cell_type": "markdown",
   "metadata": {},
   "source": [
    "###  Fliter\n",
    "\n",
    "Used to check boolean values\n",
    "\n",
    "prime numbers\n",
    "\n",
    "x    y <br>\n",
    "1    <br>\n",
    "2    2<br>\n",
    "3    3<br>\n",
    "4    <br>\n",
    "5    5<br>"
   ]
  },
  {
   "cell_type": "code",
   "execution_count": 39,
   "metadata": {},
   "outputs": [
    {
     "data": {
      "text/plain": [
       "[1, 2, 3]"
      ]
     },
     "execution_count": 39,
     "metadata": {},
     "output_type": "execute_result"
    }
   ],
   "source": [
    "li=[1,2,'a','b',3]\n",
    "def isDigit(c):\n",
    "    c=str(c)\n",
    "    if c.isdigit():\n",
    "        return True #return 100 anything other than 0 is True\n",
    "    return False #return 0\n",
    "#filter(isdigit)\n",
    "isDigit('a')# we have to pass string values, ex: '1', '2', '3' or 'a', 'b', 'c' because isdigit() works with string values only\n",
    "\n",
    "list(filter(isDigit, li)) #filter sorts all the values which are true\n"
   ]
  },
  {
   "cell_type": "code",
   "execution_count": 61,
   "metadata": {},
   "outputs": [
    {
     "data": {
      "text/plain": [
       "[503, 509, 521, 523, 541, 547, 557, 563, 569, 571, 577, 587, 593, 599]"
      ]
     },
     "execution_count": 61,
     "metadata": {},
     "output_type": "execute_result"
    }
   ],
   "source": [
    "# Filter to identify all primes in a given range\n",
    "#li=[1,2,3,4,5]\n",
    "def checkPrime(n):\n",
    "    for i in range(2, n//2+1):\n",
    "        if n<2:\n",
    "            return False\n",
    "        if n%i==0:\n",
    "                return False\n",
    "    return True\n",
    "lb, ub =500, 600\n",
    "        \n",
    "prime1=list(filter(checkPrime, range(lb, ub)))\n",
    "prime2=list((i for i in range(lb, ub+1) if checkPrime(i)))\n",
    "\n",
    "#print(prime1, prime2)\n",
    "list(i for i in range(lb, ub+1) if checkPrime(i))\n",
    "\n",
    "#maps are not applicable for conditional checking"
   ]
  },
  {
   "cell_type": "markdown",
   "metadata": {},
   "source": [
    "### Lambda\n",
    "\n",
    "Anonymus Functions\n",
    "\n",
    "Can be embedded into Lists, Maps, Filters"
   ]
  },
  {
   "cell_type": "code",
   "execution_count": 77,
   "metadata": {},
   "outputs": [
    {
     "data": {
      "text/plain": [
       "[2, 4]"
      ]
     },
     "execution_count": 77,
     "metadata": {},
     "output_type": "execute_result"
    }
   ],
   "source": [
    "\n",
    "b=lambda x:x**3\n",
    "b(3)\n",
    "list(map(lambda x:x**3, [1,2,3,4,5]))\n",
    "list(filter(lambda x:(x%2==0), [1,2,3,4,5]))"
   ]
  },
  {
   "cell_type": "code",
   "execution_count": 72,
   "metadata": {},
   "outputs": [
    {
     "data": {
      "text/plain": [
       "1"
      ]
     },
     "execution_count": 72,
     "metadata": {},
     "output_type": "execute_result"
    }
   ],
   "source": [
    "a=lambda x: x%2\n",
    "a(3)"
   ]
  },
  {
   "cell_type": "code",
   "execution_count": 95,
   "metadata": {},
   "outputs": [
    {
     "name": "stdout",
     "output_type": "stream",
     "text": [
      "[12, 20, 11, 22, 23, 8, 23, 12, 9, 8]\n",
      "[12, 2, 7, 21, 14, 10, 12, 6, 4, 23]\n",
      "[19, 10, 10, 4, 16, 12, 18, 5, 8, 6]\n",
      "[12, 8, 8, 21, 17, 9, 15, 8, 5, 18]\n"
     ]
    },
    {
     "data": {
      "text/plain": [
       "[8, 8, 9, 8, 5]"
      ]
     },
     "execution_count": 95,
     "metadata": {},
     "output_type": "execute_result"
    }
   ],
   "source": [
    "from random import randint\n",
    "\n",
    "internal1marks = [randint(0, 25) for i in range(10)]\n",
    "print(internal1marks)\n",
    "\n",
    "internal2marks = [randint(0, 25) for i in range(10)]\n",
    "print(internal2marks)\n",
    "\n",
    "internal3marks = [randint(0, 25) for i in range(10)]\n",
    "print(internal3marks)\n",
    "\n",
    "averageInternal= list(map(lambda x,y,z: (x+y+z)//3, internal1marks, internal2marks, internal2marks))\n",
    "print(averageInternal)\n",
    "\n",
    "\n",
    "failedmarks = list(filter(lambda x: x<10, averageInternal))\n",
    "failedmarks"
   ]
  },
  {
   "cell_type": "markdown",
   "metadata": {},
   "source": [
    "### Applying Functional Programming to Marks Analysis Application"
   ]
  },
  {
   "cell_type": "code",
   "execution_count": 96,
   "metadata": {},
   "outputs": [],
   "source": [
    "#Generate Marks data\n",
    "from random import randint\n",
    "\n",
    "def generateMarks(n, lb, ub):\n",
    "    filename = 'DataFiles/marks.txt'\n",
    "    with open(filename, 'w') as f:\n",
    "        for i in range(n):\n",
    "            marks=randint(lb, ub)\n",
    "            f.write(str(marks)+'\\n')\n",
    "generateMarks(300, 0, 100)"
   ]
  },
  {
   "cell_type": "code",
   "execution_count": 125,
   "metadata": {},
   "outputs": [
    {
     "data": {
      "text/plain": [
       "47"
      ]
     },
     "execution_count": 125,
     "metadata": {},
     "output_type": "execute_result"
    }
   ],
   "source": [
    "#Marks Analysis\n",
    "#Class Average\n",
    "#Percentage of passedd, failed, distinction\n",
    "#Frequency of Highest and Lowest Mark\n",
    "#import re\n",
    "def readMarksList(filepath):\n",
    "    with open(filepath, 'r') as f:\n",
    "        filedata = f.read().split()\n",
    "        markslist=list(map(int, filedata))\n",
    "    return (markslist)\n",
    "\n",
    "def classAverage(filepath):\n",
    "    with open(filepath, 'r') as f:\n",
    "        filedata = f.read().split()\n",
    "        \n",
    "        #markslist=re.split('\\n', filedata)\n",
    "        markslist=list(map(int, filedata))\n",
    "        return sum(markslist)//len(markslist)\n",
    "classAverage('DataFiles/marks.txt')"
   ]
  },
  {
   "cell_type": "code",
   "execution_count": 116,
   "metadata": {},
   "outputs": [
    {
     "data": {
      "text/plain": [
       "41.66666666666667"
      ]
     },
     "execution_count": 116,
     "metadata": {},
     "output_type": "execute_result"
    }
   ],
   "source": [
    "def percentageFailed(filepath):\n",
    "    markslist=readMarksList(filepath)\n",
    "    failedstudents=len(list(filter(lambda marks:marks<40, markslist)))\n",
    "    failedpercentage=(failedstudents/len(markslist))*100\n",
    "    return failedpercentage\n",
    "filepath='DataFiles/marks.txt'\n",
    "percentageFailed(filepath)"
   ]
  },
  {
   "cell_type": "code",
   "execution_count": 117,
   "metadata": {},
   "outputs": [
    {
     "data": {
      "text/plain": [
       "58.33333333333333"
      ]
     },
     "execution_count": 117,
     "metadata": {},
     "output_type": "execute_result"
    }
   ],
   "source": [
    "def percentagePassed(filepath):\n",
    "    return 100-(percentageFailed(filepath))\n",
    "filepath='DataFiles/marks.txt'\n",
    "percentagePassed(filepath)"
   ]
  },
  {
   "cell_type": "code",
   "execution_count": 119,
   "metadata": {},
   "outputs": [
    {
     "data": {
      "text/plain": [
       "23.333333333333332"
      ]
     },
     "execution_count": 119,
     "metadata": {},
     "output_type": "execute_result"
    }
   ],
   "source": [
    "def Distinction(filepath):\n",
    "    markslist=readMarksList(filepath)\n",
    "    l=len(list(filter(lambda marks:marks>70, markslist)))\n",
    "    distinctionPercentage=(l/len(markslist))*100\n",
    "    return distinctionPercentage\n",
    "filepath='DataFiles/marks.txt'\n",
    "Distinction(filepath)"
   ]
  },
  {
   "cell_type": "code",
   "execution_count": 123,
   "metadata": {},
   "outputs": [
    {
     "data": {
      "text/plain": [
       "2"
      ]
     },
     "execution_count": 123,
     "metadata": {},
     "output_type": "execute_result"
    }
   ],
   "source": [
    "def highestMarkFrequency(filepath):\n",
    "    markslist=readMarksList(filepath)\n",
    "    return markslist.count(max(markslist)) #return [markslist.count(max(markslist)), max(markslist)] to print marks also i.e., [freq, marks]\n",
    "\n",
    "filepath='DataFiles/marks.txt'\n",
    "highestMarkFrequency(filepath)"
   ]
  },
  {
   "cell_type": "code",
   "execution_count": 124,
   "metadata": {},
   "outputs": [
    {
     "data": {
      "text/plain": [
       "7"
      ]
     },
     "execution_count": 124,
     "metadata": {},
     "output_type": "execute_result"
    }
   ],
   "source": [
    "def lowestMarkFrequency(filepath):\n",
    "    markslist=readMarksList(filepath)\n",
    "    return markslist.count(min(markslist)) #return [markslist.count(max(markslist)), max(markslist)] to print marks also i.e., [freq, marks]\n",
    "\n",
    "filepath='DataFiles/marks.txt'\n",
    "lowestMarkFrequency(filepath)"
   ]
  },
  {
   "cell_type": "markdown",
   "metadata": {},
   "source": [
    "### Data Encryption\n",
    "\n",
    "Key - Mapping of characters with replaced values\n",
    "\n",
    "0 -> 3 <br>\n",
    "1 -> 4 <br>\n",
    "2 -> 5 <br>\n",
    "3 -> 6 <br>\n",
    "4 -> 7 <br>\n",
    "5 -> 8 <br>\n",
    "6 -> 9 <br>\n",
    "7 -> 0 <br>\n",
    "8 -> 1 <br>\n",
    "9 -> 2 <br>"
   ]
  },
  {
   "cell_type": "code",
   "execution_count": 130,
   "metadata": {},
   "outputs": [],
   "source": [
    "#Function generate key for encryption\n",
    "keypath='DataFiles/key.txt'\n",
    "def generateKey(keypath):\n",
    "    with open(keypath, 'w') as f:\n",
    "        for i in range(0, 10):\n",
    "            if i<7:\n",
    "                f.write(str(i)+' '+str(i+3)+'\\n')\n",
    "            else:\n",
    "                f.write(str(i)+' '+str(i-7)+'\\n')\n",
    "generateKey(keypath)        "
   ]
  },
  {
   "cell_type": "code",
   "execution_count": 134,
   "metadata": {},
   "outputs": [
    {
     "data": {
      "text/plain": [
       "{'0': '3',\n",
       " '1': '4',\n",
       " '2': '5',\n",
       " '3': '6',\n",
       " '4': '7',\n",
       " '5': '8',\n",
       " '6': '9',\n",
       " '7': '0',\n",
       " '8': '1',\n",
       " '9': '2'}"
      ]
     },
     "execution_count": 134,
     "metadata": {},
     "output_type": "execute_result"
    }
   ],
   "source": [
    "#Function to encrypt data file\n",
    "keyfile='DataFiles/key.txt'\n",
    "def dictionaryKeyFile(keyfile):\n",
    "    key={}\n",
    "    with open(keyfile, 'r') as f:\n",
    "        for line in f:\n",
    "            line=line.split() # line=f.readline().split() -> if we are not using loop and want to read single line\n",
    "            key[line[0]]=line[1]\n",
    "    return key\n",
    "\n",
    "dictionaryKeyFile(keyfile)\n",
    "\n",
    "#def encryptMarksData(datafile, keyfile):\n",
    "    #Construct a dictionary for key data\n",
    "    "
   ]
  },
  {
   "cell_type": "code",
   "execution_count": null,
   "metadata": {},
   "outputs": [],
   "source": []
  }
 ],
 "metadata": {
  "kernelspec": {
   "display_name": "Python 3",
   "language": "python",
   "name": "python3"
  },
  "language_info": {
   "codemirror_mode": {
    "name": "ipython",
    "version": 3
   },
   "file_extension": ".py",
   "mimetype": "text/x-python",
   "name": "python",
   "nbconvert_exporter": "python",
   "pygments_lexer": "ipython3",
   "version": "3.7.3"
  }
 },
 "nbformat": 4,
 "nbformat_minor": 2
}
