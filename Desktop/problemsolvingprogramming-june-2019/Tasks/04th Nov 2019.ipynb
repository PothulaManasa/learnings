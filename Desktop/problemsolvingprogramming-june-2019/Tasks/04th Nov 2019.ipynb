{
 "cells": [
  {
   "cell_type": "markdown",
   "metadata": {},
   "source": [
    "- Create a program using class and n number of methods for CRUD Operations.\n",
    "- Create a employee - Employee id, Name, Designation,team and hometown.\n",
    "- Retrieve details of the employee If you click on 2 it needs to show all the details available in the database. \n",
    "- Update employee details\n",
    "- Delete employee details. Your program SHOULD always ask the user for these 4 CRUD Operations.0 for exit the program.\n",
    "- Use sqlite database for this.\n",
    "\n",
    "\n",
    "Need to work on Sqlite database,basic queries of SQL"
   ]
  },
  {
   "cell_type": "code",
   "execution_count": null,
   "metadata": {},
   "outputs": [],
   "source": []
  }
 ],
 "metadata": {
  "kernelspec": {
   "display_name": "Python 3",
   "language": "python",
   "name": "python3"
  },
  "language_info": {
   "codemirror_mode": {
    "name": "ipython",
    "version": 3
   },
   "file_extension": ".py",
   "mimetype": "text/x-python",
   "name": "python",
   "nbconvert_exporter": "python",
   "pygments_lexer": "ipython3",
   "version": "3.7.3"
  }
 },
 "nbformat": 4,
 "nbformat_minor": 2
}
