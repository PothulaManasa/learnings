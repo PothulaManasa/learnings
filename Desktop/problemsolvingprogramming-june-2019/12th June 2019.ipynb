{
 "cells": [
  {
   "cell_type": "markdown",
   "metadata": {},
   "source": [
    "# Problem Solving and Programming\n",
    "\n",
    "### Date 12 June 2019\n",
    "\n",
    "### Day Objectives\n",
    "\n",
    "* String Slicing\n",
    "* Functions in Python\n",
    "* Basic problems related to conditional statements using functions\n",
    "* Iteration in Python\n",
    "* Python Data Structures - List, Tuples and Dictionaries\n",
    " * Operations on data structures\n",
    " * Applyinig Data Structures to slove problems"
   ]
  },
  {
   "cell_type": "code",
   "execution_count": null,
   "metadata": {},
   "outputs": [],
   "source": []
  },
  {
   "cell_type": "markdown",
   "metadata": {},
   "source": [
    "### String Slicing"
   ]
  },
  {
   "cell_type": "code",
   "execution_count": 46,
   "metadata": {},
   "outputs": [
    {
     "data": {
      "text/plain": [
       "'nhy'"
      ]
     },
     "execution_count": 46,
     "metadata": {},
     "output_type": "execute_result"
    }
   ],
   "source": [
    "s1 = \"Python\" #defining string\n",
    "s1 # Gives the output --> 'python'\n",
    "s1[0] # gives the first character of the string\n",
    "s1[len(s1)-1] # Accessing the last character of the string\n",
    "s1[-1] # Another way of Accessing the last character of the string\n",
    "s1[-2] # Accessing the penultimate character or last but one character of the string\n",
    "s1[0:2] # Accessing more than one character, here we will get the output --> 'py' <-- it stops at one less than the given upperbound number. i.e., for accessing till nth character we have to give the upperbound as n+1th count\n",
    "s1[len(s1)-2:len(s1)] # last 2 characters\n",
    "s1[-2:] #Accessing the last two characters, empty after ':' represents till the end like wise empty before ':' represents from the begginning\n",
    "s1[4:] #also gives the last two character for the srting with 6 characters\n",
    "s1[1:len(s1)-1] # Removes 1st and last characters of a string or\n",
    "s1[1:-1] #Removes 1st and last character\n",
    "s1[int(len(s1)/2)] # To print the middle character of the string\n",
    "s1[len(s1)//2] #To print the middle character of the string. '//' is reccomandable\n",
    "s1[-1::-1] #Reverse of a string. (or) s1[::-1] also works ==> [start:end:direction and step]\n",
    "s1[-1:-3:-1] #Accessing last two characters in reverse direction\n",
    "s1[len(s1)//2:len(s1)//2-2:-1] #Reverse the middle two characters in an even length string\n",
    "s1[::2] #Accessing alternate character in a string --> pto ==>python\n",
    "s1[::-2] #Accessing alternate characters of a string in reverse order --> nhy ==>python"
   ]
  },
  {
   "cell_type": "markdown",
   "metadata": {},
   "source": [
    "### Functions"
   ]
  },
  {
   "cell_type": "code",
   "execution_count": 47,
   "metadata": {},
   "outputs": [
    {
     "data": {
      "text/plain": [
       "'nohtyP'"
      ]
     },
     "execution_count": 47,
     "metadata": {},
     "output_type": "execute_result"
    }
   ],
   "source": [
    "#Function to reverse a string\n",
    "def reverseString(s):\n",
    "    return s[::-1]\n",
    "\n",
    "reverseString(\"Python\")"
   ]
  },
  {
   "cell_type": "code",
   "execution_count": 6,
   "metadata": {},
   "outputs": [
    {
     "name": "stdout",
     "output_type": "stream",
     "text": [
      "enter a string asanam\n"
     ]
    },
    {
     "data": {
      "text/plain": [
       "False"
      ]
     },
     "execution_count": 6,
     "metadata": {},
     "output_type": "execute_result"
    }
   ],
   "source": [
    "#Function to check if a string is palindrome\n",
    "def palindrome(s):\n",
    "    if s == s[::-1]:\n",
    "        return True\n",
    "    else:\n",
    "        return False\n",
    "\n",
    "\n",
    "s=str(input(\"enter a string \"))\n",
    "palindrome(s)"
   ]
  },
  {
   "cell_type": "code",
   "execution_count": 95,
   "metadata": {},
   "outputs": [
    {
     "name": "stdout",
     "output_type": "stream",
     "text": [
      "enter a year: 2009\n"
     ]
    },
    {
     "data": {
      "text/plain": [
       "False"
      ]
     },
     "execution_count": 95,
     "metadata": {},
     "output_type": "execute_result"
    }
   ],
   "source": [
    "#Function to check if a given year is a leap year\n",
    "def isLeapYear(year):\n",
    "    if year%400==0 or year%4==0 and year%100!=0:\n",
    "        return True\n",
    "    return False #instead of else we can directly write return for true or false conditions\n",
    "year=int(input(\"enter a year: \"))\n",
    "isLeapYear(year)"
   ]
  },
  {
   "cell_type": "code",
   "execution_count": 10,
   "metadata": {},
   "outputs": [
    {
     "name": "stdout",
     "output_type": "stream",
     "text": [
      "enter a number: 349857\n"
     ]
    },
    {
     "data": {
      "text/plain": [
       "6"
      ]
     },
     "execution_count": 10,
     "metadata": {},
     "output_type": "execute_result"
    }
   ],
   "source": [
    "#Count the number of digits in number\n",
    "def numberOfDigits(number):\n",
    "    count=len(str(number))\n",
    "    return count\n",
    "number=int(input(\"enter a number: \"))\n",
    "numberOfDigits(number)"
   ]
  },
  {
   "cell_type": "code",
   "execution_count": 11,
   "metadata": {},
   "outputs": [
    {
     "name": "stdout",
     "output_type": "stream",
     "text": [
      "enter n1: 947\n",
      "enter n2: 83746\n",
      "enter n3: 874658476\n",
      "enter n4: 28974\n"
     ]
    },
    {
     "data": {
      "text/plain": [
       "874658476"
      ]
     },
     "execution_count": 11,
     "metadata": {},
     "output_type": "execute_result"
    }
   ],
   "source": [
    "#Function to identify the greatest of a 4 numbers\n",
    "\n",
    "def greatestNumber(n1,n2,n3,n4):\n",
    "    if n1>n2 and n1>n3 and n1>n4:\n",
    "        return n1\n",
    "    elif n2>n3 and n2>n4:\n",
    "        return n2\n",
    "    elif n3>n4:\n",
    "        return n3\n",
    "    else:\n",
    "        return n4\n",
    "\n",
    "n1=int(input(\"enter n1: \"))\n",
    "n2=int(input(\"enter n2: \"))\n",
    "n3=int(input(\"enter n3: \"))\n",
    "n4=int(input(\"enter n4: \"))\n",
    "greatestNumber(n1,n2,n3,n4)"
   ]
  },
  {
   "cell_type": "markdown",
   "metadata": {},
   "source": [
    "### Iterations\n",
    "\n",
    "* for\n",
    "* while"
   ]
  },
  {
   "cell_type": "code",
   "execution_count": 15,
   "metadata": {},
   "outputs": [
    {
     "name": "stdout",
     "output_type": "stream",
     "text": [
      "enter n: 99\n",
      "1 2 3 4 5 6 7 8 9 10 11 12 13 14 15 16 17 18 19 20 21 22 23 24 25 26 27 28 29 30 31 32 33 34 35 36 37 38 39 40 41 42 43 44 45 46 47 48 49 50 51 52 53 54 55 56 57 58 59 60 61 62 63 64 65 66 67 68 69 70 71 72 73 74 75 76 77 78 79 80 81 82 83 84 85 86 87 88 89 90 91 92 93 94 95 96 97 98 99 "
     ]
    }
   ],
   "source": [
    "#Funtion to print n natural numbers\n",
    "\n",
    "def printNNaturalNumbers(n):\n",
    "    for counter in range(1, n+1):\n",
    "        print(counter, end=\" \")\n",
    "    return\n",
    "n=int(input(\"enter n: \"))\n",
    "printNNaturalNumbers(n)"
   ]
  },
  {
   "cell_type": "code",
   "execution_count": 18,
   "metadata": {},
   "outputs": [
    {
     "name": "stdout",
     "output_type": "stream",
     "text": [
      "enter n: 10\n",
      "2 4 6 8 10 "
     ]
    }
   ],
   "source": [
    "#Function to print even numbers in given range\n",
    "\n",
    "def printEvenNumbers(n):\n",
    "    for counter in range(1, n+1):\n",
    "        if counter%2==0:\n",
    "            print(counter, end=\" \")\n",
    "    return\n",
    "n=int(input(\"enter n: \"))\n",
    "printEvenNumbers(n)"
   ]
  },
  {
   "cell_type": "code",
   "execution_count": 26,
   "metadata": {},
   "outputs": [
    {
     "name": "stdout",
     "output_type": "stream",
     "text": [
      "enter n: 9\n",
      "2 4 6 8 "
     ]
    }
   ],
   "source": [
    "#Function to print n even  numbers\n",
    "#\n",
    "\n",
    "def printNEvenNumbers(n):\n",
    "    counter=1\n",
    "    for counter  "
   ]
  },
  {
   "cell_type": "code",
   "execution_count": 23,
   "metadata": {},
   "outputs": [
    {
     "name": "stdout",
     "output_type": "stream",
     "text": [
      "1 2 3 4 5 6 7 8 9 "
     ]
    }
   ],
   "source": [
    "#Function to print n Natural numbers using While loop\n",
    "\n",
    "def nNaturalNumbers(n):\n",
    "    counter = 1\n",
    "    while counter<=n:\n",
    "        print(counter, end=\" \")\n",
    "        counter = counter + 1\n",
    "    return\n",
    "nNaturalNumbers(9)"
   ]
  },
  {
   "cell_type": "code",
   "execution_count": 27,
   "metadata": {},
   "outputs": [
    {
     "name": "stdout",
     "output_type": "stream",
     "text": [
      "7\n",
      "7\n",
      "6\n",
      "-6\n",
      "0\n",
      "0\n"
     ]
    }
   ],
   "source": [
    "print(2 and 7) #if first condition is true second expression will be printed\n",
    "print(2 and 7)\n",
    "print(-7 and 6)\n",
    "print(-5 and -6)\n",
    "print(0 and 5)# As the fist statement is false 0 was printed (no need to run the second value)\n",
    "print(5 and 0)"
   ]
  },
  {
   "cell_type": "code",
   "execution_count": 28,
   "metadata": {},
   "outputs": [
    {
     "data": {
      "text/plain": [
       "2"
      ]
     },
     "execution_count": 28,
     "metadata": {},
     "output_type": "execute_result"
    }
   ],
   "source": [
    "True+True"
   ]
  },
  {
   "cell_type": "code",
   "execution_count": 29,
   "metadata": {},
   "outputs": [
    {
     "data": {
      "text/plain": [
       "'gn'"
      ]
     },
     "execution_count": 29,
     "metadata": {},
     "output_type": "execute_result"
    }
   ],
   "source": [
    "\"g\"+\"n\""
   ]
  },
  {
   "cell_type": "code",
   "execution_count": 30,
   "metadata": {},
   "outputs": [
    {
     "data": {
      "text/plain": [
       "'ggg'"
      ]
     },
     "execution_count": 30,
     "metadata": {},
     "output_type": "execute_result"
    }
   ],
   "source": [
    "\"g\"*3"
   ]
  },
  {
   "cell_type": "code",
   "execution_count": 31,
   "metadata": {},
   "outputs": [
    {
     "data": {
      "text/plain": [
       "'ggg'"
      ]
     },
     "execution_count": 31,
     "metadata": {},
     "output_type": "execute_result"
    }
   ],
   "source": [
    "3*\"g\""
   ]
  },
  {
   "cell_type": "code",
   "execution_count": null,
   "metadata": {},
   "outputs": [],
   "source": [
    "i=0\n",
    "while 0: #As 0 is false it returns nothing, if we give 1 or -1 infinite loop will run, and if we give 0==0 infinite loop will be ran as the condition is true\n",
    "    print(i)\n",
    "    i=i+1"
   ]
  },
  {
   "cell_type": "code",
   "execution_count": 1,
   "metadata": {},
   "outputs": [
    {
     "name": "stdout",
     "output_type": "stream",
     "text": [
      "6 12 18 24 30 36 42 48 54 60 66 72 78 "
     ]
    }
   ],
   "source": [
    "#Function to print all numbers divisible by 6 and not a factor of 100 in a given range (lb, ub) inclusive\n",
    "\n",
    "def divisibleOf6(lb, ub):\n",
    "    for counter in range(lb, ub):\n",
    "        if counter%6==0 and 100%counter!=0:\n",
    "            print(counter, end=\" \")\n",
    "            \n",
    "divisibleOf6(1, 80)"
   ]
  },
  {
   "cell_type": "code",
   "execution_count": 5,
   "metadata": {},
   "outputs": [
    {
     "data": {
      "text/plain": [
       "248744.0"
      ]
     },
     "execution_count": 5,
     "metadata": {},
     "output_type": "execute_result"
    }
   ],
   "source": [
    "#Function to find the average of cubes of all even numbers in a given range(lb, ub) inclusive\n",
    "def averageOfCubes(lb, ub):\n",
    "    cube=0\n",
    "    avg=0\n",
    "    count=0\n",
    "    for counter in range(lb, ub+1):\n",
    "        if counter%2==0:\n",
    "            count=count+1\n",
    "            cube=(counter**3)+cube\n",
    "        avg=cube/count\n",
    "    return avg\n",
    "averageOfCubes(50, 75)"
   ]
  },
  {
   "cell_type": "code",
   "execution_count": 12,
   "metadata": {},
   "outputs": [
    {
     "name": "stdout",
     "output_type": "stream",
     "text": [
      "1 2 3 4 6 12 "
     ]
    }
   ],
   "source": [
    "#Function to generate the list of factors for a given number\n",
    "# 12 --> 1,2,3,4,6,12\n",
    "def factor(n):\n",
    "    for counter in range(1, n+1):\n",
    "        if n%counter==0:\n",
    "            print(counter, end=\" \")\n",
    "            \n",
    "factor(12)"
   ]
  },
  {
   "cell_type": "code",
   "execution_count": 17,
   "metadata": {},
   "outputs": [
    {
     "data": {
      "text/plain": [
       "720"
      ]
     },
     "execution_count": 17,
     "metadata": {},
     "output_type": "execute_result"
    }
   ],
   "source": [
    "#Function to calculate the factorial of a given number\n",
    "\n",
    "def factorial(n):\n",
    "    fact=1\n",
    "    for counter in range(1, n+1):\n",
    "        fact=counter*fact\n",
    "    return fact\n",
    "factorial(6)\n",
    "        "
   ]
  },
  {
   "cell_type": "code",
   "execution_count": 20,
   "metadata": {},
   "outputs": [
    {
     "data": {
      "text/plain": [
       "True"
      ]
     },
     "execution_count": 20,
     "metadata": {},
     "output_type": "execute_result"
    }
   ],
   "source": [
    "#Function to check if a given number is Prime\n",
    "\n",
    "def prime(n):\n",
    "    for counter in range(2, n):\n",
    "        if n%counter==0:\n",
    "            return False\n",
    "        return True\n",
    "prime(11)"
   ]
  },
  {
   "cell_type": "markdown",
   "metadata": {},
   "source": [
    "#Function to calculate avg of first N Prime Numbers\n",
    "def avgOfNPrimes(n):\n",
    "    count=1\n",
    "    sum=0\n",
    "    avg=0\n",
    "    for counter in range(2, n):\n",
    "        for num in range(2, counter-1):\n",
    "            if counter%num!=0:\n",
    "                sum=sum+num\n",
    "                count=count+1\n",
    "        avg=sum/count\n",
    "avgOfNPrimes(5)"
   ]
  },
  {
   "cell_type": "code",
   "execution_count": 106,
   "metadata": {},
   "outputs": [
    {
     "name": "stdout",
     "output_type": "stream",
     "text": [
      "3 4 5 5 5 6 6 7 7 7 7 7 8 8 8 8 "
     ]
    }
   ],
   "source": [
    "def primeNumbers(n):\n",
    "    prime=0\n",
    "    for counter in range(1, n+1):\n",
    "        #for num in range(counter, 1, -1):\n",
    "            if counter%num!=0 and counter%counter==0 and counter%1==0:\n",
    "                print(counter, end=\" \")\n",
    "primeNumbers(8)"
   ]
  },
  {
   "cell_type": "code",
   "execution_count": null,
   "metadata": {},
   "outputs": [],
   "source": []
  },
  {
   "cell_type": "markdown",
   "metadata": {},
   "source": [
    "#Function to generate all perfect numbers in a given range\n",
    "def isPerfect(n):\n",
    "    if factor(n)==n:\n",
    "        return True\n",
    "    return False\n",
    "\n",
    "def generatePerfect(lb, ub):\n",
    "    for i in range(lb, ub+1):\n",
    "        if isPerfect(i):\n",
    "            print(i, end=\" \")\n",
    "    return\n",
    "generatePerfect(1, 100000)"
   ]
  },
  {
   "cell_type": "code",
   "execution_count": null,
   "metadata": {},
   "outputs": [],
   "source": [
    "#To print the 10 number in a single row\n"
   ]
  },
  {
   "cell_type": "code",
   "execution_count": 8,
   "metadata": {},
   "outputs": [
    {
     "name": "stdout",
     "output_type": "stream",
     "text": [
      "10 9 8 7 6 5 4 3 2 1 "
     ]
    }
   ],
   "source": [
    "#Function to print the reverse range\n",
    "\n",
    "def reverseRange(lb, ub):\n",
    "    for i in range(ub, lb-1, -1): #(start, end, order)\n",
    "        print(i, end=\" \")\n",
    "    return\n",
    "\n",
    "reverseRange(1, 10)"
   ]
  },
  {
   "cell_type": "code",
   "execution_count": 11,
   "metadata": {},
   "outputs": [
    {
     "name": "stdout",
     "output_type": "stream",
     "text": [
      "99 97 95 93 91 89 87 85 83 81 79 77 75 73 71 69 67 65 63 61 59 57 55 53 51 49 47 45 43 41 39 37 35 33 31 29 27 25 23 21 19 17 15 13 11 9 7 5 3 1 "
     ]
    }
   ],
   "source": [
    "#Print the odd number in reverse order\n",
    "\n",
    "def reverseOdd(lb, ub):\n",
    "    for n in range(ub, lb-1, -1):\n",
    "        if n%2!=0:\n",
    "            print(n, end=\" \")\n",
    "    return\n",
    "\n",
    "reverseOdd(1, 100)"
   ]
  },
  {
   "cell_type": "code",
   "execution_count": 6,
   "metadata": {},
   "outputs": [
    {
     "name": "stdout",
     "output_type": "stream",
     "text": [
      "500 502 504 506 508 510 512 514 516 518 520 522 524 526 528 530 532 534 536 538 540 542 544 546 548 550 "
     ]
    }
   ],
   "source": [
    "#Function to print alternative numbers in a given range\n",
    "#[500, 550] -> 500 502 504 ....550\n",
    "#(500, 550) -> 501 503 505 ....549\n",
    "#range(500, 550) -> 500 501 502 ....549\n",
    "#All set based functions in python have start and end\n",
    "\n",
    "def alternativeValues(start, end):\n",
    "    for value in range(start, end+1, 2): #(starting range, ending range, step). Now it takes 2 steps increment\n",
    "        print(value, end=\" \")\n",
    "    return\n",
    "alternativeValues(500, 550)"
   ]
  },
  {
   "cell_type": "code",
   "execution_count": 36,
   "metadata": {},
   "outputs": [
    {
     "data": {
      "text/plain": [
       "15150"
      ]
     },
     "execution_count": 36,
     "metadata": {},
     "output_type": "execute_result"
    }
   ],
   "source": [
    "#Function to calculate sum of numbers in a range\n",
    "\n",
    "def sum(lb, ub):\n",
    "    count=0\n",
    "    for n in range(lb, ub+1):\n",
    "        count=count+n\n",
    "    return count\n",
    "\n",
    "\n",
    "sum(100, 200)"
   ]
  },
  {
   "cell_type": "code",
   "execution_count": 44,
   "metadata": {},
   "outputs": [
    {
     "data": {
      "text/plain": [
       "3.0"
      ]
     },
     "execution_count": 44,
     "metadata": {},
     "output_type": "execute_result"
    }
   ],
   "source": [
    "#Function to calculate the average of given range\n",
    "def avg(lb, ub):\n",
    "    count=0\n",
    "    avg=0\n",
    "    counter=0\n",
    "    for n in range(lb, ub+1):\n",
    "        count=count+n\n",
    "        counter=counter+1\n",
    "        avg=count/counter\n",
    "    return avg\n",
    "\n",
    "\n",
    "avg(1, 5)"
   ]
  },
  {
   "cell_type": "code",
   "execution_count": 59,
   "metadata": {},
   "outputs": [
    {
     "data": {
      "text/plain": [
       "-54"
      ]
     },
     "execution_count": 59,
     "metadata": {},
     "output_type": "execute_result"
    }
   ],
   "source": [
    "#Function to subtract the given range\n",
    "def sub(lb, ub):\n",
    "    sub=lb\n",
    "    for n in range(lb, ub+1):\n",
    "        sub=sub-n\n",
    "    return sub\n",
    "sub(1,10)"
   ]
  },
  {
   "cell_type": "code",
   "execution_count": 61,
   "metadata": {},
   "outputs": [
    {
     "ename": "SyntaxError",
     "evalue": "unexpected EOF while parsing (<ipython-input-61-1f800af6824a>, line 2)",
     "output_type": "error",
     "traceback": [
      "\u001b[1;36m  File \u001b[1;32m\"<ipython-input-61-1f800af6824a>\"\u001b[1;36m, line \u001b[1;32m2\u001b[0m\n\u001b[1;33m    def evenSumOddSub(lb, ub):\u001b[0m\n\u001b[1;37m                              ^\u001b[0m\n\u001b[1;31mSyntaxError\u001b[0m\u001b[1;31m:\u001b[0m unexpected EOF while parsing\n"
     ]
    }
   ],
   "source": [
    "#Function to add the even numbers and sub the odd numbers\n",
    "def evenSumOddSub(lb, ub):"
   ]
  },
  {
   "cell_type": "code",
   "execution_count": 96,
   "metadata": {},
   "outputs": [
    {
     "name": "stdout",
     "output_type": "stream",
     "text": [
      "2000 2004 2008 2012 2016 2020 "
     ]
    }
   ],
   "source": [
    "#Function to generate the leap years in a given time period\n",
    "#2000 - 2020 -> 2000, 2004, 2008, 2012, 2016, 2020\n",
    "# \n",
    "\n",
    "def leapYears(startyear, endyear):\n",
    "    for year in range(startyear, endyear+1):\n",
    "        #if year%400==0 or year%4==0 and year%100!=0:\n",
    "        if isLeapYear(year):\n",
    "            print(year, end=\" \")\n",
    "leapYears(2000, 2020)"
   ]
  },
  {
   "cell_type": "code",
   "execution_count": 97,
   "metadata": {},
   "outputs": [
    {
     "name": "stdout",
     "output_type": "stream",
     "text": [
      "1827\n"
     ]
    }
   ],
   "source": [
    "#Calculate number of days in a given time period\n",
    "\n",
    "def numberOfDays(lb, ub):\n",
    "    days=0\n",
    "    for n in range(lb, ub+1):\n",
    "        if isLeapYear(n):\n",
    "            days=days+366\n",
    "        else:\n",
    "            days=days+365\n",
    "    print(days)\n",
    "numberOfDays(2000, 2004)"
   ]
  },
  {
   "cell_type": "code",
   "execution_count": null,
   "metadata": {},
   "outputs": [],
   "source": [
    "#Function to calculate number of hours in a given range including months(month1, year1, month2, year2)\n",
    "#(11, 1975, 03, 1999) -> \n",
    "#2, 2016, 6, 2019\n",
    "# [all days from feb 2016 to dec 2016\n",
    "# all days for years between 2016 and 2019\n",
    "# all days from Jan to June 2019]\n",
    "#Number of Hours = 24 * No of days\n",
    "# 3 steps\n",
    "    #1. start month year to end of year - calculate no of days\n",
    "    #2. calculate days for all years between start year and end year exclusive\n",
    "        # 2018, 2017 -> 365 days *no of years (2017 & 2018 are complete years between start year and year)\n",
    "    #3. Calculate days from Jan to end month year\n",
    "        #Excluding Feb\n",
    "        # First Six months - 1, 3, 4, 5, 6, 7\n",
    "                    #All odd months have 31 days\n",
    "                    #All even months have 30 days\n",
    "        # last Six months - 8, 9, 10, 11, 12\n",
    "                    #All even months have 31 days\n",
    "                    #All odd months have 30 days\n",
    "        # 31 days - (month<=7 and month %2!=0 and month !=2)||(month >=8 and month %2=0)\n",
    "            #return 31\n",
    "        #else\n",
    "            #return 30\n",
    "\n",
    "\n",
    "def numberOfHours(month1, year1, month2, year2):\n",
    "    days=0\n",
    "    month=0\n",
    "    year=0\n",
    "    \n",
    "    alldays=0\n",
    "    daysinamonth=0\n",
    "    daysinayear=0\n",
    "    for year in range(year1, year2+1):\n",
    "        if month==1:\n",
    "            days=31\n",
    "        elif month==2:\n",
    "            days=28\n",
    "        elif month==3:\n",
    "            days=31\n",
    "        elif month==4:\n",
    "            days=30\n",
    "        elif month==5:\n",
    "            days=31\n",
    "        elif month==6:\n",
    "            days=30\n",
    "        elif month==7:\n",
    "            days=31\n",
    "        elif month==8:\n",
    "            days=31\n",
    "        elif month==9:\n",
    "            days=30\n",
    "        elif month==10:\n",
    "            days=31\n",
    "        elif month==11:\n",
    "            days=30\n",
    "        elif month==12:\n",
    "            days=31\n",
    "        elif isLeapYear(year) and month==2:\n",
    "            days=29\n",
    "        if isLeapYear(year):\n",
    "            daysinayear=days+366\n",
    "        else:\n",
    "            daysinayear=days+365\n",
    "        for month in range(month1, month2):\n",
    "            daysinamonth=daysinamonth+days\n",
    "        return\n",
    "        alldays=daysinamonth+daysinayear\n",
    "        print(alldays)\n",
    "\n",
    "    \n",
    "numberOfHours(5, 2019, 6, 2019)\n",
    "            "
   ]
  },
  {
   "cell_type": "code",
   "execution_count": 158,
   "metadata": {},
   "outputs": [
    {
     "name": "stdout",
     "output_type": "stream",
     "text": [
      "31 31 30 30 30 "
     ]
    }
   ],
   "source": [
    "#31 days - (month<=7 and month %2!=0 and month !=2)||(month >=8 and month %2=0)\n",
    "            #return 31\n",
    "        #else\n",
    "            #return 30\n",
    "def numberOfDays(month1, month2):\n",
    "    for month in range(month1, month2+1):\n",
    "        if month<=7 and month%2==0 and month!=2:\n",
    "            days=31\n",
    "            print(days, end=\" \")\n",
    "        elif month>=8 and month%2==0:\n",
    "            days=30\n",
    "            print(days, end=\" \")\n",
    "        \n",
    "numberOfDays(1, 12)"
   ]
  },
  {
   "cell_type": "code",
   "execution_count": 13,
   "metadata": {},
   "outputs": [
    {
     "data": {
      "text/plain": [
       "8.25"
      ]
     },
     "execution_count": 13,
     "metadata": {},
     "output_type": "execute_result"
    }
   ],
   "source": [
    "#Function to calculate average of all factorials in a given range\n",
    "def avgOfFactorials(lb, ub):\n",
    "    for n in range(lb, ub+1):\n",
    "        fact=1\n",
    "        avg=0\n",
    "        count=0\n",
    "        sum=0\n",
    "        for counter in range(1, n+1):\n",
    "            fact=counter*fact\n",
    "            sum=sum+fact\n",
    "    count=count+1\n",
    "    avg=sum/counter\n",
    "    #print(avg)\n",
    "    return avg\n",
    "avgOfFactorials(1, 4)"
   ]
  },
  {
   "cell_type": "code",
   "execution_count": null,
   "metadata": {},
   "outputs": [],
   "source": [
    "#Function to generate Number odd Armstrong numbers\n",
    "def armstrongNumber(n):\n",
    "    for n in range(1, n+1):\n",
    "        if "
   ]
  },
  {
   "cell_type": "code",
   "execution_count": null,
   "metadata": {},
   "outputs": [],
   "source": [
    "#Function to generate multiplication tables for a number in a given range\n",
    "def multiplication(n1,n2):\n",
    "    "
   ]
  }
 ],
 "metadata": {
  "kernelspec": {
   "display_name": "Python 3",
   "language": "python",
   "name": "python3"
  },
  "language_info": {
   "codemirror_mode": {
    "name": "ipython",
    "version": 3
   },
   "file_extension": ".py",
   "mimetype": "text/x-python",
   "name": "python",
   "nbconvert_exporter": "python",
   "pygments_lexer": "ipython3",
   "version": "3.7.3"
  }
 },
 "nbformat": 4,
 "nbformat_minor": 2
}
