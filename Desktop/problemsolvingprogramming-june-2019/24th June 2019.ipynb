{
 "cells": [
  {
   "cell_type": "code",
   "execution_count": 2,
   "metadata": {},
   "outputs": [],
   "source": [
    "#Contacts Application\n",
    "    #Add, Search, List, Modify, Delete\n",
    "\n",
    "#Find and Replace Application\n",
    "    #Counting the number of occurences of a word\n",
    "    #If a word is existing\n",
    "    #Replace all occurences of a word and replace it with another word\n",
    "\n",
    "# Marks Analysis Application\n",
    "    #Generate the marks file for n students - 'random.randInt(0, 100)'\n",
    "    #Input is marks text file - each line in text file contains marks of one student\n",
    "    #Generates a report with the following information\n",
    "        #Class Average\n",
    "        #Percentage of students passed\n",
    "        #Percentage of students failed\n",
    "        #Percentage of students with distinction"
   ]
  },
  {
   "cell_type": "code",
   "execution_count": 6,
   "metadata": {},
   "outputs": [],
   "source": [
    "#Function to generate marks data for n students\n",
    "from random import randint\n",
    "def generateMarks(n, lb, ub):\n",
    "    with open('DataFiles/marks.txt', 'w') as f:\n",
    "        for i in range(0, n):\n",
    "            r = randint(lb, ub)\n",
    "            f.write(str(r) + '\\n')\n",
    "    return\n",
    "generateMarks(9, 0, 25)"
   ]
  },
  {
   "cell_type": "code",
   "execution_count": 62,
   "metadata": {},
   "outputs": [
    {
     "name": "stdout",
     "output_type": "stream",
     "text": [
      "11rh1a0490\n",
      "{'1': 3, 'r': 1, 'h': 1, 'a': 1, '0': 2, '4': 1, '9': 1}\n",
      "dict_values([3, 1, 1, 1, 2, 1, 1]) "
     ]
    }
   ],
   "source": [
    "def digitFrequency(s):\n",
    "    li = s.strip()\n",
    "    l=len(s)\n",
    "    df={}\n",
    "    for i in li:\n",
    "        if i.isdigit() and i in df:\n",
    "            df[i]=df[i]+1\n",
    "        else:\n",
    "               df[i]=1\n",
    "    print(df)\n",
    "    print(df.values(), end=\" \")\n",
    "    for i in range(0, l):\n",
    "        if i in df:\n",
    "            print('Yes')\n",
    "            #print(df.values(i), end=\" \")\n",
    "        #else:\n",
    "            #print('0')\n",
    "s=input()\n",
    "digitFrequency(s)"
   ]
  },
  {
   "cell_type": "code",
   "execution_count": 61,
   "metadata": {},
   "outputs": [
    {
     "name": "stdout",
     "output_type": "stream",
     "text": [
      "=\n"
     ]
    },
    {
     "data": {
      "text/plain": [
       "False"
      ]
     },
     "execution_count": 61,
     "metadata": {},
     "output_type": "execute_result"
    }
   ],
   "source": [
    "n=input()\n",
    "n.isdigit()\n"
   ]
  },
  {
   "cell_type": "code",
   "execution_count": 54,
   "metadata": {},
   "outputs": [
    {
     "name": "stdout",
     "output_type": "stream",
     "text": [
      "sdjbkfq;adehrt20p957p4082170284urjfdnqCs:q\n",
      "3 1 3 0 2 1 0 2 2 1 "
     ]
    }
   ],
   "source": [
    "def digitFrequency1(s):\n",
    "    s=input()\n",
    "    for i in range(0,10):\n",
    "        print(s.count(str(i)),end=' ')\n",
    "digitFrequency1(s)"
   ]
  },
  {
   "cell_type": "code",
   "execution_count": 69,
   "metadata": {},
   "outputs": [
    {
     "name": "stdout",
     "output_type": "stream",
     "text": [
      "565ygv \n",
      "['5', '6', '5']\n"
     ]
    },
    {
     "ename": "RecursionError",
     "evalue": "maximum recursion depth exceeded",
     "output_type": "error",
     "traceback": [
      "\u001b[1;31m---------------------------------------------------------------------------\u001b[0m",
      "\u001b[1;31mRecursionError\u001b[0m                            Traceback (most recent call last)",
      "\u001b[1;32m<ipython-input-69-7a1201e0a7a6>\u001b[0m in \u001b[0;36m<module>\u001b[1;34m\u001b[0m\n\u001b[0;32m     20\u001b[0m             \u001b[0mprint\u001b[0m\u001b[1;33m(\u001b[0m\u001b[0mcount\u001b[0m\u001b[1;33m,\u001b[0m \u001b[0mend\u001b[0m\u001b[1;33m=\u001b[0m\u001b[1;34m' '\u001b[0m\u001b[1;33m)\u001b[0m\u001b[1;33m\u001b[0m\u001b[1;33m\u001b[0m\u001b[0m\n\u001b[0;32m     21\u001b[0m \u001b[0ms\u001b[0m\u001b[1;33m=\u001b[0m\u001b[0minput\u001b[0m\u001b[1;33m(\u001b[0m\u001b[1;33m)\u001b[0m\u001b[1;33m\u001b[0m\u001b[1;33m\u001b[0m\u001b[0m\n\u001b[1;32m---> 22\u001b[1;33m \u001b[0mdigitFrequency2\u001b[0m\u001b[1;33m(\u001b[0m\u001b[0ms\u001b[0m\u001b[1;33m)\u001b[0m\u001b[1;33m\u001b[0m\u001b[1;33m\u001b[0m\u001b[0m\n\u001b[0m",
      "\u001b[1;32m<ipython-input-69-7a1201e0a7a6>\u001b[0m in \u001b[0;36mdigitFrequency2\u001b[1;34m(s)\u001b[0m\n\u001b[0;32m     12\u001b[0m             \u001b[0mallnumbers\u001b[0m\u001b[1;33m.\u001b[0m\u001b[0mappend\u001b[0m\u001b[1;33m(\u001b[0m\u001b[0mi\u001b[0m\u001b[1;33m)\u001b[0m\u001b[1;33m\u001b[0m\u001b[1;33m\u001b[0m\u001b[0m\n\u001b[0;32m     13\u001b[0m     \u001b[0mprint\u001b[0m\u001b[1;33m(\u001b[0m\u001b[0mallnumbers\u001b[0m\u001b[1;33m)\u001b[0m\u001b[1;33m\u001b[0m\u001b[1;33m\u001b[0m\u001b[0m\n\u001b[1;32m---> 14\u001b[1;33m     \u001b[0muniqueData\u001b[0m\u001b[1;33m(\u001b[0m\u001b[0mallnumbers\u001b[0m\u001b[1;33m)\u001b[0m\u001b[1;33m\u001b[0m\u001b[1;33m\u001b[0m\u001b[0m\n\u001b[0m\u001b[0;32m     15\u001b[0m     \u001b[1;32mfor\u001b[0m \u001b[0mi\u001b[0m \u001b[1;32min\u001b[0m \u001b[0mrange\u001b[0m\u001b[1;33m(\u001b[0m\u001b[1;36m0\u001b[0m\u001b[1;33m,\u001b[0m \u001b[1;36m10\u001b[0m\u001b[1;33m)\u001b[0m\u001b[1;33m:\u001b[0m\u001b[1;33m\u001b[0m\u001b[1;33m\u001b[0m\u001b[0m\n\u001b[0;32m     16\u001b[0m         \u001b[1;32mif\u001b[0m \u001b[0mstr\u001b[0m\u001b[1;33m(\u001b[0m\u001b[0mi\u001b[0m\u001b[1;33m)\u001b[0m \u001b[1;32mnot\u001b[0m \u001b[1;32min\u001b[0m \u001b[0munique\u001b[0m\u001b[1;33m:\u001b[0m\u001b[1;33m\u001b[0m\u001b[1;33m\u001b[0m\u001b[0m\n",
      "\u001b[1;32m<ipython-input-69-7a1201e0a7a6>\u001b[0m in \u001b[0;36muniqueData\u001b[1;34m(allnumbers)\u001b[0m\n\u001b[0;32m      3\u001b[0m     \u001b[1;32mfor\u001b[0m \u001b[0mn\u001b[0m \u001b[1;32min\u001b[0m \u001b[0mallnumbers\u001b[0m\u001b[1;33m:\u001b[0m\u001b[1;33m\u001b[0m\u001b[1;33m\u001b[0m\u001b[0m\n\u001b[0;32m      4\u001b[0m         \u001b[1;32mif\u001b[0m \u001b[0mn\u001b[0m \u001b[1;32mnot\u001b[0m \u001b[1;32min\u001b[0m \u001b[0munique\u001b[0m\u001b[1;33m:\u001b[0m\u001b[1;33m\u001b[0m\u001b[1;33m\u001b[0m\u001b[0m\n\u001b[1;32m----> 5\u001b[1;33m             \u001b[0munique\u001b[0m\u001b[1;33m=\u001b[0m\u001b[0muniqueData\u001b[0m\u001b[1;33m(\u001b[0m\u001b[0mallnumbers\u001b[0m\u001b[1;33m)\u001b[0m\u001b[1;33m\u001b[0m\u001b[1;33m\u001b[0m\u001b[0m\n\u001b[0m\u001b[0;32m      6\u001b[0m         \u001b[1;32mreturn\u001b[0m \u001b[0munique\u001b[0m\u001b[1;33m\u001b[0m\u001b[1;33m\u001b[0m\u001b[0m\n\u001b[0;32m      7\u001b[0m \u001b[1;33m\u001b[0m\u001b[0m\n",
      "... last 1 frames repeated, from the frame below ...\n",
      "\u001b[1;32m<ipython-input-69-7a1201e0a7a6>\u001b[0m in \u001b[0;36muniqueData\u001b[1;34m(allnumbers)\u001b[0m\n\u001b[0;32m      3\u001b[0m     \u001b[1;32mfor\u001b[0m \u001b[0mn\u001b[0m \u001b[1;32min\u001b[0m \u001b[0mallnumbers\u001b[0m\u001b[1;33m:\u001b[0m\u001b[1;33m\u001b[0m\u001b[1;33m\u001b[0m\u001b[0m\n\u001b[0;32m      4\u001b[0m         \u001b[1;32mif\u001b[0m \u001b[0mn\u001b[0m \u001b[1;32mnot\u001b[0m \u001b[1;32min\u001b[0m \u001b[0munique\u001b[0m\u001b[1;33m:\u001b[0m\u001b[1;33m\u001b[0m\u001b[1;33m\u001b[0m\u001b[0m\n\u001b[1;32m----> 5\u001b[1;33m             \u001b[0munique\u001b[0m\u001b[1;33m=\u001b[0m\u001b[0muniqueData\u001b[0m\u001b[1;33m(\u001b[0m\u001b[0mallnumbers\u001b[0m\u001b[1;33m)\u001b[0m\u001b[1;33m\u001b[0m\u001b[1;33m\u001b[0m\u001b[0m\n\u001b[0m\u001b[0;32m      6\u001b[0m         \u001b[1;32mreturn\u001b[0m \u001b[0munique\u001b[0m\u001b[1;33m\u001b[0m\u001b[1;33m\u001b[0m\u001b[0m\n\u001b[0;32m      7\u001b[0m \u001b[1;33m\u001b[0m\u001b[0m\n",
      "\u001b[1;31mRecursionError\u001b[0m: maximum recursion depth exceeded"
     ]
    }
   ],
   "source": [
    "def uniqueData(allnumbers):\n",
    "    unique=[]\n",
    "    for n in allnumbers:\n",
    "        if n not in unique:\n",
    "            unique=uniqueData(allnumbers)\n",
    "        return unique\n",
    "\n",
    "def digitFrequency2(s):\n",
    "    allnumbers=[]\n",
    "    for i in s:\n",
    "        if i.isdigit():\n",
    "            allnumbers.append(i)\n",
    "    print(allnumbers)    \n",
    "    uniqueData(allnumbers)\n",
    "    for i in range(0, 10):\n",
    "        if str(i) not in unique:\n",
    "            print(0, end=\" \")\n",
    "        else:\n",
    "            count=allnumbers.count(str(i))\n",
    "            print(count, end=' ')\n",
    "s=input()\n",
    "digitFrequency2(s)"
   ]
  },
  {
   "cell_type": "code",
   "execution_count": 34,
   "metadata": {},
   "outputs": [
    {
     "name": "stdout",
     "output_type": "stream",
     "text": [
      "malavika,8374415682,manasapothula03@gmail.com\n",
      "manoj,8143525270,manasa.p@apssdc.in\n",
      "\n"
     ]
    }
   ],
   "source": [
    "\n",
    "with open('DataFiles/contacts.txt', 'r') as f:\n",
    "    filedata=f.read()\n",
    "    print(filedata)"
   ]
  },
  {
   "cell_type": "code",
   "execution_count": 43,
   "metadata": {},
   "outputs": [
    {
     "name": "stdout",
     "output_type": "stream",
     "text": [
      "malavika\n",
      "lakd\n",
      "adn\n",
      "{'malavika,8374415682,manasapothula03@gmail.com\\nmanoj,8143525270,manasa.p@apssdc.in\\n'}\n",
      "doesn't exist\n"
     ]
    }
   ],
   "source": [
    "def addContactsToFile(name, phone, email):\n",
    "    with open('DataFiles/contacts.txt', 'r') as f:\n",
    "        filedata=f.read()\n",
    "        data={filedata}\n",
    "        print(data)\n",
    "        if name in data:\n",
    "            print(name, phone, email)\n",
    "        else:\n",
    "            print(\"doesn't exist\")\n",
    "name=input()\n",
    "phone=input()\n",
    "email=input()\n",
    "addContactsToFile(name, phone, email)"
   ]
  },
  {
   "cell_type": "code",
   "execution_count": null,
   "metadata": {},
   "outputs": [],
   "source": []
  },
  {
   "cell_type": "code",
   "execution_count": null,
   "metadata": {},
   "outputs": [],
   "source": []
  }
 ],
 "metadata": {
  "kernelspec": {
   "display_name": "Python 3",
   "language": "python",
   "name": "python3"
  },
  "language_info": {
   "codemirror_mode": {
    "name": "ipython",
    "version": 3
   },
   "file_extension": ".py",
   "mimetype": "text/x-python",
   "name": "python",
   "nbconvert_exporter": "python",
   "pygments_lexer": "ipython3",
   "version": "3.7.3"
  }
 },
 "nbformat": 4,
 "nbformat_minor": 2
}
